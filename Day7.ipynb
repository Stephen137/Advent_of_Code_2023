{
 "cells": [
  {
   "cell_type": "markdown",
   "id": "dc41c1a4-7246-423a-94b8-94c8b6be5347",
   "metadata": {},
   "source": [
    "## Day 7: Camel Cards"
   ]
  },
  {
   "cell_type": "markdown",
   "id": "cd27fb10-e9bd-4839-a166-c19087a6b622",
   "metadata": {},
   "source": [
    "Your all-expenses-paid trip turns out to be a one-way, five-minute ride in an airship. (At least it's a cool airship!) It drops you off at the edge of a vast desert and descends back to Island Island.\n",
    "\n",
    "\"Did you bring the parts?\"\n",
    "\n",
    "You turn around to see an Elf completely covered in white clothing, wearing goggles, and riding a large camel.\n",
    "\n",
    "\"Did you bring the parts?\" she asks again, louder this time. You aren't sure what parts she's looking for; you're here to figure out why the sand stopped.\n",
    "\n",
    "\"The parts! For the sand, yes! Come with me; I will show you.\" She beckons you onto the camel.\n",
    "\n",
    "After riding a bit across the sands of Desert Island, you can see what look like very large rocks covering half of the horizon. The Elf explains that the rocks are all along the part of Desert Island that is directly above Island Island, making it hard to even get there. Normally, they use big machines to move the rocks and filter the sand, but the machines have broken down because Desert Island recently stopped receiving the parts they need to fix the machines.\n",
    "\n",
    "You've already assumed it'll be your job to figure out why the parts stopped when she asks if you can help. You agree automatically.\n",
    "\n",
    "Because the journey will take a few days, she offers to teach you the game of Camel Cards. Camel Cards is sort of similar to poker except it's designed to be easier to play while riding a camel.\n",
    "\n",
    "In Camel Cards, you get a list of hands, and your goal is to order them based on the strength of each hand. A hand consists of five cards labeled one of A, K, Q, J, T, 9, 8, 7, 6, 5, 4, 3, or 2. The relative strength of each card follows this order, where A is the highest and 2 is the lowest.\n",
    "\n",
    "Every hand is exactly one type. From strongest to weakest, they are:\n",
    "\n",
    "- Five of a kind, where all five cards have the same label: AAAAA\n",
    "- Four of a kind, where four cards have the same label and one card has a different label: AA8AA\n",
    "- Full house, where three cards have the same label, and the remaining two cards share a different label: 23332\n",
    "- Three of a kind, where three cards have the same label, and the remaining two cards are each different from any other card in the hand: TTT98\n",
    "- Two pair, where two cards share one label, two other cards share a second label, and the remaining card has a third label: 23432\n",
    "- One pair, where two cards share one label, and the other three cards have a different label from the pair and each other: A23A4\n",
    "- High card, where all cards' labels are distinct: 23456\n",
    "\n",
    "Hands are primarily ordered based on type; for example, every full house is stronger than any three of a kind.\n",
    "\n",
    "If two hands have the same type, a second ordering rule takes effect. Start by comparing the first card in each hand. If these cards are different, the hand with the stronger first card is considered stronger. If the first card in each hand have the same label, however, then move on to considering the second card in each hand. If they differ, the hand with the higher second card wins; otherwise, continue with the third card in each hand, then the fourth, then the fifth.\n",
    "\n",
    "So, 33332 and 2AAAA are both four of a kind hands, but 33332 is stronger because its first card is stronger. Similarly, 77888 and 77788 are both a full house, but 77888 is stronger because its third card is stronger (and both hands have the same first and second card).\n",
    "\n",
    "To play Camel Cards, you are given a list of hands and their corresponding bid (your puzzle input). For example:\n",
    "\n",
    "    32T3K 765\n",
    "    T55J5 684\n",
    "    KK677 28\n",
    "    KTJJT 220\n",
    "    QQQJA 483\n",
    "\n",
    "This example shows five hands; each hand is followed by its bid amount. Each hand wins an amount equal to its bid multiplied by its rank, where the weakest hand gets rank 1, the second-weakest hand gets rank 2, and so on up to the strongest hand. Because there are five hands in this example, the strongest hand will have rank 5 and its bid will be multiplied by 5.\n",
    "\n",
    "So, the first step is to put the hands in order of strength:\n",
    "\n",
    "- 32T3K is the only one pair and the other hands are all a stronger type, so it gets rank 1.\n",
    "- KK677 and KTJJT are both two pair. Their first cards both have the same label, but the second card of KK677 is stronger (K vs T), so KTJJT gets rank 2 and KK677 gets rank 3.\n",
    "- T55J5 and QQQJA are both three of a kind. QQQJA has a stronger first card, so it gets rank 5 and T55J5 gets rank 4.\n",
    "\n",
    "Now, you can determine the total winnings of this set of hands by adding up the result of multiplying each hand's bid with its rank (765 * 1 + 220 * 2 + 28 * 3 + 684 * 4 + 483 * 5). So the total winnings in this example are 6440.\n",
    "\n",
    "Find the rank of every hand in your set. What are the total winnings?"
   ]
  },
  {
   "cell_type": "markdown",
   "id": "973d5558-ac8e-47b2-a701-f9ca7f27d538",
   "metadata": {},
   "source": [
    "### Loading in the data and storing hands and bids data"
   ]
  },
  {
   "cell_type": "code",
   "execution_count": 1,
   "id": "61d6dc9d-fac7-4ad5-86b4-1d45983a2ae1",
   "metadata": {},
   "outputs": [],
   "source": [
    "# load in sample puzzle input\n",
    "file_path = 'data/camel_cards.txt' \n",
    "\n",
    "try:\n",
    "    with open(file_path, 'r') as file:\n",
    "        camel_cards = file.read()\n",
    "except FileNotFoundError:\n",
    "    print(f\"File not found: {file_path}\")\n",
    "    camel_cards = None"
   ]
  },
  {
   "cell_type": "code",
   "execution_count": 2,
   "id": "51426dbe-2ea3-4f45-abe7-f337d5c4cdfb",
   "metadata": {},
   "outputs": [],
   "source": [
    "lines = camel_cards.split('\\n')\n",
    "\n",
    "dealt = []\n",
    "bids = []\n",
    "\n",
    "for line in lines:\n",
    "    parts = line.split()\n",
    "    if len(parts) == 2:\n",
    "        deal = parts[0][:5]\n",
    "        dealt.append(deal)\n",
    "        bid = parts[1]\n",
    "        bids.append(bid)\n",
    "        #print(f\"Hand: {hands} Bid: {bid}\")\n",
    "    else:\n",
    "        print(f\"Invalid line: {line}\")"
   ]
  },
  {
   "cell_type": "code",
   "execution_count": 3,
   "id": "eebdfd11-0c02-40e0-8e74-b4d10cfbf68c",
   "metadata": {},
   "outputs": [],
   "source": [
    "#print(dealt)"
   ]
  },
  {
   "cell_type": "code",
   "execution_count": 4,
   "id": "296f3b42-71b1-4308-ad07-a98d5c1705e3",
   "metadata": {},
   "outputs": [],
   "source": [
    "zipped = zip(dealt, bids)\n",
    "bids = list(zipped)"
   ]
  },
  {
   "cell_type": "code",
   "execution_count": 5,
   "id": "75b97008-3781-4737-a69f-bfc06200688b",
   "metadata": {},
   "outputs": [],
   "source": [
    "#print(bids)"
   ]
  },
  {
   "cell_type": "code",
   "execution_count": 6,
   "id": "11c56708-60ad-4ce8-8aeb-9984b0e383b8",
   "metadata": {},
   "outputs": [],
   "source": [
    "hand_type_rank = {\n",
    "    'Five of a Kind': 1,\n",
    "    'Four of a Kind': 2,\n",
    "    'Full House': 3,\n",
    "    'Three of a Kind': 4,\n",
    "    'Two Pairs': 5,\n",
    "    'One Pair': 6,\n",
    "    'High Card': 7}"
   ]
  },
  {
   "cell_type": "code",
   "execution_count": 7,
   "id": "d834c9e4-2a3f-43dd-b745-fc0d502d37dc",
   "metadata": {},
   "outputs": [
    {
     "name": "stdout",
     "output_type": "stream",
     "text": [
      "[('Five of a Kind', 1), ('Four of a Kind', 2), ('Full House', 3), ('Three of a Kind', 4), ('Two Pairs', 5), ('One Pair', 6), ('High Card', 7)]\n"
     ]
    }
   ],
   "source": [
    "hand_type_rank_list = list(hand_type_rank.items())\n",
    "print(hand_type_rank_list)"
   ]
  },
  {
   "cell_type": "markdown",
   "id": "5ccb7c84-84c7-4ae3-9c77-ee4665e6701d",
   "metadata": {},
   "source": [
    "### Determining Hand Types"
   ]
  },
  {
   "cell_type": "code",
   "execution_count": 8,
   "id": "13295ac7-350e-4514-84a9-33d47ca807a4",
   "metadata": {},
   "outputs": [],
   "source": [
    "from collections import defaultdict \n",
    "\n",
    "def check_five_of_a_kind(hand):\n",
    "    values = [i[0] for i in hand]\n",
    "    value_counts = defaultdict(lambda: 0)\n",
    "    \n",
    "    for v in values:\n",
    "        value_counts[v] += 1\n",
    "\n",
    "    if any(count == 5 for count in value_counts.values()):\n",
    "        return True\n",
    "    return False\n",
    "\n",
    "def check_four_of_a_kind(hand):\n",
    "    values = [i[0] for i in hand]\n",
    "    value_counts = defaultdict(lambda:0)\n",
    "    for v in values:\n",
    "        value_counts[v]+=1\n",
    "    if sorted(value_counts.values()) == [1,4]:\n",
    "        return True\n",
    "    return False\n",
    "\n",
    "def check_full_house(hand):\n",
    "    values = [i[0] for i in hand]\n",
    "    value_counts = defaultdict(lambda:0)\n",
    "    for v in values:\n",
    "        value_counts[v]+=1\n",
    "    if sorted(value_counts.values()) == [2,3]:\n",
    "        return True\n",
    "    return False\n",
    "\n",
    "def check_three_of_a_kind(hand):\n",
    "    values = [i[0] for i in hand]\n",
    "    value_counts = defaultdict(lambda:0)\n",
    "    for v in values:\n",
    "        value_counts[v]+=1\n",
    "    if set(value_counts.values()) == set([3,1]):\n",
    "        return True\n",
    "    else:\n",
    "        return False\n",
    "\n",
    "def check_two_pairs(hand):\n",
    "    values = [i[0] for i in hand]\n",
    "    value_counts = defaultdict(lambda:0)\n",
    "    for v in values:\n",
    "        value_counts[v]+=1\n",
    "    if sorted(value_counts.values())==[1,2,2]:\n",
    "        return True\n",
    "    else:\n",
    "        return False\n",
    "\n",
    "def check_one_pair(hand):\n",
    "    values = [i[0] for i in hand]\n",
    "    value_counts = defaultdict(lambda:0)\n",
    "    for v in values:\n",
    "        value_counts[v]+=1\n",
    "    if 2 in value_counts.values():\n",
    "        return True\n",
    "    else:\n",
    "        return False\n",
    "    \n",
    "def check_hand(dealt):\n",
    "     \n",
    "    if check_five_of_a_kind(hand):\n",
    "        return hand_type_rank_list[0]\n",
    "           \n",
    "    if check_four_of_a_kind(hand):\n",
    "        return hand_type_rank_list[1]\n",
    "    \n",
    "    if check_full_house(hand):\n",
    "        return hand_type_rank_list[2]\n",
    "    \n",
    "    if check_three_of_a_kind(hand):\n",
    "        return hand_type_rank_list[3]\n",
    "    \n",
    "    if check_two_pairs(hand):\n",
    "        return hand_type_rank_list[4]\n",
    "    \n",
    "    if check_one_pair(hand):\n",
    "        return hand_type_rank_list[5]\n",
    "       \n",
    "    else:\n",
    "        return hand_type_rank_list[6]   \n",
    "    \n",
    "# Lists to store the results of each iteration\n",
    "final_results = []\n",
    "five_kind = []\n",
    "four_kind = []\n",
    "full_house = []\n",
    "three_kind = []\n",
    "two_pairs = []\n",
    "one_pair = []\n",
    "high_card = []\n",
    "\n",
    "# Loop through each hand in the list\n",
    "for hand in dealt:\n",
    "    hand_type = check_hand(hand)\n",
    "    if hand_type == hand_type_rank_list[0]:\n",
    "        five_kind.append(hand)\n",
    "    elif hand_type == hand_type_rank_list[1]:\n",
    "        four_kind.append(hand)\n",
    "    elif hand_type == hand_type_rank_list[2]:\n",
    "        full_house.append(hand)\n",
    "    elif hand_type == hand_type_rank_list[3]:\n",
    "        three_kind.append(hand)\n",
    "    elif hand_type == hand_type_rank_list[4]:\n",
    "        two_pairs.append(hand)\n",
    "    elif hand_type == hand_type_rank_list[5]:\n",
    "        one_pair.append(hand)\n",
    "    else:\n",
    "        high_card.append(hand)"
   ]
  },
  {
   "cell_type": "markdown",
   "id": "25ef98aa-91a8-4865-8f83-0258747aa221",
   "metadata": {},
   "source": [
    "### Additional level of ranking based on individual card values"
   ]
  },
  {
   "cell_type": "code",
   "execution_count": 9,
   "id": "808e2ddb-1145-40c5-8766-568f3dfa7744",
   "metadata": {},
   "outputs": [],
   "source": [
    "card_ranking_list = [('2', 13), ('3', 12), ('4', 11), ('5', 10), ('6', 9), ('7', 8), ('8', 7), ('9', 6), ('T', 5), ('J', 4), ('Q', 3), ('K', 2), ('A', 1)] \n",
    "\n",
    "def map_strings_to_rankings(input_strings, card_ranking_list):\n",
    "    result_list = []\n",
    "\n",
    "    for input_string in input_strings:\n",
    "        # Create a dictionary for mapping\n",
    "        card_ranking_dict = dict(card_ranking_list)\n",
    "\n",
    "        # Map each character to its integer value using list comprehension\n",
    "        mapped_values = [card_ranking_dict[char] for char in input_string]\n",
    "\n",
    "        # Calculate the cumulative sum of the mapped values\n",
    "        cumulative_values = [sum(mapped_values[:i + 1]) for i in range(len(mapped_values))]\n",
    "\n",
    "        # Create a dictionary to store the information\n",
    "        result_dict = {\n",
    "            'original_hand': input_string,\n",
    "            'mapped_rankings': mapped_values,\n",
    "            'cumulative_rankings': cumulative_values\n",
    "        }\n",
    "\n",
    "        result_list.append(result_dict)\n",
    "\n",
    "    # Sort the result list based on the cumulative_rankings at position 1 and then by the entire cumulative_rankings list\n",
    "    sorted_result_list = sorted(result_list, key=lambda x: (x['cumulative_rankings'][0], x['cumulative_rankings']), reverse=True)\n",
    "    \n",
    "\n",
    "    return sorted_result_list\n",
    "\n",
    "# Example usage for 'three_kind'\n",
    "\n",
    "result_five_kind = map_strings_to_rankings(five_kind, card_ranking_list)\n",
    "result_four_kind = map_strings_to_rankings(four_kind, card_ranking_list)\n",
    "result_full_house = map_strings_to_rankings(full_house, card_ranking_list)\n",
    "result_three_kind = map_strings_to_rankings(three_kind, card_ranking_list)\n",
    "result_two_pairs = map_strings_to_rankings(two_pairs, card_ranking_list)\n",
    "result_one_pair = map_strings_to_rankings(one_pair, card_ranking_list)\n",
    "result_high_card = map_strings_to_rankings(high_card, card_ranking_list)\n",
    "\n",
    "#print(\"5 of a kind:\", result_five_kind)\n",
    "#print(\"4 of a kind:\", result_four_kind)\n",
    "#print(\"Full house:\", result_full_house)\n",
    "#print(\"3 of a kind:\", result_three_kind)\n",
    "#print(\"2 pairs:\", result_two_pairs)\n",
    "#print(\"1 pair:\", result_one_pair)\n",
    "#print(\"High card:\", result_high_card)"
   ]
  },
  {
   "cell_type": "markdown",
   "id": "ff08b247-88dc-4c37-8583-22748752b476",
   "metadata": {},
   "source": [
    "### Concatenate the sorted hand type results together"
   ]
  },
  {
   "cell_type": "code",
   "execution_count": 10,
   "id": "773bad27-0974-4bac-93ec-6bc38347b4ba",
   "metadata": {},
   "outputs": [
    {
     "name": "stdout",
     "output_type": "stream",
     "text": [
      "[{'original_hand': '23J7Q', 'mapped_rankings': [13, 12, 4, 8, 3], 'cumulative_rankings': [13, 25, 29, 37, 40]}, {'original_hand': '246A7', 'mapped_rankings': [13, 11, 9, 1, 8], 'cumulative_rankings': [13, 24, 33, 34, 42]}, {'original_hand': '247QA', 'mapped_rankings': [13, 11, 8, 3, 1], 'cumulative_rankings': [13, 24, 32, 35, 36]}, {'original_hand': '25794', 'mapped_rankings': [13, 10, 8, 6, 11], 'cumulative_rankings': [13, 23, 31, 37, 48]}, {'original_hand': '27453', 'mapped_rankings': [13, 8, 11, 10, 12], 'cumulative_rankings': [13, 21, 32, 42, 54]}, {'original_hand': '27A89', 'mapped_rankings': [13, 8, 1, 7, 6], 'cumulative_rankings': [13, 21, 22, 29, 35]}, {'original_hand': '2876K', 'mapped_rankings': [13, 7, 8, 9, 2], 'cumulative_rankings': [13, 20, 28, 37, 39]}, {'original_hand': '28QAJ', 'mapped_rankings': [13, 7, 3, 1, 4], 'cumulative_rankings': [13, 20, 23, 24, 28]}, {'original_hand': '2T453', 'mapped_rankings': [13, 5, 11, 10, 12], 'cumulative_rankings': [13, 18, 29, 39, 51]}, {'original_hand': '2T735', 'mapped_rankings': [13, 5, 8, 12, 10], 'cumulative_rankings': [13, 18, 26, 38, 48]}, {'original_hand': '2T873', 'mapped_rankings': [13, 5, 7, 8, 12], 'cumulative_rankings': [13, 18, 25, 33, 45]}, {'original_hand': '2Q978', 'mapped_rankings': [13, 3, 6, 8, 7], 'cumulative_rankings': [13, 16, 22, 30, 37]}, {'original_hand': '2K634', 'mapped_rankings': [13, 2, 9, 12, 11], 'cumulative_rankings': [13, 15, 24, 36, 47]}, {'original_hand': '2K67J', 'mapped_rankings': [13, 2, 9, 8, 4], 'cumulative_rankings': [13, 15, 24, 32, 36]}, {'original_hand': '2AJ54', 'mapped_rankings': [13, 1, 4, 10, 11], 'cumulative_rankings': [13, 14, 18, 28, 39]}, {'original_hand': '32465', 'mapped_rankings': [12, 13, 11, 9, 10], 'cumulative_rankings': [12, 25, 36, 45, 55]}, {'original_hand': '32584', 'mapped_rankings': [12, 13, 10, 7, 11], 'cumulative_rankings': [12, 25, 35, 42, 53]}, {'original_hand': '329K6', 'mapped_rankings': [12, 13, 6, 2, 9], 'cumulative_rankings': [12, 25, 31, 33, 42]}, {'original_hand': '3548T', 'mapped_rankings': [12, 10, 11, 7, 5], 'cumulative_rankings': [12, 22, 33, 40, 45]}, {'original_hand': '357A2', 'mapped_rankings': [12, 10, 8, 1, 13], 'cumulative_rankings': [12, 22, 30, 31, 44]}, {'original_hand': '35976', 'mapped_rankings': [12, 10, 6, 8, 9], 'cumulative_rankings': [12, 22, 28, 36, 45]}, {'original_hand': '35QKJ', 'mapped_rankings': [12, 10, 3, 2, 4], 'cumulative_rankings': [12, 22, 25, 27, 31]}, {'original_hand': '36J9Q', 'mapped_rankings': [12, 9, 4, 6, 3], 'cumulative_rankings': [12, 21, 25, 31, 34]}, {'original_hand': '37T2A', 'mapped_rankings': [12, 8, 5, 13, 1], 'cumulative_rankings': [12, 20, 25, 38, 39]}, {'original_hand': '37KQ4', 'mapped_rankings': [12, 8, 2, 3, 11], 'cumulative_rankings': [12, 20, 22, 25, 36]}, {'original_hand': '387QK', 'mapped_rankings': [12, 7, 8, 3, 2], 'cumulative_rankings': [12, 19, 27, 30, 32]}, {'original_hand': '394JT', 'mapped_rankings': [12, 6, 11, 4, 5], 'cumulative_rankings': [12, 18, 29, 33, 38]}, {'original_hand': '3985A', 'mapped_rankings': [12, 6, 7, 10, 1], 'cumulative_rankings': [12, 18, 25, 35, 36]}, {'original_hand': '3TKJ7', 'mapped_rankings': [12, 5, 2, 4, 8], 'cumulative_rankings': [12, 17, 19, 23, 31]}, {'original_hand': '3J784', 'mapped_rankings': [12, 4, 8, 7, 11], 'cumulative_rankings': [12, 16, 24, 31, 42]}, {'original_hand': '3JT4K', 'mapped_rankings': [12, 4, 5, 11, 2], 'cumulative_rankings': [12, 16, 21, 32, 34]}, {'original_hand': '3K6TQ', 'mapped_rankings': [12, 2, 9, 5, 3], 'cumulative_rankings': [12, 14, 23, 28, 31]}, {'original_hand': '3K752', 'mapped_rankings': [12, 2, 8, 10, 13], 'cumulative_rankings': [12, 14, 22, 32, 45]}, {'original_hand': '3K827', 'mapped_rankings': [12, 2, 7, 13, 8], 'cumulative_rankings': [12, 14, 21, 34, 42]}, {'original_hand': '3K8T5', 'mapped_rankings': [12, 2, 7, 5, 10], 'cumulative_rankings': [12, 14, 21, 26, 36]}, {'original_hand': '3A4TQ', 'mapped_rankings': [12, 1, 11, 5, 3], 'cumulative_rankings': [12, 13, 24, 29, 32]}, {'original_hand': '428JQ', 'mapped_rankings': [11, 13, 7, 4, 3], 'cumulative_rankings': [11, 24, 31, 35, 38]}, {'original_hand': '42Q67', 'mapped_rankings': [11, 13, 3, 9, 8], 'cumulative_rankings': [11, 24, 27, 36, 44]}, {'original_hand': '43956', 'mapped_rankings': [11, 12, 6, 10, 9], 'cumulative_rankings': [11, 23, 29, 39, 48]}, {'original_hand': '453AQ', 'mapped_rankings': [11, 10, 12, 1, 3], 'cumulative_rankings': [11, 21, 33, 34, 37]}, {'original_hand': '463TQ', 'mapped_rankings': [11, 9, 12, 5, 3], 'cumulative_rankings': [11, 20, 32, 37, 40]}, {'original_hand': '46T27', 'mapped_rankings': [11, 9, 5, 13, 8], 'cumulative_rankings': [11, 20, 25, 38, 46]}, {'original_hand': '4T39K', 'mapped_rankings': [11, 5, 12, 6, 2], 'cumulative_rankings': [11, 16, 28, 34, 36]}, {'original_hand': '4J792', 'mapped_rankings': [11, 4, 8, 6, 13], 'cumulative_rankings': [11, 15, 23, 29, 42]}, {'original_hand': '4JQ53', 'mapped_rankings': [11, 4, 3, 10, 12], 'cumulative_rankings': [11, 15, 18, 28, 40]}, {'original_hand': '4Q26K', 'mapped_rankings': [11, 3, 13, 9, 2], 'cumulative_rankings': [11, 14, 27, 36, 38]}, {'original_hand': '4KQT6', 'mapped_rankings': [11, 2, 3, 5, 9], 'cumulative_rankings': [11, 13, 16, 21, 30]}, {'original_hand': '4A7J5', 'mapped_rankings': [11, 1, 8, 4, 10], 'cumulative_rankings': [11, 12, 20, 24, 34]}, {'original_hand': '53TQ7', 'mapped_rankings': [10, 12, 5, 3, 8], 'cumulative_rankings': [10, 22, 27, 30, 38]}, {'original_hand': '57JK4', 'mapped_rankings': [10, 8, 4, 2, 11], 'cumulative_rankings': [10, 18, 22, 24, 35]}, {'original_hand': '5873T', 'mapped_rankings': [10, 7, 8, 12, 5], 'cumulative_rankings': [10, 17, 25, 37, 42]}, {'original_hand': '58T39', 'mapped_rankings': [10, 7, 5, 12, 6], 'cumulative_rankings': [10, 17, 22, 34, 40]}, {'original_hand': '58J36', 'mapped_rankings': [10, 7, 4, 12, 9], 'cumulative_rankings': [10, 17, 21, 33, 42]}, {'original_hand': '59Q28', 'mapped_rankings': [10, 6, 3, 13, 7], 'cumulative_rankings': [10, 16, 19, 32, 39]}, {'original_hand': '59QA7', 'mapped_rankings': [10, 6, 3, 1, 8], 'cumulative_rankings': [10, 16, 19, 20, 28]}, {'original_hand': '5TQA8', 'mapped_rankings': [10, 5, 3, 1, 7], 'cumulative_rankings': [10, 15, 18, 19, 26]}, {'original_hand': '5Q76K', 'mapped_rankings': [10, 3, 8, 9, 2], 'cumulative_rankings': [10, 13, 21, 30, 32]}, {'original_hand': '5K8J4', 'mapped_rankings': [10, 2, 7, 4, 11], 'cumulative_rankings': [10, 12, 19, 23, 34]}, {'original_hand': '5A94Q', 'mapped_rankings': [10, 1, 6, 11, 3], 'cumulative_rankings': [10, 11, 17, 28, 31]}, {'original_hand': '5AQT4', 'mapped_rankings': [10, 1, 3, 5, 11], 'cumulative_rankings': [10, 11, 14, 19, 30]}, {'original_hand': '634K8', 'mapped_rankings': [9, 12, 11, 2, 7], 'cumulative_rankings': [9, 21, 32, 34, 41]}, {'original_hand': '63782', 'mapped_rankings': [9, 12, 8, 7, 13], 'cumulative_rankings': [9, 21, 29, 36, 49]}, {'original_hand': '647A3', 'mapped_rankings': [9, 11, 8, 1, 12], 'cumulative_rankings': [9, 20, 28, 29, 41]}, {'original_hand': '64875', 'mapped_rankings': [9, 11, 7, 8, 10], 'cumulative_rankings': [9, 20, 27, 35, 45]}, {'original_hand': '649J8', 'mapped_rankings': [9, 11, 6, 4, 7], 'cumulative_rankings': [9, 20, 26, 30, 37]}, {'original_hand': '64Q73', 'mapped_rankings': [9, 11, 3, 8, 12], 'cumulative_rankings': [9, 20, 23, 31, 43]}, {'original_hand': '64A75', 'mapped_rankings': [9, 11, 1, 8, 10], 'cumulative_rankings': [9, 20, 21, 29, 39]}, {'original_hand': '65A3Q', 'mapped_rankings': [9, 10, 1, 12, 3], 'cumulative_rankings': [9, 19, 20, 32, 35]}, {'original_hand': '692K7', 'mapped_rankings': [9, 6, 13, 2, 8], 'cumulative_rankings': [9, 15, 28, 30, 38]}, {'original_hand': '694T7', 'mapped_rankings': [9, 6, 11, 5, 8], 'cumulative_rankings': [9, 15, 26, 31, 39]}, {'original_hand': '6983J', 'mapped_rankings': [9, 6, 7, 12, 4], 'cumulative_rankings': [9, 15, 22, 34, 38]}, {'original_hand': '6T2A5', 'mapped_rankings': [9, 5, 13, 1, 10], 'cumulative_rankings': [9, 14, 27, 28, 38]}, {'original_hand': '6T734', 'mapped_rankings': [9, 5, 8, 12, 11], 'cumulative_rankings': [9, 14, 22, 34, 45]}, {'original_hand': '6J972', 'mapped_rankings': [9, 4, 6, 8, 13], 'cumulative_rankings': [9, 13, 19, 27, 40]}, {'original_hand': '6Q594', 'mapped_rankings': [9, 3, 10, 6, 11], 'cumulative_rankings': [9, 12, 22, 28, 39]}, {'original_hand': '6Q7KJ', 'mapped_rankings': [9, 3, 8, 2, 4], 'cumulative_rankings': [9, 12, 20, 22, 26]}, {'original_hand': '6Q84J', 'mapped_rankings': [9, 3, 7, 11, 4], 'cumulative_rankings': [9, 12, 19, 30, 34]}, {'original_hand': '6K372', 'mapped_rankings': [9, 2, 12, 8, 13], 'cumulative_rankings': [9, 11, 23, 31, 44]}, {'original_hand': '6KA98', 'mapped_rankings': [9, 2, 1, 6, 7], 'cumulative_rankings': [9, 11, 12, 18, 25]}, {'original_hand': '74K2J', 'mapped_rankings': [8, 11, 2, 13, 4], 'cumulative_rankings': [8, 19, 21, 34, 38]}, {'original_hand': '75JAT', 'mapped_rankings': [8, 10, 4, 1, 5], 'cumulative_rankings': [8, 18, 22, 23, 28]}, {'original_hand': '763AQ', 'mapped_rankings': [8, 9, 12, 1, 3], 'cumulative_rankings': [8, 17, 29, 30, 33]}, {'original_hand': '76T59', 'mapped_rankings': [8, 9, 5, 10, 6], 'cumulative_rankings': [8, 17, 22, 32, 38]}, {'original_hand': '76KA5', 'mapped_rankings': [8, 9, 2, 1, 10], 'cumulative_rankings': [8, 17, 19, 20, 30]}, {'original_hand': '782TA', 'mapped_rankings': [8, 7, 13, 5, 1], 'cumulative_rankings': [8, 15, 28, 33, 34]}, {'original_hand': '796QA', 'mapped_rankings': [8, 6, 9, 3, 1], 'cumulative_rankings': [8, 14, 23, 26, 27]}, {'original_hand': '79A26', 'mapped_rankings': [8, 6, 1, 13, 9], 'cumulative_rankings': [8, 14, 15, 28, 37]}, {'original_hand': '7T284', 'mapped_rankings': [8, 5, 13, 7, 11], 'cumulative_rankings': [8, 13, 26, 33, 44]}, {'original_hand': '7J36K', 'mapped_rankings': [8, 4, 12, 9, 2], 'cumulative_rankings': [8, 12, 24, 33, 35]}, {'original_hand': '7J49Q', 'mapped_rankings': [8, 4, 11, 6, 3], 'cumulative_rankings': [8, 12, 23, 29, 32]}, {'original_hand': '7JT42', 'mapped_rankings': [8, 4, 5, 11, 13], 'cumulative_rankings': [8, 12, 17, 28, 41]}, {'original_hand': '7K246', 'mapped_rankings': [8, 2, 13, 11, 9], 'cumulative_rankings': [8, 10, 23, 34, 43]}, {'original_hand': '7AT56', 'mapped_rankings': [8, 1, 5, 10, 9], 'cumulative_rankings': [8, 9, 14, 24, 33]}, {'original_hand': '82JK5', 'mapped_rankings': [7, 13, 4, 2, 10], 'cumulative_rankings': [7, 20, 24, 26, 36]}, {'original_hand': '8369Q', 'mapped_rankings': [7, 12, 9, 6, 3], 'cumulative_rankings': [7, 19, 28, 34, 37]}, {'original_hand': '83J5K', 'mapped_rankings': [7, 12, 4, 10, 2], 'cumulative_rankings': [7, 19, 23, 33, 35]}, {'original_hand': '8473A', 'mapped_rankings': [7, 11, 8, 12, 1], 'cumulative_rankings': [7, 18, 26, 38, 39]}, {'original_hand': '857Q3', 'mapped_rankings': [7, 10, 8, 3, 12], 'cumulative_rankings': [7, 17, 25, 28, 40]}, {'original_hand': '86T3J', 'mapped_rankings': [7, 9, 5, 12, 4], 'cumulative_rankings': [7, 16, 21, 33, 37]}, {'original_hand': '86A34', 'mapped_rankings': [7, 9, 1, 12, 11], 'cumulative_rankings': [7, 16, 17, 29, 40]}, {'original_hand': '87QTJ', 'mapped_rankings': [7, 8, 3, 5, 4], 'cumulative_rankings': [7, 15, 18, 23, 27]}, {'original_hand': '8942A', 'mapped_rankings': [7, 6, 11, 13, 1], 'cumulative_rankings': [7, 13, 24, 37, 38]}, {'original_hand': '8975A', 'mapped_rankings': [7, 6, 8, 10, 1], 'cumulative_rankings': [7, 13, 21, 31, 32]}, {'original_hand': '89AK4', 'mapped_rankings': [7, 6, 1, 2, 11], 'cumulative_rankings': [7, 13, 14, 16, 27]}, {'original_hand': '8T6KJ', 'mapped_rankings': [7, 5, 9, 2, 4], 'cumulative_rankings': [7, 12, 21, 23, 27]}, {'original_hand': '8QJT6', 'mapped_rankings': [7, 3, 4, 5, 9], 'cumulative_rankings': [7, 10, 14, 19, 28]}, {'original_hand': '8KA9J', 'mapped_rankings': [7, 2, 1, 6, 4], 'cumulative_rankings': [7, 9, 10, 16, 20]}, {'original_hand': '8A452', 'mapped_rankings': [7, 1, 11, 10, 13], 'cumulative_rankings': [7, 8, 19, 29, 42]}, {'original_hand': '8AJ75', 'mapped_rankings': [7, 1, 4, 8, 10], 'cumulative_rankings': [7, 8, 12, 20, 30]}, {'original_hand': '937JA', 'mapped_rankings': [6, 12, 8, 4, 1], 'cumulative_rankings': [6, 18, 26, 30, 31]}, {'original_hand': '938J5', 'mapped_rankings': [6, 12, 7, 4, 10], 'cumulative_rankings': [6, 18, 25, 29, 39]}, {'original_hand': '947JT', 'mapped_rankings': [6, 11, 8, 4, 5], 'cumulative_rankings': [6, 17, 25, 29, 34]}, {'original_hand': '94853', 'mapped_rankings': [6, 11, 7, 10, 12], 'cumulative_rankings': [6, 17, 24, 34, 46]}, {'original_hand': '9524K', 'mapped_rankings': [6, 10, 13, 11, 2], 'cumulative_rankings': [6, 16, 29, 40, 42]}, {'original_hand': '958K2', 'mapped_rankings': [6, 10, 7, 2, 13], 'cumulative_rankings': [6, 16, 23, 25, 38]}, {'original_hand': '95T8J', 'mapped_rankings': [6, 10, 5, 7, 4], 'cumulative_rankings': [6, 16, 21, 28, 32]}, {'original_hand': '963A2', 'mapped_rankings': [6, 9, 12, 1, 13], 'cumulative_rankings': [6, 15, 27, 28, 41]}, {'original_hand': '96A7K', 'mapped_rankings': [6, 9, 1, 8, 2], 'cumulative_rankings': [6, 15, 16, 24, 26]}, {'original_hand': '98J25', 'mapped_rankings': [6, 7, 4, 13, 10], 'cumulative_rankings': [6, 13, 17, 30, 40]}, {'original_hand': '9J347', 'mapped_rankings': [6, 4, 12, 11, 8], 'cumulative_rankings': [6, 10, 22, 33, 41]}, {'original_hand': '9JT68', 'mapped_rankings': [6, 4, 5, 9, 7], 'cumulative_rankings': [6, 10, 15, 24, 31]}, {'original_hand': '9Q743', 'mapped_rankings': [6, 3, 8, 11, 12], 'cumulative_rankings': [6, 9, 17, 28, 40]}, {'original_hand': '9K2JQ', 'mapped_rankings': [6, 2, 13, 4, 3], 'cumulative_rankings': [6, 8, 21, 25, 28]}, {'original_hand': '9K62A', 'mapped_rankings': [6, 2, 9, 13, 1], 'cumulative_rankings': [6, 8, 17, 30, 31]}, {'original_hand': '9KQ45', 'mapped_rankings': [6, 2, 3, 11, 10], 'cumulative_rankings': [6, 8, 11, 22, 32]}, {'original_hand': 'T2JQ8', 'mapped_rankings': [5, 13, 4, 3, 7], 'cumulative_rankings': [5, 18, 22, 25, 32]}, {'original_hand': 'T4J38', 'mapped_rankings': [5, 11, 4, 12, 7], 'cumulative_rankings': [5, 16, 20, 32, 39]}, {'original_hand': 'T538J', 'mapped_rankings': [5, 10, 12, 7, 4], 'cumulative_rankings': [5, 15, 27, 34, 38]}, {'original_hand': 'T57J9', 'mapped_rankings': [5, 10, 8, 4, 6], 'cumulative_rankings': [5, 15, 23, 27, 33]}, {'original_hand': 'T5936', 'mapped_rankings': [5, 10, 6, 12, 9], 'cumulative_rankings': [5, 15, 21, 33, 42]}, {'original_hand': 'T76Q9', 'mapped_rankings': [5, 8, 9, 3, 6], 'cumulative_rankings': [5, 13, 22, 25, 31]}, {'original_hand': 'T7Q4K', 'mapped_rankings': [5, 8, 3, 11, 2], 'cumulative_rankings': [5, 13, 16, 27, 29]}, {'original_hand': 'T9524', 'mapped_rankings': [5, 6, 10, 13, 11], 'cumulative_rankings': [5, 11, 21, 34, 45]}, {'original_hand': 'TQ746', 'mapped_rankings': [5, 3, 8, 11, 9], 'cumulative_rankings': [5, 8, 16, 27, 36]}, {'original_hand': 'TK783', 'mapped_rankings': [5, 2, 8, 7, 12], 'cumulative_rankings': [5, 7, 15, 22, 34]}, {'original_hand': 'TKQ4J', 'mapped_rankings': [5, 2, 3, 11, 4], 'cumulative_rankings': [5, 7, 10, 21, 25]}, {'original_hand': 'TKAQ5', 'mapped_rankings': [5, 2, 1, 3, 10], 'cumulative_rankings': [5, 7, 8, 11, 21]}, {'original_hand': 'TA76Q', 'mapped_rankings': [5, 1, 8, 9, 3], 'cumulative_rankings': [5, 6, 14, 23, 26]}, {'original_hand': 'J347A', 'mapped_rankings': [4, 12, 11, 8, 1], 'cumulative_rankings': [4, 16, 27, 35, 36]}, {'original_hand': 'J3596', 'mapped_rankings': [4, 12, 10, 6, 9], 'cumulative_rankings': [4, 16, 26, 32, 41]}, {'original_hand': 'J3T2Q', 'mapped_rankings': [4, 12, 5, 13, 3], 'cumulative_rankings': [4, 16, 21, 34, 37]}, {'original_hand': 'J48K3', 'mapped_rankings': [4, 11, 7, 2, 12], 'cumulative_rankings': [4, 15, 22, 24, 36]}, {'original_hand': 'J4T56', 'mapped_rankings': [4, 11, 5, 10, 9], 'cumulative_rankings': [4, 15, 20, 30, 39]}, {'original_hand': 'J76T3', 'mapped_rankings': [4, 8, 9, 5, 12], 'cumulative_rankings': [4, 12, 21, 26, 38]}, {'original_hand': 'J938K', 'mapped_rankings': [4, 6, 12, 7, 2], 'cumulative_rankings': [4, 10, 22, 29, 31]}, {'original_hand': 'JTQK8', 'mapped_rankings': [4, 5, 3, 2, 7], 'cumulative_rankings': [4, 9, 12, 14, 21]}, {'original_hand': 'Q274T', 'mapped_rankings': [3, 13, 8, 11, 5], 'cumulative_rankings': [3, 16, 24, 35, 40]}, {'original_hand': 'Q3594', 'mapped_rankings': [3, 12, 10, 6, 11], 'cumulative_rankings': [3, 15, 25, 31, 42]}, {'original_hand': 'Q36AT', 'mapped_rankings': [3, 12, 9, 1, 5], 'cumulative_rankings': [3, 15, 24, 25, 30]}, {'original_hand': 'Q3A85', 'mapped_rankings': [3, 12, 1, 7, 10], 'cumulative_rankings': [3, 15, 16, 23, 33]}, {'original_hand': 'Q453T', 'mapped_rankings': [3, 11, 10, 12, 5], 'cumulative_rankings': [3, 14, 24, 36, 41]}, {'original_hand': 'Q4852', 'mapped_rankings': [3, 11, 7, 10, 13], 'cumulative_rankings': [3, 14, 21, 31, 44]}, {'original_hand': 'Q49J2', 'mapped_rankings': [3, 11, 6, 4, 13], 'cumulative_rankings': [3, 14, 20, 24, 37]}, {'original_hand': 'Q63J5', 'mapped_rankings': [3, 9, 12, 4, 10], 'cumulative_rankings': [3, 12, 24, 28, 38]}, {'original_hand': 'Q6J73', 'mapped_rankings': [3, 9, 4, 8, 12], 'cumulative_rankings': [3, 12, 16, 24, 36]}, {'original_hand': 'Q72T8', 'mapped_rankings': [3, 8, 13, 5, 7], 'cumulative_rankings': [3, 11, 24, 29, 36]}, {'original_hand': 'Q76A4', 'mapped_rankings': [3, 8, 9, 1, 11], 'cumulative_rankings': [3, 11, 20, 21, 32]}, {'original_hand': 'Q8K49', 'mapped_rankings': [3, 7, 2, 11, 6], 'cumulative_rankings': [3, 10, 12, 23, 29]}, {'original_hand': 'Q8K57', 'mapped_rankings': [3, 7, 2, 10, 8], 'cumulative_rankings': [3, 10, 12, 22, 30]}, {'original_hand': 'Q8A4J', 'mapped_rankings': [3, 7, 1, 11, 4], 'cumulative_rankings': [3, 10, 11, 22, 26]}, {'original_hand': 'Q945T', 'mapped_rankings': [3, 6, 11, 10, 5], 'cumulative_rankings': [3, 9, 20, 30, 35]}, {'original_hand': 'Q9567', 'mapped_rankings': [3, 6, 10, 9, 8], 'cumulative_rankings': [3, 9, 19, 28, 36]}, {'original_hand': 'Q9J78', 'mapped_rankings': [3, 6, 4, 8, 7], 'cumulative_rankings': [3, 9, 13, 21, 28]}, {'original_hand': 'K28A6', 'mapped_rankings': [2, 13, 7, 1, 9], 'cumulative_rankings': [2, 15, 22, 23, 32]}, {'original_hand': 'K3Q46', 'mapped_rankings': [2, 12, 3, 11, 9], 'cumulative_rankings': [2, 14, 17, 28, 37]}, {'original_hand': 'K4A3J', 'mapped_rankings': [2, 11, 1, 12, 4], 'cumulative_rankings': [2, 13, 14, 26, 30]}, {'original_hand': 'K574Q', 'mapped_rankings': [2, 10, 8, 11, 3], 'cumulative_rankings': [2, 12, 20, 31, 34]}, {'original_hand': 'K5932', 'mapped_rankings': [2, 10, 6, 12, 13], 'cumulative_rankings': [2, 12, 18, 30, 43]}, {'original_hand': 'K5A82', 'mapped_rankings': [2, 10, 1, 7, 13], 'cumulative_rankings': [2, 12, 13, 20, 33]}, {'original_hand': 'K842J', 'mapped_rankings': [2, 7, 11, 13, 4], 'cumulative_rankings': [2, 9, 20, 33, 37]}, {'original_hand': 'K8469', 'mapped_rankings': [2, 7, 11, 9, 6], 'cumulative_rankings': [2, 9, 20, 29, 35]}, {'original_hand': 'K85T9', 'mapped_rankings': [2, 7, 10, 5, 6], 'cumulative_rankings': [2, 9, 19, 24, 30]}, {'original_hand': 'K8637', 'mapped_rankings': [2, 7, 9, 12, 8], 'cumulative_rankings': [2, 9, 18, 30, 38]}, {'original_hand': 'K9A2Q', 'mapped_rankings': [2, 6, 1, 13, 3], 'cumulative_rankings': [2, 8, 9, 22, 25]}, {'original_hand': 'KT6A4', 'mapped_rankings': [2, 5, 9, 1, 11], 'cumulative_rankings': [2, 7, 16, 17, 28]}, {'original_hand': 'KT986', 'mapped_rankings': [2, 5, 6, 7, 9], 'cumulative_rankings': [2, 7, 13, 20, 29]}, {'original_hand': 'KJ495', 'mapped_rankings': [2, 4, 11, 6, 10], 'cumulative_rankings': [2, 6, 17, 23, 33]}, {'original_hand': 'KJT5Q', 'mapped_rankings': [2, 4, 5, 10, 3], 'cumulative_rankings': [2, 6, 11, 21, 24]}, {'original_hand': 'KQ97T', 'mapped_rankings': [2, 3, 6, 8, 5], 'cumulative_rankings': [2, 5, 11, 19, 24]}, {'original_hand': 'KAT6J', 'mapped_rankings': [2, 1, 5, 9, 4], 'cumulative_rankings': [2, 3, 8, 17, 21]}, {'original_hand': 'A468K', 'mapped_rankings': [1, 11, 9, 7, 2], 'cumulative_rankings': [1, 12, 21, 28, 30]}, {'original_hand': 'A4KJ6', 'mapped_rankings': [1, 11, 2, 4, 9], 'cumulative_rankings': [1, 12, 14, 18, 27]}, {'original_hand': 'A5K83', 'mapped_rankings': [1, 10, 2, 7, 12], 'cumulative_rankings': [1, 11, 13, 20, 32]}, {'original_hand': 'A67J3', 'mapped_rankings': [1, 9, 8, 4, 12], 'cumulative_rankings': [1, 10, 18, 22, 34]}, {'original_hand': 'A7359', 'mapped_rankings': [1, 8, 12, 10, 6], 'cumulative_rankings': [1, 9, 21, 31, 37]}, {'original_hand': 'A749J', 'mapped_rankings': [1, 8, 11, 6, 4], 'cumulative_rankings': [1, 9, 20, 26, 30]}, {'original_hand': 'A8265', 'mapped_rankings': [1, 7, 13, 9, 10], 'cumulative_rankings': [1, 8, 21, 30, 40]}, {'original_hand': 'A8T69', 'mapped_rankings': [1, 7, 5, 9, 6], 'cumulative_rankings': [1, 8, 13, 22, 28]}, {'original_hand': 'AQ27K', 'mapped_rankings': [1, 3, 13, 8, 2], 'cumulative_rankings': [1, 4, 17, 25, 27]}, {'original_hand': 'AQ475', 'mapped_rankings': [1, 3, 11, 8, 10], 'cumulative_rankings': [1, 4, 15, 23, 33]}, {'original_hand': 'AK265', 'mapped_rankings': [1, 2, 13, 9, 10], 'cumulative_rankings': [1, 3, 16, 25, 35]}, {'original_hand': 'AK359', 'mapped_rankings': [1, 2, 12, 10, 6], 'cumulative_rankings': [1, 3, 15, 25, 31]}, {'original_hand': 'AK653', 'mapped_rankings': [1, 2, 9, 10, 12], 'cumulative_rankings': [1, 3, 12, 22, 34]}, {'original_hand': 'AK7Q4', 'mapped_rankings': [1, 2, 8, 3, 11], 'cumulative_rankings': [1, 3, 11, 14, 25]}, {'original_hand': 'AKT75', 'mapped_rankings': [1, 2, 5, 8, 10], 'cumulative_rankings': [1, 3, 8, 16, 26]}, {'original_hand': '22673', 'mapped_rankings': [13, 13, 9, 8, 12], 'cumulative_rankings': [13, 26, 35, 43, 55]}, {'original_hand': '22863', 'mapped_rankings': [13, 13, 7, 9, 12], 'cumulative_rankings': [13, 26, 33, 42, 54]}, {'original_hand': '22T9J', 'mapped_rankings': [13, 13, 5, 6, 4], 'cumulative_rankings': [13, 26, 31, 37, 41]}, {'original_hand': '22JT5', 'mapped_rankings': [13, 13, 4, 5, 10], 'cumulative_rankings': [13, 26, 30, 35, 45]}, {'original_hand': '23J77', 'mapped_rankings': [13, 12, 4, 8, 8], 'cumulative_rankings': [13, 25, 29, 37, 45]}, {'original_hand': '2445K', 'mapped_rankings': [13, 11, 11, 10, 2], 'cumulative_rankings': [13, 24, 35, 45, 47]}, {'original_hand': '24668', 'mapped_rankings': [13, 11, 9, 9, 7], 'cumulative_rankings': [13, 24, 33, 42, 49]}, {'original_hand': '24766', 'mapped_rankings': [13, 11, 8, 9, 9], 'cumulative_rankings': [13, 24, 32, 41, 50]}, {'original_hand': '258K8', 'mapped_rankings': [13, 10, 7, 2, 7], 'cumulative_rankings': [13, 23, 30, 32, 39]}, {'original_hand': '25KKJ', 'mapped_rankings': [13, 10, 2, 2, 4], 'cumulative_rankings': [13, 23, 25, 27, 31]}, {'original_hand': '2699J', 'mapped_rankings': [13, 9, 6, 6, 4], 'cumulative_rankings': [13, 22, 28, 34, 38]}, {'original_hand': '27K78', 'mapped_rankings': [13, 8, 2, 8, 7], 'cumulative_rankings': [13, 21, 23, 31, 38]}, {'original_hand': '28468', 'mapped_rankings': [13, 7, 11, 9, 7], 'cumulative_rankings': [13, 20, 31, 40, 47]}, {'original_hand': '28J5J', 'mapped_rankings': [13, 7, 4, 10, 4], 'cumulative_rankings': [13, 20, 24, 34, 38]}, {'original_hand': '2T998', 'mapped_rankings': [13, 5, 6, 6, 7], 'cumulative_rankings': [13, 18, 24, 30, 37]}, {'original_hand': '2TT5J', 'mapped_rankings': [13, 5, 5, 10, 4], 'cumulative_rankings': [13, 18, 23, 33, 37]}, {'original_hand': '2QJJ4', 'mapped_rankings': [13, 3, 4, 4, 11], 'cumulative_rankings': [13, 16, 20, 24, 35]}, {'original_hand': '2QAJ2', 'mapped_rankings': [13, 3, 1, 4, 13], 'cumulative_rankings': [13, 16, 17, 21, 34]}, {'original_hand': '2KA9A', 'mapped_rankings': [13, 2, 1, 6, 1], 'cumulative_rankings': [13, 15, 16, 22, 23]}, {'original_hand': '32K39', 'mapped_rankings': [12, 13, 2, 12, 6], 'cumulative_rankings': [12, 25, 27, 39, 45]}, {'original_hand': '33267', 'mapped_rankings': [12, 12, 13, 9, 8], 'cumulative_rankings': [12, 24, 37, 46, 54]}, {'original_hand': '33A26', 'mapped_rankings': [12, 12, 1, 13, 9], 'cumulative_rankings': [12, 24, 25, 38, 47]}, {'original_hand': '35873', 'mapped_rankings': [12, 10, 7, 8, 12], 'cumulative_rankings': [12, 22, 29, 37, 49]}, {'original_hand': '373Q8', 'mapped_rankings': [12, 8, 12, 3, 7], 'cumulative_rankings': [12, 20, 32, 35, 42]}, {'original_hand': '37QTQ', 'mapped_rankings': [12, 8, 3, 5, 3], 'cumulative_rankings': [12, 20, 23, 28, 31]}, {'original_hand': '39545', 'mapped_rankings': [12, 6, 10, 11, 10], 'cumulative_rankings': [12, 18, 28, 39, 49]}, {'original_hand': '3TA4A', 'mapped_rankings': [12, 5, 1, 11, 1], 'cumulative_rankings': [12, 17, 18, 29, 30]}, {'original_hand': '3J448', 'mapped_rankings': [12, 4, 11, 11, 7], 'cumulative_rankings': [12, 16, 27, 38, 45]}, {'original_hand': '3J522', 'mapped_rankings': [12, 4, 10, 13, 13], 'cumulative_rankings': [12, 16, 26, 39, 52]}, {'original_hand': '3JJ82', 'mapped_rankings': [12, 4, 4, 7, 13], 'cumulative_rankings': [12, 16, 20, 27, 40]}, {'original_hand': '3K3J5', 'mapped_rankings': [12, 2, 12, 4, 10], 'cumulative_rankings': [12, 14, 26, 30, 40]}, {'original_hand': '3A994', 'mapped_rankings': [12, 1, 6, 6, 11], 'cumulative_rankings': [12, 13, 19, 25, 36]}, {'original_hand': '42JA4', 'mapped_rankings': [11, 13, 4, 1, 11], 'cumulative_rankings': [11, 24, 28, 29, 40]}, {'original_hand': '43966', 'mapped_rankings': [11, 12, 6, 9, 9], 'cumulative_rankings': [11, 23, 29, 38, 47]}, {'original_hand': '4558K', 'mapped_rankings': [11, 10, 10, 7, 2], 'cumulative_rankings': [11, 21, 31, 38, 40]}, {'original_hand': '46AJ4', 'mapped_rankings': [11, 9, 1, 4, 11], 'cumulative_rankings': [11, 20, 21, 25, 36]}, {'original_hand': '4724Q', 'mapped_rankings': [11, 8, 13, 11, 3], 'cumulative_rankings': [11, 19, 32, 43, 46]}, {'original_hand': '477JK', 'mapped_rankings': [11, 8, 8, 4, 2], 'cumulative_rankings': [11, 19, 27, 31, 33]}, {'original_hand': '487AA', 'mapped_rankings': [11, 7, 8, 1, 1], 'cumulative_rankings': [11, 18, 26, 27, 28]}, {'original_hand': '492A9', 'mapped_rankings': [11, 6, 13, 1, 6], 'cumulative_rankings': [11, 17, 30, 31, 37]}, {'original_hand': '49854', 'mapped_rankings': [11, 6, 7, 10, 11], 'cumulative_rankings': [11, 17, 24, 34, 45]}, {'original_hand': '4J476', 'mapped_rankings': [11, 4, 11, 8, 9], 'cumulative_rankings': [11, 15, 26, 34, 43]}, {'original_hand': '4J8K4', 'mapped_rankings': [11, 4, 7, 2, 11], 'cumulative_rankings': [11, 15, 22, 24, 35]}, {'original_hand': '4Q3KK', 'mapped_rankings': [11, 3, 12, 2, 2], 'cumulative_rankings': [11, 14, 26, 28, 30]}, {'original_hand': '4QQ5K', 'mapped_rankings': [11, 3, 3, 10, 2], 'cumulative_rankings': [11, 14, 17, 27, 29]}, {'original_hand': '4KQ9K', 'mapped_rankings': [11, 2, 3, 6, 2], 'cumulative_rankings': [11, 13, 16, 22, 24]}, {'original_hand': '4KQQ9', 'mapped_rankings': [11, 2, 3, 3, 6], 'cumulative_rankings': [11, 13, 16, 19, 25]}, {'original_hand': '4A2AJ', 'mapped_rankings': [11, 1, 13, 1, 4], 'cumulative_rankings': [11, 12, 25, 26, 30]}, {'original_hand': '4A6A2', 'mapped_rankings': [11, 1, 9, 1, 13], 'cumulative_rankings': [11, 12, 21, 22, 35]}, {'original_hand': '52QJ2', 'mapped_rankings': [10, 13, 3, 4, 13], 'cumulative_rankings': [10, 23, 26, 30, 43]}, {'original_hand': '53Q73', 'mapped_rankings': [10, 12, 3, 8, 12], 'cumulative_rankings': [10, 22, 25, 33, 45]}, {'original_hand': '58474', 'mapped_rankings': [10, 7, 11, 8, 11], 'cumulative_rankings': [10, 17, 28, 36, 47]}, {'original_hand': '5898Q', 'mapped_rankings': [10, 7, 6, 7, 3], 'cumulative_rankings': [10, 17, 23, 30, 33]}, {'original_hand': '5954J', 'mapped_rankings': [10, 6, 10, 11, 4], 'cumulative_rankings': [10, 16, 26, 37, 41]}, {'original_hand': '5992J', 'mapped_rankings': [10, 6, 6, 13, 4], 'cumulative_rankings': [10, 16, 22, 35, 39]}, {'original_hand': '5T9K5', 'mapped_rankings': [10, 5, 6, 2, 10], 'cumulative_rankings': [10, 15, 21, 23, 33]}, {'original_hand': '5TT8K', 'mapped_rankings': [10, 5, 5, 7, 2], 'cumulative_rankings': [10, 15, 20, 27, 29]}, {'original_hand': '5J325', 'mapped_rankings': [10, 4, 12, 13, 10], 'cumulative_rankings': [10, 14, 26, 39, 49]}, {'original_hand': '5J5K9', 'mapped_rankings': [10, 4, 10, 2, 6], 'cumulative_rankings': [10, 14, 24, 26, 32]}, {'original_hand': '5JK88', 'mapped_rankings': [10, 4, 2, 7, 7], 'cumulative_rankings': [10, 14, 16, 23, 30]}, {'original_hand': '5Q425', 'mapped_rankings': [10, 3, 11, 13, 10], 'cumulative_rankings': [10, 13, 24, 37, 47]}, {'original_hand': '5QT35', 'mapped_rankings': [10, 3, 5, 12, 10], 'cumulative_rankings': [10, 13, 18, 30, 40]}, {'original_hand': '5A539', 'mapped_rankings': [10, 1, 10, 12, 6], 'cumulative_rankings': [10, 11, 21, 33, 39]}, {'original_hand': '5AQAT', 'mapped_rankings': [10, 1, 3, 1, 5], 'cumulative_rankings': [10, 11, 14, 15, 20]}, {'original_hand': '5AA73', 'mapped_rankings': [10, 1, 1, 8, 12], 'cumulative_rankings': [10, 11, 12, 20, 32]}, {'original_hand': '622J8', 'mapped_rankings': [9, 13, 13, 4, 7], 'cumulative_rankings': [9, 22, 35, 39, 46]}, {'original_hand': '64A43', 'mapped_rankings': [9, 11, 1, 11, 12], 'cumulative_rankings': [9, 20, 21, 32, 44]}, {'original_hand': '66423', 'mapped_rankings': [9, 9, 11, 13, 12], 'cumulative_rankings': [9, 18, 29, 42, 54]}, {'original_hand': '677J4', 'mapped_rankings': [9, 8, 8, 4, 11], 'cumulative_rankings': [9, 17, 25, 29, 40]}, {'original_hand': '67JJ2', 'mapped_rankings': [9, 8, 4, 4, 13], 'cumulative_rankings': [9, 17, 21, 25, 38]}, {'original_hand': '67KK8', 'mapped_rankings': [9, 8, 2, 2, 7], 'cumulative_rankings': [9, 17, 19, 21, 28]}, {'original_hand': '68J33', 'mapped_rankings': [9, 7, 4, 12, 12], 'cumulative_rankings': [9, 16, 20, 32, 44]}, {'original_hand': '6T7T9', 'mapped_rankings': [9, 5, 8, 5, 6], 'cumulative_rankings': [9, 14, 22, 27, 33]}, {'original_hand': '6T98T', 'mapped_rankings': [9, 5, 6, 7, 5], 'cumulative_rankings': [9, 14, 20, 27, 32]}, {'original_hand': '6TT73', 'mapped_rankings': [9, 5, 5, 8, 12], 'cumulative_rankings': [9, 14, 19, 27, 39]}, {'original_hand': '6J7QQ', 'mapped_rankings': [9, 4, 8, 3, 3], 'cumulative_rankings': [9, 13, 21, 24, 27]}, {'original_hand': '6J922', 'mapped_rankings': [9, 4, 6, 13, 13], 'cumulative_rankings': [9, 13, 19, 32, 45]}, {'original_hand': '6JQ4Q', 'mapped_rankings': [9, 4, 3, 11, 3], 'cumulative_rankings': [9, 13, 16, 27, 30]}, {'original_hand': '6JAA2', 'mapped_rankings': [9, 4, 1, 1, 13], 'cumulative_rankings': [9, 13, 14, 15, 28]}, {'original_hand': '6Q396', 'mapped_rankings': [9, 3, 12, 6, 9], 'cumulative_rankings': [9, 12, 24, 30, 39]}, {'original_hand': '6Q42Q', 'mapped_rankings': [9, 3, 11, 13, 3], 'cumulative_rankings': [9, 12, 23, 36, 39]}, {'original_hand': '6QT96', 'mapped_rankings': [9, 3, 5, 6, 9], 'cumulative_rankings': [9, 12, 17, 23, 32]}, {'original_hand': '6K768', 'mapped_rankings': [9, 2, 8, 9, 7], 'cumulative_rankings': [9, 11, 19, 28, 35]}, {'original_hand': '6K8J6', 'mapped_rankings': [9, 2, 7, 4, 9], 'cumulative_rankings': [9, 11, 18, 22, 31]}, {'original_hand': '6A79A', 'mapped_rankings': [9, 1, 8, 6, 1], 'cumulative_rankings': [9, 10, 18, 24, 25]}, {'original_hand': '728KK', 'mapped_rankings': [8, 13, 7, 2, 2], 'cumulative_rankings': [8, 21, 28, 30, 32]}, {'original_hand': '737JA', 'mapped_rankings': [8, 12, 8, 4, 1], 'cumulative_rankings': [8, 20, 28, 32, 33]}, {'original_hand': '7427K', 'mapped_rankings': [8, 11, 13, 8, 2], 'cumulative_rankings': [8, 19, 32, 40, 42]}, {'original_hand': '75A65', 'mapped_rankings': [8, 10, 1, 9, 10], 'cumulative_rankings': [8, 18, 19, 28, 38]}, {'original_hand': '76QQA', 'mapped_rankings': [8, 9, 3, 3, 1], 'cumulative_rankings': [8, 17, 20, 23, 24]}, {'original_hand': '774J9', 'mapped_rankings': [8, 8, 11, 4, 6], 'cumulative_rankings': [8, 16, 27, 31, 37]}, {'original_hand': '77T48', 'mapped_rankings': [8, 8, 5, 11, 7], 'cumulative_rankings': [8, 16, 21, 32, 39]}, {'original_hand': '78485', 'mapped_rankings': [8, 7, 11, 7, 10], 'cumulative_rankings': [8, 15, 26, 33, 43]}, {'original_hand': '787Q5', 'mapped_rankings': [8, 7, 8, 3, 10], 'cumulative_rankings': [8, 15, 23, 26, 36]}, {'original_hand': '79J7Q', 'mapped_rankings': [8, 6, 4, 8, 3], 'cumulative_rankings': [8, 14, 18, 26, 29]}, {'original_hand': '7J2JT', 'mapped_rankings': [8, 4, 13, 4, 5], 'cumulative_rankings': [8, 12, 25, 29, 34]}, {'original_hand': '7J332', 'mapped_rankings': [8, 4, 12, 12, 13], 'cumulative_rankings': [8, 12, 24, 36, 49]}, {'original_hand': '7Q87J', 'mapped_rankings': [8, 3, 7, 8, 4], 'cumulative_rankings': [8, 11, 18, 26, 30]}, {'original_hand': '7K7A4', 'mapped_rankings': [8, 2, 8, 1, 11], 'cumulative_rankings': [8, 10, 18, 19, 30]}, {'original_hand': '7A8JJ', 'mapped_rankings': [8, 1, 7, 4, 4], 'cumulative_rankings': [8, 9, 16, 20, 24]}, {'original_hand': '7A992', 'mapped_rankings': [8, 1, 6, 6, 13], 'cumulative_rankings': [8, 9, 15, 21, 34]}, {'original_hand': '829K9', 'mapped_rankings': [7, 13, 6, 2, 6], 'cumulative_rankings': [7, 20, 26, 28, 34]}, {'original_hand': '833Q4', 'mapped_rankings': [7, 12, 12, 3, 11], 'cumulative_rankings': [7, 19, 31, 34, 45]}, {'original_hand': '838Q9', 'mapped_rankings': [7, 12, 7, 3, 6], 'cumulative_rankings': [7, 19, 26, 29, 35]}, {'original_hand': '848J6', 'mapped_rankings': [7, 11, 7, 4, 9], 'cumulative_rankings': [7, 18, 25, 29, 38]}, {'original_hand': '84929', 'mapped_rankings': [7, 11, 6, 13, 6], 'cumulative_rankings': [7, 18, 24, 37, 43]}, {'original_hand': '84K24', 'mapped_rankings': [7, 11, 2, 13, 11], 'cumulative_rankings': [7, 18, 20, 33, 44]}, {'original_hand': '855K3', 'mapped_rankings': [7, 10, 10, 2, 12], 'cumulative_rankings': [7, 17, 27, 29, 41]}, {'original_hand': '85Q45', 'mapped_rankings': [7, 10, 3, 11, 10], 'cumulative_rankings': [7, 17, 20, 31, 41]}, {'original_hand': '85Q78', 'mapped_rankings': [7, 10, 3, 8, 7], 'cumulative_rankings': [7, 17, 20, 28, 35]}, {'original_hand': '85QQ4', 'mapped_rankings': [7, 10, 3, 3, 11], 'cumulative_rankings': [7, 17, 20, 23, 34]}, {'original_hand': '86Q22', 'mapped_rankings': [7, 9, 3, 13, 13], 'cumulative_rankings': [7, 16, 19, 32, 45]}, {'original_hand': '87598', 'mapped_rankings': [7, 8, 10, 6, 7], 'cumulative_rankings': [7, 15, 25, 31, 38]}, {'original_hand': '8768J', 'mapped_rankings': [7, 8, 9, 7, 4], 'cumulative_rankings': [7, 15, 24, 31, 35]}, {'original_hand': '8852Q', 'mapped_rankings': [7, 7, 10, 13, 3], 'cumulative_rankings': [7, 14, 24, 37, 40]}, {'original_hand': '8J68A', 'mapped_rankings': [7, 4, 9, 7, 1], 'cumulative_rankings': [7, 11, 20, 27, 28]}, {'original_hand': '8Q696', 'mapped_rankings': [7, 3, 9, 6, 9], 'cumulative_rankings': [7, 10, 19, 25, 34]}, {'original_hand': '8Q799', 'mapped_rankings': [7, 3, 8, 6, 6], 'cumulative_rankings': [7, 10, 18, 24, 30]}, {'original_hand': '8Q85K', 'mapped_rankings': [7, 3, 7, 10, 2], 'cumulative_rankings': [7, 10, 17, 27, 29]}, {'original_hand': '8A485', 'mapped_rankings': [7, 1, 11, 7, 10], 'cumulative_rankings': [7, 8, 19, 26, 36]}, {'original_hand': '9459T', 'mapped_rankings': [6, 11, 10, 6, 5], 'cumulative_rankings': [6, 17, 27, 33, 38]}, {'original_hand': '94T64', 'mapped_rankings': [6, 11, 5, 9, 11], 'cumulative_rankings': [6, 17, 22, 31, 42]}, {'original_hand': '95K5Q', 'mapped_rankings': [6, 10, 2, 10, 3], 'cumulative_rankings': [6, 16, 18, 28, 31]}, {'original_hand': '96924', 'mapped_rankings': [6, 9, 6, 13, 11], 'cumulative_rankings': [6, 15, 21, 34, 45]}, {'original_hand': '9697T', 'mapped_rankings': [6, 9, 6, 8, 5], 'cumulative_rankings': [6, 15, 21, 29, 34]}, {'original_hand': '98596', 'mapped_rankings': [6, 7, 10, 6, 9], 'cumulative_rankings': [6, 13, 23, 29, 38]}, {'original_hand': '98852', 'mapped_rankings': [6, 7, 7, 10, 13], 'cumulative_rankings': [6, 13, 20, 30, 43]}, {'original_hand': '99JQ4', 'mapped_rankings': [6, 6, 4, 3, 11], 'cumulative_rankings': [6, 12, 16, 19, 30]}, {'original_hand': '9J59K', 'mapped_rankings': [6, 4, 10, 6, 2], 'cumulative_rankings': [6, 10, 20, 26, 28]}, {'original_hand': '9J697', 'mapped_rankings': [6, 4, 9, 6, 8], 'cumulative_rankings': [6, 10, 19, 25, 33]}, {'original_hand': '9JT44', 'mapped_rankings': [6, 4, 5, 11, 11], 'cumulative_rankings': [6, 10, 15, 26, 37]}, {'original_hand': '9JKK7', 'mapped_rankings': [6, 4, 2, 2, 8], 'cumulative_rankings': [6, 10, 12, 14, 22]}, {'original_hand': '9Q2T2', 'mapped_rankings': [6, 3, 13, 5, 13], 'cumulative_rankings': [6, 9, 22, 27, 40]}, {'original_hand': '9K58K', 'mapped_rankings': [6, 2, 10, 7, 2], 'cumulative_rankings': [6, 8, 18, 25, 27]}, {'original_hand': '9A7A5', 'mapped_rankings': [6, 1, 8, 1, 10], 'cumulative_rankings': [6, 7, 15, 16, 26]}, {'original_hand': '9A7AJ', 'mapped_rankings': [6, 1, 8, 1, 4], 'cumulative_rankings': [6, 7, 15, 16, 20]}, {'original_hand': '9A833', 'mapped_rankings': [6, 1, 7, 12, 12], 'cumulative_rankings': [6, 7, 14, 26, 38]}, {'original_hand': '9AK97', 'mapped_rankings': [6, 1, 2, 6, 8], 'cumulative_rankings': [6, 7, 9, 15, 23]}, {'original_hand': 'T226K', 'mapped_rankings': [5, 13, 13, 9, 2], 'cumulative_rankings': [5, 18, 31, 40, 42]}, {'original_hand': 'T2JQQ', 'mapped_rankings': [5, 13, 4, 3, 3], 'cumulative_rankings': [5, 18, 22, 25, 28]}, {'original_hand': 'T498T', 'mapped_rankings': [5, 11, 6, 7, 5], 'cumulative_rankings': [5, 16, 22, 29, 34]}, {'original_hand': 'T5J53', 'mapped_rankings': [5, 10, 4, 10, 12], 'cumulative_rankings': [5, 15, 19, 29, 41]}, {'original_hand': 'T737A', 'mapped_rankings': [5, 8, 12, 8, 1], 'cumulative_rankings': [5, 13, 25, 33, 34]}, {'original_hand': 'T7T8K', 'mapped_rankings': [5, 8, 5, 7, 2], 'cumulative_rankings': [5, 13, 18, 25, 27]}, {'original_hand': 'T8Q5Q', 'mapped_rankings': [5, 7, 3, 10, 3], 'cumulative_rankings': [5, 12, 15, 25, 28]}, {'original_hand': 'T9KJT', 'mapped_rankings': [5, 6, 2, 4, 5], 'cumulative_rankings': [5, 11, 13, 17, 22]}, {'original_hand': 'TT3A4', 'mapped_rankings': [5, 5, 12, 1, 11], 'cumulative_rankings': [5, 10, 22, 23, 34]}, {'original_hand': 'TTJ6K', 'mapped_rankings': [5, 5, 4, 9, 2], 'cumulative_rankings': [5, 10, 14, 23, 25]}, {'original_hand': 'TJ6KK', 'mapped_rankings': [5, 4, 9, 2, 2], 'cumulative_rankings': [5, 9, 18, 20, 22]}, {'original_hand': 'TJ7KJ', 'mapped_rankings': [5, 4, 8, 2, 4], 'cumulative_rankings': [5, 9, 17, 19, 23]}, {'original_hand': 'TJA66', 'mapped_rankings': [5, 4, 1, 9, 9], 'cumulative_rankings': [5, 9, 10, 19, 28]}, {'original_hand': 'TQ96Q', 'mapped_rankings': [5, 3, 6, 9, 3], 'cumulative_rankings': [5, 8, 14, 23, 26]}, {'original_hand': 'TAT2Q', 'mapped_rankings': [5, 1, 5, 13, 3], 'cumulative_rankings': [5, 6, 11, 24, 27]}, {'original_hand': 'TAT52', 'mapped_rankings': [5, 1, 5, 10, 13], 'cumulative_rankings': [5, 6, 11, 21, 34]}, {'original_hand': 'J2362', 'mapped_rankings': [4, 13, 12, 9, 13], 'cumulative_rankings': [4, 17, 29, 38, 51]}, {'original_hand': 'J2767', 'mapped_rankings': [4, 13, 8, 9, 8], 'cumulative_rankings': [4, 17, 25, 34, 42]}, {'original_hand': 'J2TJ4', 'mapped_rankings': [4, 13, 5, 4, 11], 'cumulative_rankings': [4, 17, 22, 26, 37]}, {'original_hand': 'J424T', 'mapped_rankings': [4, 11, 13, 11, 5], 'cumulative_rankings': [4, 15, 28, 39, 44]}, {'original_hand': 'J44K7', 'mapped_rankings': [4, 11, 11, 2, 8], 'cumulative_rankings': [4, 15, 26, 28, 36]}, {'original_hand': 'J5856', 'mapped_rankings': [4, 10, 7, 10, 9], 'cumulative_rankings': [4, 14, 21, 31, 40]}, {'original_hand': 'J6396', 'mapped_rankings': [4, 9, 12, 6, 9], 'cumulative_rankings': [4, 13, 25, 31, 40]}, {'original_hand': 'J64AA', 'mapped_rankings': [4, 9, 11, 1, 1], 'cumulative_rankings': [4, 13, 24, 25, 26]}, {'original_hand': 'J6643', 'mapped_rankings': [4, 9, 9, 11, 12], 'cumulative_rankings': [4, 13, 22, 33, 45]}, {'original_hand': 'J7K7A', 'mapped_rankings': [4, 8, 2, 8, 1], 'cumulative_rankings': [4, 12, 14, 22, 23]}, {'original_hand': 'J8K2K', 'mapped_rankings': [4, 7, 2, 13, 2], 'cumulative_rankings': [4, 11, 13, 26, 28]}, {'original_hand': 'J99T2', 'mapped_rankings': [4, 6, 6, 5, 13], 'cumulative_rankings': [4, 10, 16, 21, 34]}, {'original_hand': 'J99A4', 'mapped_rankings': [4, 6, 6, 1, 11], 'cumulative_rankings': [4, 10, 16, 17, 28]}, {'original_hand': 'JTQT2', 'mapped_rankings': [4, 5, 3, 5, 13], 'cumulative_rankings': [4, 9, 12, 17, 30]}, {'original_hand': 'JTAT8', 'mapped_rankings': [4, 5, 1, 5, 7], 'cumulative_rankings': [4, 9, 10, 15, 22]}, {'original_hand': 'JJ6K4', 'mapped_rankings': [4, 4, 9, 2, 11], 'cumulative_rankings': [4, 8, 17, 19, 30]}, {'original_hand': 'JQ663', 'mapped_rankings': [4, 3, 9, 9, 12], 'cumulative_rankings': [4, 7, 16, 25, 37]}, {'original_hand': 'JQQ75', 'mapped_rankings': [4, 3, 3, 8, 10], 'cumulative_rankings': [4, 7, 10, 18, 28]}, {'original_hand': 'JK2T2', 'mapped_rankings': [4, 2, 13, 5, 13], 'cumulative_rankings': [4, 6, 19, 24, 37]}, {'original_hand': 'JA37A', 'mapped_rankings': [4, 1, 12, 8, 1], 'cumulative_rankings': [4, 5, 17, 25, 26]}, {'original_hand': 'JAQJ8', 'mapped_rankings': [4, 1, 3, 4, 7], 'cumulative_rankings': [4, 5, 8, 12, 19]}, {'original_hand': 'Q33KT', 'mapped_rankings': [3, 12, 12, 2, 5], 'cumulative_rankings': [3, 15, 27, 29, 34]}, {'original_hand': 'Q33A5', 'mapped_rankings': [3, 12, 12, 1, 10], 'cumulative_rankings': [3, 15, 27, 28, 38]}, {'original_hand': 'Q33A6', 'mapped_rankings': [3, 12, 12, 1, 9], 'cumulative_rankings': [3, 15, 27, 28, 37]}, {'original_hand': 'Q373T', 'mapped_rankings': [3, 12, 8, 12, 5], 'cumulative_rankings': [3, 15, 23, 35, 40]}, {'original_hand': 'Q3932', 'mapped_rankings': [3, 12, 6, 12, 13], 'cumulative_rankings': [3, 15, 21, 33, 46]}, {'original_hand': 'Q3J93', 'mapped_rankings': [3, 12, 4, 6, 12], 'cumulative_rankings': [3, 15, 19, 25, 37]}, {'original_hand': 'Q4QKJ', 'mapped_rankings': [3, 11, 3, 2, 4], 'cumulative_rankings': [3, 14, 17, 19, 23]}, {'original_hand': 'Q5J5K', 'mapped_rankings': [3, 10, 4, 10, 2], 'cumulative_rankings': [3, 13, 17, 27, 29]}, {'original_hand': 'Q66J7', 'mapped_rankings': [3, 9, 9, 4, 8], 'cumulative_rankings': [3, 12, 21, 25, 33]}, {'original_hand': 'Q6QK7', 'mapped_rankings': [3, 9, 3, 2, 8], 'cumulative_rankings': [3, 12, 15, 17, 25]}, {'original_hand': 'Q86T8', 'mapped_rankings': [3, 7, 9, 5, 7], 'cumulative_rankings': [3, 10, 19, 24, 31]}, {'original_hand': 'Q9KQ2', 'mapped_rankings': [3, 6, 2, 3, 13], 'cumulative_rankings': [3, 9, 11, 14, 27]}, {'original_hand': 'QT383', 'mapped_rankings': [3, 5, 12, 7, 12], 'cumulative_rankings': [3, 8, 20, 27, 39]}, {'original_hand': 'QT7AT', 'mapped_rankings': [3, 5, 8, 1, 5], 'cumulative_rankings': [3, 8, 16, 17, 22]}, {'original_hand': 'QJ399', 'mapped_rankings': [3, 4, 12, 6, 6], 'cumulative_rankings': [3, 7, 19, 25, 31]}, {'original_hand': 'QJ6J8', 'mapped_rankings': [3, 4, 9, 4, 7], 'cumulative_rankings': [3, 7, 16, 20, 27]}, {'original_hand': 'QJTAA', 'mapped_rankings': [3, 4, 5, 1, 1], 'cumulative_rankings': [3, 7, 12, 13, 14]}, {'original_hand': 'QJK3J', 'mapped_rankings': [3, 4, 2, 12, 4], 'cumulative_rankings': [3, 7, 9, 21, 25]}, {'original_hand': 'QQ3J2', 'mapped_rankings': [3, 3, 12, 4, 13], 'cumulative_rankings': [3, 6, 18, 22, 35]}, {'original_hand': 'QQ5T7', 'mapped_rankings': [3, 3, 10, 5, 8], 'cumulative_rankings': [3, 6, 16, 21, 29]}, {'original_hand': 'QQ794', 'mapped_rankings': [3, 3, 8, 6, 11], 'cumulative_rankings': [3, 6, 14, 20, 31]}, {'original_hand': 'QQK3J', 'mapped_rankings': [3, 3, 2, 12, 4], 'cumulative_rankings': [3, 6, 8, 20, 24]}, {'original_hand': 'QQAJ4', 'mapped_rankings': [3, 3, 1, 4, 11], 'cumulative_rankings': [3, 6, 7, 11, 22]}, {'original_hand': 'QK6K9', 'mapped_rankings': [3, 2, 9, 2, 6], 'cumulative_rankings': [3, 5, 14, 16, 22]}, {'original_hand': 'QKK3J', 'mapped_rankings': [3, 2, 2, 12, 4], 'cumulative_rankings': [3, 5, 7, 19, 23]}, {'original_hand': 'QA3T3', 'mapped_rankings': [3, 1, 12, 5, 12], 'cumulative_rankings': [3, 4, 16, 21, 33]}, {'original_hand': 'QA44T', 'mapped_rankings': [3, 1, 11, 11, 5], 'cumulative_rankings': [3, 4, 15, 26, 31]}, {'original_hand': 'QA8A7', 'mapped_rankings': [3, 1, 7, 1, 8], 'cumulative_rankings': [3, 4, 11, 12, 20]}, {'original_hand': 'K249K', 'mapped_rankings': [2, 13, 11, 6, 2], 'cumulative_rankings': [2, 15, 26, 32, 34]}, {'original_hand': 'K2988', 'mapped_rankings': [2, 13, 6, 7, 7], 'cumulative_rankings': [2, 15, 21, 28, 35]}, {'original_hand': 'K2JTT', 'mapped_rankings': [2, 13, 4, 5, 5], 'cumulative_rankings': [2, 15, 19, 24, 29]}, {'original_hand': 'K2K4J', 'mapped_rankings': [2, 13, 2, 11, 4], 'cumulative_rankings': [2, 15, 17, 28, 32]}, {'original_hand': 'K3237', 'mapped_rankings': [2, 12, 13, 12, 8], 'cumulative_rankings': [2, 14, 27, 39, 47]}, {'original_hand': 'K3477', 'mapped_rankings': [2, 12, 11, 8, 8], 'cumulative_rankings': [2, 14, 25, 33, 41]}, {'original_hand': 'K3K7J', 'mapped_rankings': [2, 12, 2, 8, 4], 'cumulative_rankings': [2, 14, 16, 24, 28]}, {'original_hand': 'K4654', 'mapped_rankings': [2, 11, 9, 10, 11], 'cumulative_rankings': [2, 13, 22, 32, 43]}, {'original_hand': 'K566T', 'mapped_rankings': [2, 10, 9, 9, 5], 'cumulative_rankings': [2, 12, 21, 30, 35]}, {'original_hand': 'K68QK', 'mapped_rankings': [2, 9, 7, 3, 2], 'cumulative_rankings': [2, 11, 18, 21, 23]}, {'original_hand': 'K78K5', 'mapped_rankings': [2, 8, 7, 2, 10], 'cumulative_rankings': [2, 10, 17, 19, 29]}, {'original_hand': 'K8466', 'mapped_rankings': [2, 7, 11, 9, 9], 'cumulative_rankings': [2, 9, 20, 29, 38]}, {'original_hand': 'K9AQQ', 'mapped_rankings': [2, 6, 1, 3, 3], 'cumulative_rankings': [2, 8, 9, 12, 15]}, {'original_hand': 'K9AAJ', 'mapped_rankings': [2, 6, 1, 1, 4], 'cumulative_rankings': [2, 8, 9, 10, 14]}, {'original_hand': 'KTJAK', 'mapped_rankings': [2, 5, 4, 1, 2], 'cumulative_rankings': [2, 7, 11, 12, 14]}, {'original_hand': 'KJ525', 'mapped_rankings': [2, 4, 10, 13, 10], 'cumulative_rankings': [2, 6, 16, 29, 39]}, {'original_hand': 'KJK54', 'mapped_rankings': [2, 4, 2, 10, 11], 'cumulative_rankings': [2, 6, 8, 18, 29]}, {'original_hand': 'KJK76', 'mapped_rankings': [2, 4, 2, 8, 9], 'cumulative_rankings': [2, 6, 8, 16, 25]}, {'original_hand': 'KQT7T', 'mapped_rankings': [2, 3, 5, 8, 5], 'cumulative_rankings': [2, 5, 10, 18, 23]}, {'original_hand': 'KK4T2', 'mapped_rankings': [2, 2, 11, 5, 13], 'cumulative_rankings': [2, 4, 15, 20, 33]}, {'original_hand': 'KK4J9', 'mapped_rankings': [2, 2, 11, 4, 6], 'cumulative_rankings': [2, 4, 15, 19, 25]}, {'original_hand': 'KK69J', 'mapped_rankings': [2, 2, 9, 6, 4], 'cumulative_rankings': [2, 4, 13, 19, 23]}, {'original_hand': 'KK9A2', 'mapped_rankings': [2, 2, 6, 1, 13], 'cumulative_rankings': [2, 4, 10, 11, 24]}, {'original_hand': 'KA39A', 'mapped_rankings': [2, 1, 12, 6, 1], 'cumulative_rankings': [2, 3, 15, 21, 22]}, {'original_hand': 'KA9KQ', 'mapped_rankings': [2, 1, 6, 2, 3], 'cumulative_rankings': [2, 3, 9, 11, 14]}, {'original_hand': 'KA9AT', 'mapped_rankings': [2, 1, 6, 1, 5], 'cumulative_rankings': [2, 3, 9, 10, 15]}, {'original_hand': 'A33J8', 'mapped_rankings': [1, 12, 12, 4, 7], 'cumulative_rankings': [1, 13, 25, 29, 36]}, {'original_hand': 'A5453', 'mapped_rankings': [1, 10, 11, 10, 12], 'cumulative_rankings': [1, 11, 22, 32, 44]}, {'original_hand': 'A6632', 'mapped_rankings': [1, 9, 9, 12, 13], 'cumulative_rankings': [1, 10, 19, 31, 44]}, {'original_hand': 'A7974', 'mapped_rankings': [1, 8, 6, 8, 11], 'cumulative_rankings': [1, 9, 15, 23, 34]}, {'original_hand': 'A82AQ', 'mapped_rankings': [1, 7, 13, 1, 3], 'cumulative_rankings': [1, 8, 21, 22, 25]}, {'original_hand': 'A8AT7', 'mapped_rankings': [1, 7, 1, 5, 8], 'cumulative_rankings': [1, 8, 9, 14, 22]}, {'original_hand': 'A9Q29', 'mapped_rankings': [1, 6, 3, 13, 6], 'cumulative_rankings': [1, 7, 10, 23, 29]}, {'original_hand': 'AT3AJ', 'mapped_rankings': [1, 5, 12, 1, 4], 'cumulative_rankings': [1, 6, 18, 19, 23]}, {'original_hand': 'AT7AQ', 'mapped_rankings': [1, 5, 8, 1, 3], 'cumulative_rankings': [1, 6, 14, 15, 18]}, {'original_hand': 'ATTK4', 'mapped_rankings': [1, 5, 5, 2, 11], 'cumulative_rankings': [1, 6, 11, 13, 24]}, {'original_hand': 'AJJ89', 'mapped_rankings': [1, 4, 4, 7, 6], 'cumulative_rankings': [1, 5, 9, 16, 22]}, {'original_hand': 'AJQ6A', 'mapped_rankings': [1, 4, 3, 9, 1], 'cumulative_rankings': [1, 5, 8, 17, 18]}, {'original_hand': 'AJKAQ', 'mapped_rankings': [1, 4, 2, 1, 3], 'cumulative_rankings': [1, 5, 7, 8, 11]}, {'original_hand': 'AQ4A3', 'mapped_rankings': [1, 3, 11, 1, 12], 'cumulative_rankings': [1, 4, 15, 16, 28]}, {'original_hand': 'AQ966', 'mapped_rankings': [1, 3, 6, 9, 9], 'cumulative_rankings': [1, 4, 10, 19, 28]}, {'original_hand': 'AQA54', 'mapped_rankings': [1, 3, 1, 10, 11], 'cumulative_rankings': [1, 4, 5, 15, 26]}, {'original_hand': 'AK545', 'mapped_rankings': [1, 2, 10, 11, 10], 'cumulative_rankings': [1, 3, 13, 24, 34]}, {'original_hand': 'AK5AJ', 'mapped_rankings': [1, 2, 10, 1, 4], 'cumulative_rankings': [1, 3, 13, 14, 18]}, {'original_hand': 'AK8TA', 'mapped_rankings': [1, 2, 7, 5, 1], 'cumulative_rankings': [1, 3, 10, 15, 16]}, {'original_hand': 'AKK97', 'mapped_rankings': [1, 2, 2, 6, 8], 'cumulative_rankings': [1, 3, 5, 11, 19]}, {'original_hand': 'AKA4J', 'mapped_rankings': [1, 2, 1, 11, 4], 'cumulative_rankings': [1, 3, 4, 15, 19]}, {'original_hand': 'AKA58', 'mapped_rankings': [1, 2, 1, 10, 7], 'cumulative_rankings': [1, 3, 4, 14, 21]}, {'original_hand': 'AKAJT', 'mapped_rankings': [1, 2, 1, 4, 5], 'cumulative_rankings': [1, 3, 4, 8, 13]}, {'original_hand': 'AA2JT', 'mapped_rankings': [1, 1, 13, 4, 5], 'cumulative_rankings': [1, 2, 15, 19, 24]}, {'original_hand': '227K7', 'mapped_rankings': [13, 13, 8, 2, 8], 'cumulative_rankings': [13, 26, 34, 36, 44]}, {'original_hand': '22JJA', 'mapped_rankings': [13, 13, 4, 4, 1], 'cumulative_rankings': [13, 26, 30, 34, 35]}, {'original_hand': '233TT', 'mapped_rankings': [13, 12, 12, 5, 5], 'cumulative_rankings': [13, 25, 37, 42, 47]}, {'original_hand': '25625', 'mapped_rankings': [13, 10, 9, 13, 10], 'cumulative_rankings': [13, 23, 32, 45, 55]}, {'original_hand': '27A2A', 'mapped_rankings': [13, 8, 1, 13, 1], 'cumulative_rankings': [13, 21, 22, 35, 36]}, {'original_hand': '2QQ24', 'mapped_rankings': [13, 3, 3, 13, 11], 'cumulative_rankings': [13, 16, 19, 32, 43]}, {'original_hand': '2QKQK', 'mapped_rankings': [13, 3, 2, 3, 2], 'cumulative_rankings': [13, 16, 18, 21, 23]}, {'original_hand': '2K62K', 'mapped_rankings': [13, 2, 9, 13, 2], 'cumulative_rankings': [13, 15, 24, 37, 39]}, {'original_hand': '2KJ2K', 'mapped_rankings': [13, 2, 4, 13, 2], 'cumulative_rankings': [13, 15, 19, 32, 34]}, {'original_hand': '2ATAT', 'mapped_rankings': [13, 1, 5, 1, 5], 'cumulative_rankings': [13, 14, 19, 20, 25]}, {'original_hand': '335KK', 'mapped_rankings': [12, 12, 10, 2, 2], 'cumulative_rankings': [12, 24, 34, 36, 38]}, {'original_hand': '33TKT', 'mapped_rankings': [12, 12, 5, 2, 5], 'cumulative_rankings': [12, 24, 29, 31, 36]}, {'original_hand': '33AAJ', 'mapped_rankings': [12, 12, 1, 1, 4], 'cumulative_rankings': [12, 24, 25, 26, 30]}, {'original_hand': '3434J', 'mapped_rankings': [12, 11, 12, 11, 4], 'cumulative_rankings': [12, 23, 35, 46, 50]}, {'original_hand': '3636T', 'mapped_rankings': [12, 9, 12, 9, 5], 'cumulative_rankings': [12, 21, 33, 42, 47]}, {'original_hand': '38832', 'mapped_rankings': [12, 7, 7, 12, 13], 'cumulative_rankings': [12, 19, 26, 38, 51]}, {'original_hand': '39369', 'mapped_rankings': [12, 6, 12, 9, 6], 'cumulative_rankings': [12, 18, 30, 39, 45]}, {'original_hand': '3993J', 'mapped_rankings': [12, 6, 6, 12, 4], 'cumulative_rankings': [12, 18, 24, 36, 40]}, {'original_hand': '3TJT3', 'mapped_rankings': [12, 5, 4, 5, 12], 'cumulative_rankings': [12, 17, 21, 26, 38]}, {'original_hand': '3K636', 'mapped_rankings': [12, 2, 9, 12, 9], 'cumulative_rankings': [12, 14, 23, 35, 44]}, {'original_hand': '3KK77', 'mapped_rankings': [12, 2, 2, 8, 8], 'cumulative_rankings': [12, 14, 16, 24, 32]}, {'original_hand': '43345', 'mapped_rankings': [11, 12, 12, 11, 10], 'cumulative_rankings': [11, 23, 35, 46, 56]}, {'original_hand': '43348', 'mapped_rankings': [11, 12, 12, 11, 7], 'cumulative_rankings': [11, 23, 35, 46, 53]}, {'original_hand': '44J9J', 'mapped_rankings': [11, 11, 4, 6, 4], 'cumulative_rankings': [11, 22, 26, 32, 36]}, {'original_hand': '45854', 'mapped_rankings': [11, 10, 7, 10, 11], 'cumulative_rankings': [11, 21, 28, 38, 49]}, {'original_hand': '46767', 'mapped_rankings': [11, 9, 8, 9, 8], 'cumulative_rankings': [11, 20, 28, 37, 45]}, {'original_hand': '4747Q', 'mapped_rankings': [11, 8, 11, 8, 3], 'cumulative_rankings': [11, 19, 30, 38, 41]}, {'original_hand': '49495', 'mapped_rankings': [11, 6, 11, 6, 10], 'cumulative_rankings': [11, 17, 28, 34, 44]}, {'original_hand': '4T2T2', 'mapped_rankings': [11, 5, 13, 5, 13], 'cumulative_rankings': [11, 16, 29, 34, 47]}, {'original_hand': '4T7T7', 'mapped_rankings': [11, 5, 8, 5, 8], 'cumulative_rankings': [11, 16, 24, 29, 37]}, {'original_hand': '4J2J2', 'mapped_rankings': [11, 4, 13, 4, 13], 'cumulative_rankings': [11, 15, 28, 32, 45]}, {'original_hand': '4QJQ4', 'mapped_rankings': [11, 3, 4, 3, 11], 'cumulative_rankings': [11, 14, 18, 21, 32]}, {'original_hand': '4K55K', 'mapped_rankings': [11, 2, 10, 10, 2], 'cumulative_rankings': [11, 13, 23, 33, 35]}, {'original_hand': '4K664', 'mapped_rankings': [11, 2, 9, 9, 11], 'cumulative_rankings': [11, 13, 22, 31, 42]}, {'original_hand': '4A94A', 'mapped_rankings': [11, 1, 6, 11, 1], 'cumulative_rankings': [11, 12, 18, 29, 30]}, {'original_hand': '52TT2', 'mapped_rankings': [10, 13, 5, 5, 13], 'cumulative_rankings': [10, 23, 28, 33, 46]}, {'original_hand': '53563', 'mapped_rankings': [10, 12, 10, 9, 12], 'cumulative_rankings': [10, 22, 32, 41, 53]}, {'original_hand': '53735', 'mapped_rankings': [10, 12, 8, 12, 10], 'cumulative_rankings': [10, 22, 30, 42, 52]}, {'original_hand': '55994', 'mapped_rankings': [10, 10, 6, 6, 11], 'cumulative_rankings': [10, 20, 26, 32, 43]}, {'original_hand': '55JKK', 'mapped_rankings': [10, 10, 4, 2, 2], 'cumulative_rankings': [10, 20, 24, 26, 28]}, {'original_hand': '55A88', 'mapped_rankings': [10, 10, 1, 7, 7], 'cumulative_rankings': [10, 20, 21, 28, 35]}, {'original_hand': '575J7', 'mapped_rankings': [10, 8, 10, 4, 8], 'cumulative_rankings': [10, 18, 28, 32, 40]}, {'original_hand': '57JJ7', 'mapped_rankings': [10, 8, 4, 4, 8], 'cumulative_rankings': [10, 18, 22, 26, 34]}, {'original_hand': '59988', 'mapped_rankings': [10, 6, 6, 7, 7], 'cumulative_rankings': [10, 16, 22, 29, 36]}, {'original_hand': '5T5T9', 'mapped_rankings': [10, 5, 10, 5, 6], 'cumulative_rankings': [10, 15, 25, 30, 36]}, {'original_hand': '5T88T', 'mapped_rankings': [10, 5, 7, 7, 5], 'cumulative_rankings': [10, 15, 22, 29, 34]}, {'original_hand': '5J7J5', 'mapped_rankings': [10, 4, 8, 4, 10], 'cumulative_rankings': [10, 14, 22, 26, 36]}, {'original_hand': '5QAAQ', 'mapped_rankings': [10, 3, 1, 1, 3], 'cumulative_rankings': [10, 13, 14, 15, 18]}, {'original_hand': '5K56K', 'mapped_rankings': [10, 2, 10, 9, 2], 'cumulative_rankings': [10, 12, 22, 31, 33]}, {'original_hand': '62Q2Q', 'mapped_rankings': [9, 13, 3, 13, 3], 'cumulative_rankings': [9, 22, 25, 38, 41]}, {'original_hand': '63655', 'mapped_rankings': [9, 12, 9, 10, 10], 'cumulative_rankings': [9, 21, 30, 40, 50]}, {'original_hand': '64545', 'mapped_rankings': [9, 11, 10, 11, 10], 'cumulative_rankings': [9, 20, 30, 41, 51]}, {'original_hand': '66233', 'mapped_rankings': [9, 9, 13, 12, 12], 'cumulative_rankings': [9, 18, 31, 43, 55]}, {'original_hand': '6688T', 'mapped_rankings': [9, 9, 7, 7, 5], 'cumulative_rankings': [9, 18, 25, 32, 37]}, {'original_hand': '668K8', 'mapped_rankings': [9, 9, 7, 2, 7], 'cumulative_rankings': [9, 18, 25, 27, 34]}, {'original_hand': '6699J', 'mapped_rankings': [9, 9, 6, 6, 4], 'cumulative_rankings': [9, 18, 24, 30, 34]}, {'original_hand': '66AAQ', 'mapped_rankings': [9, 9, 1, 1, 3], 'cumulative_rankings': [9, 18, 19, 20, 23]}, {'original_hand': '67267', 'mapped_rankings': [9, 8, 13, 9, 8], 'cumulative_rankings': [9, 17, 30, 39, 47]}, {'original_hand': '68586', 'mapped_rankings': [9, 7, 10, 7, 9], 'cumulative_rankings': [9, 16, 26, 33, 42]}, {'original_hand': '69956', 'mapped_rankings': [9, 6, 6, 10, 9], 'cumulative_rankings': [9, 15, 21, 31, 40]}, {'original_hand': '6JJTT', 'mapped_rankings': [9, 4, 4, 5, 5], 'cumulative_rankings': [9, 13, 17, 22, 27]}, {'original_hand': '6Q5Q5', 'mapped_rankings': [9, 3, 10, 3, 10], 'cumulative_rankings': [9, 12, 22, 25, 35]}, {'original_hand': '6Q6Q4', 'mapped_rankings': [9, 3, 9, 3, 11], 'cumulative_rankings': [9, 12, 21, 24, 35]}, {'original_hand': '6Q86Q', 'mapped_rankings': [9, 3, 7, 9, 3], 'cumulative_rankings': [9, 12, 19, 28, 31]}, {'original_hand': '747J4', 'mapped_rankings': [8, 11, 8, 4, 11], 'cumulative_rankings': [8, 19, 27, 31, 42]}, {'original_hand': '77233', 'mapped_rankings': [8, 8, 13, 12, 12], 'cumulative_rankings': [8, 16, 29, 41, 53]}, {'original_hand': '7733A', 'mapped_rankings': [8, 8, 12, 12, 1], 'cumulative_rankings': [8, 16, 28, 40, 41]}, {'original_hand': '77454', 'mapped_rankings': [8, 8, 11, 10, 11], 'cumulative_rankings': [8, 16, 27, 37, 48]}, {'original_hand': '7766K', 'mapped_rankings': [8, 8, 9, 9, 2], 'cumulative_rankings': [8, 16, 25, 34, 36]}, {'original_hand': '78585', 'mapped_rankings': [8, 7, 10, 7, 10], 'cumulative_rankings': [8, 15, 25, 32, 42]}, {'original_hand': '787TT', 'mapped_rankings': [8, 7, 8, 5, 5], 'cumulative_rankings': [8, 15, 23, 28, 33]}, {'original_hand': '78J87', 'mapped_rankings': [8, 7, 4, 7, 8], 'cumulative_rankings': [8, 15, 19, 26, 34]}, {'original_hand': '78AA7', 'mapped_rankings': [8, 7, 1, 1, 8], 'cumulative_rankings': [8, 15, 16, 17, 25]}, {'original_hand': '7J766', 'mapped_rankings': [8, 4, 8, 9, 9], 'cumulative_rankings': [8, 12, 20, 29, 38]}, {'original_hand': '7K878', 'mapped_rankings': [8, 2, 7, 8, 7], 'cumulative_rankings': [8, 10, 17, 25, 32]}, {'original_hand': '7AT7A', 'mapped_rankings': [8, 1, 5, 8, 1], 'cumulative_rankings': [8, 9, 14, 22, 23]}, {'original_hand': '7AA7K', 'mapped_rankings': [8, 1, 1, 8, 2], 'cumulative_rankings': [8, 9, 10, 18, 20]}, {'original_hand': '828KK', 'mapped_rankings': [7, 13, 7, 2, 2], 'cumulative_rankings': [7, 20, 27, 29, 31]}, {'original_hand': '82928', 'mapped_rankings': [7, 13, 6, 13, 7], 'cumulative_rankings': [7, 20, 26, 39, 46]}, {'original_hand': '83348', 'mapped_rankings': [7, 12, 12, 11, 7], 'cumulative_rankings': [7, 19, 31, 42, 49]}, {'original_hand': '8338J', 'mapped_rankings': [7, 12, 12, 7, 4], 'cumulative_rankings': [7, 19, 31, 38, 42]}, {'original_hand': '8338A', 'mapped_rankings': [7, 12, 12, 7, 1], 'cumulative_rankings': [7, 19, 31, 38, 39]}, {'original_hand': '84648', 'mapped_rankings': [7, 11, 9, 11, 7], 'cumulative_rankings': [7, 18, 27, 38, 45]}, {'original_hand': '84843', 'mapped_rankings': [7, 11, 7, 11, 12], 'cumulative_rankings': [7, 18, 25, 36, 48]}, {'original_hand': '84847', 'mapped_rankings': [7, 11, 7, 11, 8], 'cumulative_rankings': [7, 18, 25, 36, 44]}, {'original_hand': '87447', 'mapped_rankings': [7, 8, 11, 11, 8], 'cumulative_rankings': [7, 15, 26, 37, 45]}, {'original_hand': '8822K', 'mapped_rankings': [7, 7, 13, 13, 2], 'cumulative_rankings': [7, 14, 27, 40, 42]}, {'original_hand': '88J66', 'mapped_rankings': [7, 7, 4, 9, 9], 'cumulative_rankings': [7, 14, 18, 27, 36]}, {'original_hand': '8JQ8Q', 'mapped_rankings': [7, 4, 3, 7, 3], 'cumulative_rankings': [7, 11, 14, 21, 24]}, {'original_hand': '8A228', 'mapped_rankings': [7, 1, 13, 13, 7], 'cumulative_rankings': [7, 8, 21, 34, 41]}, {'original_hand': '92T9T', 'mapped_rankings': [6, 13, 5, 6, 5], 'cumulative_rankings': [6, 19, 24, 30, 35]}, {'original_hand': '93322', 'mapped_rankings': [6, 12, 12, 13, 13], 'cumulative_rankings': [6, 18, 30, 43, 56]}, {'original_hand': '9559Q', 'mapped_rankings': [6, 10, 10, 6, 3], 'cumulative_rankings': [6, 16, 26, 32, 35]}, {'original_hand': '95922', 'mapped_rankings': [6, 10, 6, 13, 13], 'cumulative_rankings': [6, 16, 22, 35, 48]}, {'original_hand': '9595J', 'mapped_rankings': [6, 10, 6, 10, 4], 'cumulative_rankings': [6, 16, 22, 32, 36]}, {'original_hand': '96226', 'mapped_rankings': [6, 9, 13, 13, 9], 'cumulative_rankings': [6, 15, 28, 41, 50]}, {'original_hand': '96649', 'mapped_rankings': [6, 9, 9, 11, 6], 'cumulative_rankings': [6, 15, 24, 35, 41]}, {'original_hand': '9889Q', 'mapped_rankings': [6, 7, 7, 6, 3], 'cumulative_rankings': [6, 13, 20, 26, 29]}, {'original_hand': '98928', 'mapped_rankings': [6, 7, 6, 13, 7], 'cumulative_rankings': [6, 13, 19, 32, 39]}, {'original_hand': '98984', 'mapped_rankings': [6, 7, 6, 7, 11], 'cumulative_rankings': [6, 13, 19, 26, 37]}, {'original_hand': '99733', 'mapped_rankings': [6, 6, 8, 12, 12], 'cumulative_rankings': [6, 12, 20, 32, 44]}, {'original_hand': '9QJ9J', 'mapped_rankings': [6, 3, 4, 6, 4], 'cumulative_rankings': [6, 9, 13, 19, 23]}, {'original_hand': '9QQ9K', 'mapped_rankings': [6, 3, 3, 6, 2], 'cumulative_rankings': [6, 9, 12, 18, 20]}, {'original_hand': 'T2332', 'mapped_rankings': [5, 13, 12, 12, 13], 'cumulative_rankings': [5, 18, 30, 42, 55]}, {'original_hand': 'T2T66', 'mapped_rankings': [5, 13, 5, 9, 9], 'cumulative_rankings': [5, 18, 23, 32, 41]}, {'original_hand': 'T44TJ', 'mapped_rankings': [5, 11, 11, 5, 4], 'cumulative_rankings': [5, 16, 27, 32, 36]}, {'original_hand': 'TTA5A', 'mapped_rankings': [5, 5, 1, 10, 1], 'cumulative_rankings': [5, 10, 11, 21, 22]}, {'original_hand': 'TJ99T', 'mapped_rankings': [5, 4, 6, 6, 5], 'cumulative_rankings': [5, 9, 15, 21, 26]}, {'original_hand': 'TKT3K', 'mapped_rankings': [5, 2, 5, 12, 2], 'cumulative_rankings': [5, 7, 12, 24, 26]}, {'original_hand': 'TAA6T', 'mapped_rankings': [5, 1, 1, 9, 5], 'cumulative_rankings': [5, 6, 7, 16, 21]}, {'original_hand': 'TAAKK', 'mapped_rankings': [5, 1, 1, 2, 2], 'cumulative_rankings': [5, 6, 7, 9, 11]}, {'original_hand': 'J2288', 'mapped_rankings': [4, 13, 13, 7, 7], 'cumulative_rankings': [4, 17, 30, 37, 44]}, {'original_hand': 'J22AA', 'mapped_rankings': [4, 13, 13, 1, 1], 'cumulative_rankings': [4, 17, 30, 31, 32]}, {'original_hand': 'J2772', 'mapped_rankings': [4, 13, 8, 8, 13], 'cumulative_rankings': [4, 17, 25, 33, 46]}, {'original_hand': 'J2AAJ', 'mapped_rankings': [4, 13, 1, 1, 4], 'cumulative_rankings': [4, 17, 18, 19, 23]}, {'original_hand': 'J3232', 'mapped_rankings': [4, 12, 13, 12, 13], 'cumulative_rankings': [4, 16, 29, 41, 54]}, {'original_hand': 'J3J44', 'mapped_rankings': [4, 12, 4, 11, 11], 'cumulative_rankings': [4, 16, 20, 31, 42]}, {'original_hand': 'J59J5', 'mapped_rankings': [4, 10, 6, 4, 10], 'cumulative_rankings': [4, 14, 20, 24, 34]}, {'original_hand': 'J5AA5', 'mapped_rankings': [4, 10, 1, 1, 10], 'cumulative_rankings': [4, 14, 15, 16, 26]}, {'original_hand': 'J622J', 'mapped_rankings': [4, 9, 13, 13, 4], 'cumulative_rankings': [4, 13, 26, 39, 43]}, {'original_hand': 'J7QQ7', 'mapped_rankings': [4, 8, 3, 3, 8], 'cumulative_rankings': [4, 12, 15, 18, 26]}, {'original_hand': 'J8QJ8', 'mapped_rankings': [4, 7, 3, 4, 7], 'cumulative_rankings': [4, 11, 14, 18, 25]}, {'original_hand': 'JQ2Q2', 'mapped_rankings': [4, 3, 13, 3, 13], 'cumulative_rankings': [4, 7, 20, 23, 36]}, {'original_hand': 'JKK66', 'mapped_rankings': [4, 2, 2, 9, 9], 'cumulative_rankings': [4, 6, 8, 17, 26]}, {'original_hand': 'JKKQQ', 'mapped_rankings': [4, 2, 2, 3, 3], 'cumulative_rankings': [4, 6, 8, 11, 14]}, {'original_hand': 'JA7A7', 'mapped_rankings': [4, 1, 8, 1, 8], 'cumulative_rankings': [4, 5, 13, 14, 22]}, {'original_hand': 'Q454Q', 'mapped_rankings': [3, 11, 10, 11, 3], 'cumulative_rankings': [3, 14, 24, 35, 38]}, {'original_hand': 'Q77KK', 'mapped_rankings': [3, 8, 8, 2, 2], 'cumulative_rankings': [3, 11, 19, 21, 23]}, {'original_hand': 'Q7Q57', 'mapped_rankings': [3, 8, 3, 10, 8], 'cumulative_rankings': [3, 11, 14, 24, 32]}, {'original_hand': 'QT9T9', 'mapped_rankings': [3, 5, 6, 5, 6], 'cumulative_rankings': [3, 8, 14, 19, 25]}, {'original_hand': 'QQ828', 'mapped_rankings': [3, 3, 7, 13, 7], 'cumulative_rankings': [3, 6, 13, 26, 33]}, {'original_hand': 'QQTTJ', 'mapped_rankings': [3, 3, 5, 5, 4], 'cumulative_rankings': [3, 6, 11, 16, 20]}, {'original_hand': 'QQJ55', 'mapped_rankings': [3, 3, 4, 10, 10], 'cumulative_rankings': [3, 6, 10, 20, 30]}, {'original_hand': 'QQJAA', 'mapped_rankings': [3, 3, 4, 1, 1], 'cumulative_rankings': [3, 6, 10, 11, 12]}, {'original_hand': 'QKK3Q', 'mapped_rankings': [3, 2, 2, 12, 3], 'cumulative_rankings': [3, 5, 7, 19, 22]}, {'original_hand': 'K3535', 'mapped_rankings': [2, 12, 10, 12, 10], 'cumulative_rankings': [2, 14, 24, 36, 46]}, {'original_hand': 'K3K32', 'mapped_rankings': [2, 12, 2, 12, 13], 'cumulative_rankings': [2, 14, 16, 28, 41]}, {'original_hand': 'K4994', 'mapped_rankings': [2, 11, 6, 6, 11], 'cumulative_rankings': [2, 13, 19, 25, 36]}, {'original_hand': 'K55KT', 'mapped_rankings': [2, 10, 10, 2, 5], 'cumulative_rankings': [2, 12, 22, 24, 29]}, {'original_hand': 'K66TT', 'mapped_rankings': [2, 9, 9, 5, 5], 'cumulative_rankings': [2, 11, 20, 25, 30]}, {'original_hand': 'K7997', 'mapped_rankings': [2, 8, 6, 6, 8], 'cumulative_rankings': [2, 10, 16, 22, 30]}, {'original_hand': 'K868K', 'mapped_rankings': [2, 7, 9, 7, 2], 'cumulative_rankings': [2, 9, 18, 25, 27]}, {'original_hand': 'K885K', 'mapped_rankings': [2, 7, 7, 10, 2], 'cumulative_rankings': [2, 9, 16, 26, 28]}, {'original_hand': 'K887K', 'mapped_rankings': [2, 7, 7, 8, 2], 'cumulative_rankings': [2, 9, 16, 24, 26]}, {'original_hand': 'K922K', 'mapped_rankings': [2, 6, 13, 13, 2], 'cumulative_rankings': [2, 8, 21, 34, 36]}, {'original_hand': 'KT5KT', 'mapped_rankings': [2, 5, 10, 2, 5], 'cumulative_rankings': [2, 7, 17, 19, 24]}, {'original_hand': 'A22AT', 'mapped_rankings': [1, 13, 13, 1, 5], 'cumulative_rankings': [1, 14, 27, 28, 33]}, {'original_hand': 'A28A2', 'mapped_rankings': [1, 13, 7, 1, 13], 'cumulative_rankings': [1, 14, 21, 22, 35]}, {'original_hand': 'A2AK2', 'mapped_rankings': [1, 13, 1, 2, 13], 'cumulative_rankings': [1, 14, 15, 17, 30]}, {'original_hand': 'A337A', 'mapped_rankings': [1, 12, 12, 8, 1], 'cumulative_rankings': [1, 13, 25, 33, 34]}, {'original_hand': 'A4664', 'mapped_rankings': [1, 11, 9, 9, 11], 'cumulative_rankings': [1, 12, 21, 30, 41]}, {'original_hand': 'A5Q5A', 'mapped_rankings': [1, 10, 3, 10, 1], 'cumulative_rankings': [1, 11, 14, 24, 25]}, {'original_hand': 'A6T6T', 'mapped_rankings': [1, 9, 5, 9, 5], 'cumulative_rankings': [1, 10, 15, 24, 29]}, {'original_hand': 'A6A33', 'mapped_rankings': [1, 9, 1, 12, 12], 'cumulative_rankings': [1, 10, 11, 23, 35]}, {'original_hand': 'A88AT', 'mapped_rankings': [1, 7, 7, 1, 5], 'cumulative_rankings': [1, 8, 15, 16, 21]}, {'original_hand': 'A93A3', 'mapped_rankings': [1, 6, 12, 1, 12], 'cumulative_rankings': [1, 7, 19, 20, 32]}, {'original_hand': 'AJJ8A', 'mapped_rankings': [1, 4, 4, 7, 1], 'cumulative_rankings': [1, 5, 9, 16, 17]}, {'original_hand': 'AQA4Q', 'mapped_rankings': [1, 3, 1, 11, 3], 'cumulative_rankings': [1, 4, 5, 16, 19]}, {'original_hand': 'AA6KK', 'mapped_rankings': [1, 1, 9, 2, 2], 'cumulative_rankings': [1, 2, 11, 13, 15]}, {'original_hand': '22472', 'mapped_rankings': [13, 13, 11, 8, 13], 'cumulative_rankings': [13, 26, 37, 45, 58]}, {'original_hand': '2252J', 'mapped_rankings': [13, 13, 10, 13, 4], 'cumulative_rankings': [13, 26, 36, 49, 53]}, {'original_hand': '22T72', 'mapped_rankings': [13, 13, 5, 8, 13], 'cumulative_rankings': [13, 26, 31, 39, 52]}, {'original_hand': '22TQ2', 'mapped_rankings': [13, 13, 5, 3, 13], 'cumulative_rankings': [13, 26, 31, 34, 47]}, {'original_hand': '22JA2', 'mapped_rankings': [13, 13, 4, 1, 13], 'cumulative_rankings': [13, 26, 30, 31, 44]}, {'original_hand': '23733', 'mapped_rankings': [13, 12, 8, 12, 12], 'cumulative_rankings': [13, 25, 33, 45, 57]}, {'original_hand': '262A2', 'mapped_rankings': [13, 9, 13, 1, 13], 'cumulative_rankings': [13, 22, 35, 36, 49]}, {'original_hand': '27228', 'mapped_rankings': [13, 8, 13, 13, 7], 'cumulative_rankings': [13, 21, 34, 47, 54]}, {'original_hand': '272J2', 'mapped_rankings': [13, 8, 13, 4, 13], 'cumulative_rankings': [13, 21, 34, 38, 51]}, {'original_hand': '27774', 'mapped_rankings': [13, 8, 8, 8, 11], 'cumulative_rankings': [13, 21, 29, 37, 48]}, {'original_hand': '282A2', 'mapped_rankings': [13, 7, 13, 1, 13], 'cumulative_rankings': [13, 20, 33, 34, 47]}, {'original_hand': '2J555', 'mapped_rankings': [13, 4, 10, 10, 10], 'cumulative_rankings': [13, 17, 27, 37, 47]}, {'original_hand': '2Q722', 'mapped_rankings': [13, 3, 8, 13, 13], 'cumulative_rankings': [13, 16, 24, 37, 50]}, {'original_hand': '2A6AA', 'mapped_rankings': [13, 1, 9, 1, 1], 'cumulative_rankings': [13, 14, 23, 24, 25]}, {'original_hand': '2AA3A', 'mapped_rankings': [13, 1, 1, 12, 1], 'cumulative_rankings': [13, 14, 15, 27, 28]}, {'original_hand': '2AAAQ', 'mapped_rankings': [13, 1, 1, 1, 3], 'cumulative_rankings': [13, 14, 15, 16, 19]}, {'original_hand': '3332J', 'mapped_rankings': [12, 12, 12, 13, 4], 'cumulative_rankings': [12, 24, 36, 49, 53]}, {'original_hand': '34484', 'mapped_rankings': [12, 11, 11, 7, 11], 'cumulative_rankings': [12, 23, 34, 41, 52]}, {'original_hand': '34999', 'mapped_rankings': [12, 11, 6, 6, 6], 'cumulative_rankings': [12, 23, 29, 35, 41]}, {'original_hand': '34A33', 'mapped_rankings': [12, 11, 1, 12, 12], 'cumulative_rankings': [12, 23, 24, 36, 48]}, {'original_hand': '37K77', 'mapped_rankings': [12, 8, 2, 8, 8], 'cumulative_rankings': [12, 20, 22, 30, 38]}, {'original_hand': '383J3', 'mapped_rankings': [12, 7, 12, 4, 12], 'cumulative_rankings': [12, 19, 31, 35, 47]}, {'original_hand': '3TJTT', 'mapped_rankings': [12, 5, 4, 5, 5], 'cumulative_rankings': [12, 17, 21, 26, 31]}, {'original_hand': '3JT33', 'mapped_rankings': [12, 4, 5, 12, 12], 'cumulative_rankings': [12, 16, 21, 33, 45]}, {'original_hand': '3QQ9Q', 'mapped_rankings': [12, 3, 3, 6, 3], 'cumulative_rankings': [12, 15, 18, 24, 27]}, {'original_hand': '3K999', 'mapped_rankings': [12, 2, 6, 6, 6], 'cumulative_rankings': [12, 14, 20, 26, 32]}, {'original_hand': '43332', 'mapped_rankings': [11, 12, 12, 12, 13], 'cumulative_rankings': [11, 23, 35, 47, 60]}, {'original_hand': '44423', 'mapped_rankings': [11, 11, 11, 13, 12], 'cumulative_rankings': [11, 22, 33, 46, 58]}, {'original_hand': '4443A', 'mapped_rankings': [11, 11, 11, 12, 1], 'cumulative_rankings': [11, 22, 33, 45, 46]}, {'original_hand': '4464T', 'mapped_rankings': [11, 11, 9, 11, 5], 'cumulative_rankings': [11, 22, 31, 42, 47]}, {'original_hand': '44724', 'mapped_rankings': [11, 11, 8, 13, 11], 'cumulative_rankings': [11, 22, 30, 43, 54]}, {'original_hand': '44743', 'mapped_rankings': [11, 11, 8, 11, 12], 'cumulative_rankings': [11, 22, 30, 41, 53]}, {'original_hand': '44847', 'mapped_rankings': [11, 11, 7, 11, 8], 'cumulative_rankings': [11, 22, 29, 40, 48]}, {'original_hand': '44J4K', 'mapped_rankings': [11, 11, 4, 11, 2], 'cumulative_rankings': [11, 22, 26, 37, 39]}, {'original_hand': '44K24', 'mapped_rankings': [11, 11, 2, 13, 11], 'cumulative_rankings': [11, 22, 24, 37, 48]}, {'original_hand': '4555A', 'mapped_rankings': [11, 10, 10, 10, 1], 'cumulative_rankings': [11, 21, 31, 41, 42]}, {'original_hand': '494J4', 'mapped_rankings': [11, 6, 11, 4, 11], 'cumulative_rankings': [11, 17, 28, 32, 43]}, {'original_hand': '49544', 'mapped_rankings': [11, 6, 10, 11, 11], 'cumulative_rankings': [11, 17, 27, 38, 49]}, {'original_hand': '4T454', 'mapped_rankings': [11, 5, 11, 10, 11], 'cumulative_rankings': [11, 16, 27, 37, 48]}, {'original_hand': '4J424', 'mapped_rankings': [11, 4, 11, 13, 11], 'cumulative_rankings': [11, 15, 26, 39, 50]}, {'original_hand': '4QQJQ', 'mapped_rankings': [11, 3, 3, 4, 3], 'cumulative_rankings': [11, 14, 17, 21, 24]}, {'original_hand': '4KQQQ', 'mapped_rankings': [11, 2, 3, 3, 3], 'cumulative_rankings': [11, 13, 16, 19, 22]}, {'original_hand': '4A4T4', 'mapped_rankings': [11, 1, 11, 5, 11], 'cumulative_rankings': [11, 12, 23, 28, 39]}, {'original_hand': '53552', 'mapped_rankings': [10, 12, 10, 10, 13], 'cumulative_rankings': [10, 22, 32, 42, 55]}, {'original_hand': '54585', 'mapped_rankings': [10, 11, 10, 7, 10], 'cumulative_rankings': [10, 21, 31, 38, 48]}, {'original_hand': '54644', 'mapped_rankings': [10, 11, 9, 11, 11], 'cumulative_rankings': [10, 21, 30, 41, 52]}, {'original_hand': '55598', 'mapped_rankings': [10, 10, 10, 6, 7], 'cumulative_rankings': [10, 20, 30, 36, 43]}, {'original_hand': '555Q4', 'mapped_rankings': [10, 10, 10, 3, 11], 'cumulative_rankings': [10, 20, 30, 33, 44]}, {'original_hand': '555K6', 'mapped_rankings': [10, 10, 10, 2, 9], 'cumulative_rankings': [10, 20, 30, 32, 41]}, {'original_hand': '55T53', 'mapped_rankings': [10, 10, 5, 10, 12], 'cumulative_rankings': [10, 20, 25, 35, 47]}, {'original_hand': '55J53', 'mapped_rankings': [10, 10, 4, 10, 12], 'cumulative_rankings': [10, 20, 24, 34, 46]}, {'original_hand': '55J59', 'mapped_rankings': [10, 10, 4, 10, 6], 'cumulative_rankings': [10, 20, 24, 34, 40]}, {'original_hand': '55QJ5', 'mapped_rankings': [10, 10, 3, 4, 10], 'cumulative_rankings': [10, 20, 23, 27, 37]}, {'original_hand': '55K45', 'mapped_rankings': [10, 10, 2, 11, 10], 'cumulative_rankings': [10, 20, 22, 33, 43]}, {'original_hand': '56Q55', 'mapped_rankings': [10, 9, 3, 10, 10], 'cumulative_rankings': [10, 19, 22, 32, 42]}, {'original_hand': '57655', 'mapped_rankings': [10, 8, 9, 10, 10], 'cumulative_rankings': [10, 18, 27, 37, 47]}, {'original_hand': '58553', 'mapped_rankings': [10, 7, 10, 10, 12], 'cumulative_rankings': [10, 17, 27, 37, 49]}, {'original_hand': '58J88', 'mapped_rankings': [10, 7, 4, 7, 7], 'cumulative_rankings': [10, 17, 21, 28, 35]}, {'original_hand': '59575', 'mapped_rankings': [10, 6, 10, 8, 10], 'cumulative_rankings': [10, 16, 26, 34, 44]}, {'original_hand': '59A55', 'mapped_rankings': [10, 6, 1, 10, 10], 'cumulative_rankings': [10, 16, 17, 27, 37]}, {'original_hand': '5T55K', 'mapped_rankings': [10, 5, 10, 10, 2], 'cumulative_rankings': [10, 15, 25, 35, 37]}, {'original_hand': '5J5K5', 'mapped_rankings': [10, 4, 10, 2, 10], 'cumulative_rankings': [10, 14, 24, 26, 36]}, {'original_hand': '5QQQJ', 'mapped_rankings': [10, 3, 3, 3, 4], 'cumulative_rankings': [10, 13, 16, 19, 23]}, {'original_hand': '5AATA', 'mapped_rankings': [10, 1, 1, 5, 1], 'cumulative_rankings': [10, 11, 12, 17, 18]}, {'original_hand': '6222J', 'mapped_rankings': [9, 13, 13, 13, 4], 'cumulative_rankings': [9, 22, 35, 48, 52]}, {'original_hand': '62922', 'mapped_rankings': [9, 13, 6, 13, 13], 'cumulative_rankings': [9, 22, 28, 41, 54]}, {'original_hand': '63266', 'mapped_rankings': [9, 12, 13, 9, 9], 'cumulative_rankings': [9, 21, 34, 43, 52]}, {'original_hand': '63J33', 'mapped_rankings': [9, 12, 4, 12, 12], 'cumulative_rankings': [9, 21, 25, 37, 49]}, {'original_hand': '656Q6', 'mapped_rankings': [9, 10, 9, 3, 9], 'cumulative_rankings': [9, 19, 28, 31, 40]}, {'original_hand': '66642', 'mapped_rankings': [9, 9, 9, 11, 13], 'cumulative_rankings': [9, 18, 27, 38, 51]}, {'original_hand': '66692', 'mapped_rankings': [9, 9, 9, 6, 13], 'cumulative_rankings': [9, 18, 27, 33, 46]}, {'original_hand': '666T5', 'mapped_rankings': [9, 9, 9, 5, 10], 'cumulative_rankings': [9, 18, 27, 32, 42]}, {'original_hand': '666J2', 'mapped_rankings': [9, 9, 9, 4, 13], 'cumulative_rankings': [9, 18, 27, 31, 44]}, {'original_hand': '666J3', 'mapped_rankings': [9, 9, 9, 4, 12], 'cumulative_rankings': [9, 18, 27, 31, 43]}, {'original_hand': '6686K', 'mapped_rankings': [9, 9, 7, 9, 2], 'cumulative_rankings': [9, 18, 25, 34, 36]}, {'original_hand': '66J56', 'mapped_rankings': [9, 9, 4, 10, 9], 'cumulative_rankings': [9, 18, 22, 32, 41]}, {'original_hand': '66JQ6', 'mapped_rankings': [9, 9, 4, 3, 9], 'cumulative_rankings': [9, 18, 22, 25, 34]}, {'original_hand': '67636', 'mapped_rankings': [9, 8, 9, 12, 9], 'cumulative_rankings': [9, 17, 26, 38, 47]}, {'original_hand': '67662', 'mapped_rankings': [9, 8, 9, 9, 13], 'cumulative_rankings': [9, 17, 26, 35, 48]}, {'original_hand': '68266', 'mapped_rankings': [9, 7, 13, 9, 9], 'cumulative_rankings': [9, 16, 29, 38, 47]}, {'original_hand': '6QQ4Q', 'mapped_rankings': [9, 3, 3, 11, 3], 'cumulative_rankings': [9, 12, 15, 26, 29]}, {'original_hand': '6K3KK', 'mapped_rankings': [9, 2, 12, 2, 2], 'cumulative_rankings': [9, 11, 23, 25, 27]}, {'original_hand': '6AK66', 'mapped_rankings': [9, 1, 2, 9, 9], 'cumulative_rankings': [9, 10, 12, 21, 30]}, {'original_hand': '72778', 'mapped_rankings': [8, 13, 8, 8, 7], 'cumulative_rankings': [8, 21, 29, 37, 44]}, {'original_hand': '7377J', 'mapped_rankings': [8, 12, 8, 8, 4], 'cumulative_rankings': [8, 20, 28, 36, 40]}, {'original_hand': '774K7', 'mapped_rankings': [8, 8, 11, 2, 8], 'cumulative_rankings': [8, 16, 27, 29, 37]}, {'original_hand': '7772J', 'mapped_rankings': [8, 8, 8, 13, 4], 'cumulative_rankings': [8, 16, 24, 37, 41]}, {'original_hand': '777J9', 'mapped_rankings': [8, 8, 8, 4, 6], 'cumulative_rankings': [8, 16, 24, 28, 34]}, {'original_hand': '777A8', 'mapped_rankings': [8, 8, 8, 1, 7], 'cumulative_rankings': [8, 16, 24, 25, 32]}, {'original_hand': '77K72', 'mapped_rankings': [8, 8, 2, 8, 13], 'cumulative_rankings': [8, 16, 18, 26, 39]}, {'original_hand': '77K78', 'mapped_rankings': [8, 8, 2, 8, 7], 'cumulative_rankings': [8, 16, 18, 26, 33]}, {'original_hand': '7TTT4', 'mapped_rankings': [8, 5, 5, 5, 11], 'cumulative_rankings': [8, 13, 18, 23, 34]}, {'original_hand': '7JT77', 'mapped_rankings': [8, 4, 5, 8, 8], 'cumulative_rankings': [8, 12, 17, 25, 33]}, {'original_hand': '7QQQT', 'mapped_rankings': [8, 3, 3, 3, 5], 'cumulative_rankings': [8, 11, 14, 17, 22]}, {'original_hand': '7QQQA', 'mapped_rankings': [8, 3, 3, 3, 1], 'cumulative_rankings': [8, 11, 14, 17, 18]}, {'original_hand': '88382', 'mapped_rankings': [7, 7, 12, 7, 13], 'cumulative_rankings': [7, 14, 26, 33, 46]}, {'original_hand': '8848T', 'mapped_rankings': [7, 7, 11, 7, 5], 'cumulative_rankings': [7, 14, 25, 32, 37]}, {'original_hand': '88J83', 'mapped_rankings': [7, 7, 4, 7, 12], 'cumulative_rankings': [7, 14, 18, 25, 37]}, {'original_hand': '8J898', 'mapped_rankings': [7, 4, 7, 6, 7], 'cumulative_rankings': [7, 11, 18, 24, 31]}, {'original_hand': '8JK88', 'mapped_rankings': [7, 4, 2, 7, 7], 'cumulative_rankings': [7, 11, 13, 20, 27]}, {'original_hand': '8QTTT', 'mapped_rankings': [7, 3, 5, 5, 5], 'cumulative_rankings': [7, 10, 15, 20, 25]}, {'original_hand': '8QKQQ', 'mapped_rankings': [7, 3, 2, 3, 3], 'cumulative_rankings': [7, 10, 12, 15, 18]}, {'original_hand': '8A688', 'mapped_rankings': [7, 1, 9, 7, 7], 'cumulative_rankings': [7, 8, 17, 24, 31]}, {'original_hand': '92993', 'mapped_rankings': [6, 13, 6, 6, 12], 'cumulative_rankings': [6, 19, 25, 31, 43]}, {'original_hand': '93997', 'mapped_rankings': [6, 12, 6, 6, 8], 'cumulative_rankings': [6, 18, 24, 30, 38]}, {'original_hand': '95777', 'mapped_rankings': [6, 10, 8, 8, 8], 'cumulative_rankings': [6, 16, 24, 32, 40]}, {'original_hand': '95939', 'mapped_rankings': [6, 10, 6, 12, 6], 'cumulative_rankings': [6, 16, 22, 34, 40]}, {'original_hand': '96997', 'mapped_rankings': [6, 9, 6, 6, 8], 'cumulative_rankings': [6, 15, 21, 27, 35]}, {'original_hand': '97899', 'mapped_rankings': [6, 8, 7, 6, 6], 'cumulative_rankings': [6, 14, 21, 27, 33]}, {'original_hand': '97959', 'mapped_rankings': [6, 8, 6, 10, 6], 'cumulative_rankings': [6, 14, 20, 30, 36]}, {'original_hand': '979J9', 'mapped_rankings': [6, 8, 6, 4, 6], 'cumulative_rankings': [6, 14, 20, 24, 30]}, {'original_hand': '98788', 'mapped_rankings': [6, 7, 8, 7, 7], 'cumulative_rankings': [6, 13, 21, 28, 35]}, {'original_hand': '98868', 'mapped_rankings': [6, 7, 7, 9, 7], 'cumulative_rankings': [6, 13, 20, 29, 36]}, {'original_hand': '9939J', 'mapped_rankings': [6, 6, 12, 6, 4], 'cumulative_rankings': [6, 12, 24, 30, 34]}, {'original_hand': '994Q9', 'mapped_rankings': [6, 6, 11, 3, 6], 'cumulative_rankings': [6, 12, 23, 26, 32]}, {'original_hand': '9992J', 'mapped_rankings': [6, 6, 6, 13, 4], 'cumulative_rankings': [6, 12, 18, 31, 35]}, {'original_hand': '9993Q', 'mapped_rankings': [6, 6, 6, 12, 3], 'cumulative_rankings': [6, 12, 18, 30, 33]}, {'original_hand': '99Q95', 'mapped_rankings': [6, 6, 3, 6, 10], 'cumulative_rankings': [6, 12, 15, 21, 31]}, {'original_hand': '9JAAA', 'mapped_rankings': [6, 4, 1, 1, 1], 'cumulative_rankings': [6, 10, 11, 12, 13]}, {'original_hand': '9KJ99', 'mapped_rankings': [6, 2, 4, 6, 6], 'cumulative_rankings': [6, 8, 12, 18, 24]}, {'original_hand': '9AAAK', 'mapped_rankings': [6, 1, 1, 1, 2], 'cumulative_rankings': [6, 7, 8, 9, 11]}, {'original_hand': 'T2777', 'mapped_rankings': [5, 13, 8, 8, 8], 'cumulative_rankings': [5, 18, 26, 34, 42]}, {'original_hand': 'T2KTT', 'mapped_rankings': [5, 13, 2, 5, 5], 'cumulative_rankings': [5, 18, 20, 25, 30]}, {'original_hand': 'T5888', 'mapped_rankings': [5, 10, 7, 7, 7], 'cumulative_rankings': [5, 15, 22, 29, 36]}, {'original_hand': 'T5TJT', 'mapped_rankings': [5, 10, 5, 4, 5], 'cumulative_rankings': [5, 15, 20, 24, 29]}, {'original_hand': 'T64TT', 'mapped_rankings': [5, 9, 11, 5, 5], 'cumulative_rankings': [5, 14, 25, 30, 35]}, {'original_hand': 'T6663', 'mapped_rankings': [5, 9, 9, 9, 12], 'cumulative_rankings': [5, 14, 23, 32, 44]}, {'original_hand': 'T7999', 'mapped_rankings': [5, 8, 6, 6, 6], 'cumulative_rankings': [5, 13, 19, 25, 31]}, {'original_hand': 'T83TT', 'mapped_rankings': [5, 7, 12, 5, 5], 'cumulative_rankings': [5, 12, 24, 29, 34]}, {'original_hand': 'T8JTT', 'mapped_rankings': [5, 7, 4, 5, 5], 'cumulative_rankings': [5, 12, 16, 21, 26]}, {'original_hand': 'T9KKK', 'mapped_rankings': [5, 6, 2, 2, 2], 'cumulative_rankings': [5, 11, 13, 15, 17]}, {'original_hand': 'TT4JT', 'mapped_rankings': [5, 5, 11, 4, 5], 'cumulative_rankings': [5, 10, 21, 25, 30]}, {'original_hand': 'TT8T2', 'mapped_rankings': [5, 5, 7, 5, 13], 'cumulative_rankings': [5, 10, 17, 22, 35]}, {'original_hand': 'TT9TJ', 'mapped_rankings': [5, 5, 6, 5, 4], 'cumulative_rankings': [5, 10, 16, 21, 25]}, {'original_hand': 'TTT4Q', 'mapped_rankings': [5, 5, 5, 11, 3], 'cumulative_rankings': [5, 10, 15, 26, 29]}, {'original_hand': 'TTJ6T', 'mapped_rankings': [5, 5, 4, 9, 5], 'cumulative_rankings': [5, 10, 14, 23, 28]}, {'original_hand': 'TJKTT', 'mapped_rankings': [5, 4, 2, 5, 5], 'cumulative_rankings': [5, 9, 11, 16, 21]}, {'original_hand': 'TQTT3', 'mapped_rankings': [5, 3, 5, 5, 12], 'cumulative_rankings': [5, 8, 13, 18, 30]}, {'original_hand': 'TQTJT', 'mapped_rankings': [5, 3, 5, 4, 5], 'cumulative_rankings': [5, 8, 13, 17, 22]}, {'original_hand': 'TA888', 'mapped_rankings': [5, 1, 7, 7, 7], 'cumulative_rankings': [5, 6, 13, 20, 27]}, {'original_hand': 'TAT5T', 'mapped_rankings': [5, 1, 5, 10, 5], 'cumulative_rankings': [5, 6, 11, 21, 26]}, {'original_hand': 'TAT6T', 'mapped_rankings': [5, 1, 5, 9, 5], 'cumulative_rankings': [5, 6, 11, 20, 25]}, {'original_hand': 'J2922', 'mapped_rankings': [4, 13, 6, 13, 13], 'cumulative_rankings': [4, 17, 23, 36, 49]}, {'original_hand': 'J3533', 'mapped_rankings': [4, 12, 10, 12, 12], 'cumulative_rankings': [4, 16, 26, 38, 50]}, {'original_hand': 'J5444', 'mapped_rankings': [4, 10, 11, 11, 11], 'cumulative_rankings': [4, 14, 25, 36, 47]}, {'original_hand': 'J5557', 'mapped_rankings': [4, 10, 10, 10, 8], 'cumulative_rankings': [4, 14, 24, 34, 42]}, {'original_hand': 'J5558', 'mapped_rankings': [4, 10, 10, 10, 7], 'cumulative_rankings': [4, 14, 24, 34, 41]}, {'original_hand': 'J77A7', 'mapped_rankings': [4, 8, 8, 1, 8], 'cumulative_rankings': [4, 12, 20, 21, 29]}, {'original_hand': 'J8Q88', 'mapped_rankings': [4, 7, 3, 7, 7], 'cumulative_rankings': [4, 11, 14, 21, 28]}, {'original_hand': 'J8KKK', 'mapped_rankings': [4, 7, 2, 2, 2], 'cumulative_rankings': [4, 11, 13, 15, 17]}, {'original_hand': 'JJJ6Q', 'mapped_rankings': [4, 4, 4, 9, 3], 'cumulative_rankings': [4, 8, 12, 21, 24]}, {'original_hand': 'JKK3K', 'mapped_rankings': [4, 2, 2, 12, 2], 'cumulative_rankings': [4, 6, 8, 20, 22]}, {'original_hand': 'JKKTK', 'mapped_rankings': [4, 2, 2, 5, 2], 'cumulative_rankings': [4, 6, 8, 13, 15]}, {'original_hand': 'Q3QQ7', 'mapped_rankings': [3, 12, 3, 3, 8], 'cumulative_rankings': [3, 15, 18, 21, 29]}, {'original_hand': 'Q999J', 'mapped_rankings': [3, 6, 6, 6, 4], 'cumulative_rankings': [3, 9, 15, 21, 25]}, {'original_hand': 'QTTTA', 'mapped_rankings': [3, 5, 5, 5, 1], 'cumulative_rankings': [3, 8, 13, 18, 19]}, {'original_hand': 'QQ76Q', 'mapped_rankings': [3, 3, 8, 9, 3], 'cumulative_rankings': [3, 6, 14, 23, 26]}, {'original_hand': 'QQT4Q', 'mapped_rankings': [3, 3, 5, 11, 3], 'cumulative_rankings': [3, 6, 11, 22, 25]}, {'original_hand': 'QQQ45', 'mapped_rankings': [3, 3, 3, 11, 10], 'cumulative_rankings': [3, 6, 9, 20, 30]}, {'original_hand': 'QQQ6J', 'mapped_rankings': [3, 3, 3, 9, 4], 'cumulative_rankings': [3, 6, 9, 18, 22]}, {'original_hand': 'QKKAK', 'mapped_rankings': [3, 2, 2, 1, 2], 'cumulative_rankings': [3, 5, 7, 8, 10]}, {'original_hand': 'K5KKT', 'mapped_rankings': [2, 10, 2, 2, 5], 'cumulative_rankings': [2, 12, 14, 16, 21]}, {'original_hand': 'K79KK', 'mapped_rankings': [2, 8, 6, 2, 2], 'cumulative_rankings': [2, 10, 16, 18, 20]}, {'original_hand': 'K7J77', 'mapped_rankings': [2, 8, 4, 8, 8], 'cumulative_rankings': [2, 10, 14, 22, 30]}, {'original_hand': 'K8889', 'mapped_rankings': [2, 7, 7, 7, 6], 'cumulative_rankings': [2, 9, 16, 23, 29]}, {'original_hand': 'K8A88', 'mapped_rankings': [2, 7, 1, 7, 7], 'cumulative_rankings': [2, 9, 10, 17, 24]}, {'original_hand': 'K9KAK', 'mapped_rankings': [2, 6, 2, 1, 2], 'cumulative_rankings': [2, 8, 10, 11, 13]}, {'original_hand': 'KJ6KK', 'mapped_rankings': [2, 4, 9, 2, 2], 'cumulative_rankings': [2, 6, 15, 17, 19]}, {'original_hand': 'KJKQK', 'mapped_rankings': [2, 4, 2, 3, 2], 'cumulative_rankings': [2, 6, 8, 11, 13]}, {'original_hand': 'KQTKK', 'mapped_rankings': [2, 3, 5, 2, 2], 'cumulative_rankings': [2, 5, 10, 12, 14]}, {'original_hand': 'KK4KJ', 'mapped_rankings': [2, 2, 11, 2, 4], 'cumulative_rankings': [2, 4, 15, 17, 21]}, {'original_hand': 'KKQ2K', 'mapped_rankings': [2, 2, 3, 13, 2], 'cumulative_rankings': [2, 4, 7, 20, 22]}, {'original_hand': 'KKK74', 'mapped_rankings': [2, 2, 2, 8, 11], 'cumulative_rankings': [2, 4, 6, 14, 25]}, {'original_hand': 'KAJAA', 'mapped_rankings': [2, 1, 4, 1, 1], 'cumulative_rankings': [2, 3, 7, 8, 9]}, {'original_hand': 'KAK3K', 'mapped_rankings': [2, 1, 2, 12, 2], 'cumulative_rankings': [2, 3, 5, 17, 19]}, {'original_hand': 'A2232', 'mapped_rankings': [1, 13, 13, 12, 13], 'cumulative_rankings': [1, 14, 27, 39, 52]}, {'original_hand': 'A2888', 'mapped_rankings': [1, 13, 7, 7, 7], 'cumulative_rankings': [1, 14, 21, 28, 35]}, {'original_hand': 'A3383', 'mapped_rankings': [1, 12, 12, 7, 12], 'cumulative_rankings': [1, 13, 25, 32, 44]}, {'original_hand': 'A46AA', 'mapped_rankings': [1, 11, 9, 1, 1], 'cumulative_rankings': [1, 12, 21, 22, 23]}, {'original_hand': 'A53AA', 'mapped_rankings': [1, 10, 12, 1, 1], 'cumulative_rankings': [1, 11, 23, 24, 25]}, {'original_hand': 'A77K7', 'mapped_rankings': [1, 8, 8, 2, 8], 'cumulative_rankings': [1, 9, 17, 19, 27]}, {'original_hand': 'A7999', 'mapped_rankings': [1, 8, 6, 6, 6], 'cumulative_rankings': [1, 9, 15, 21, 27]}, {'original_hand': 'A7AAK', 'mapped_rankings': [1, 8, 1, 1, 2], 'cumulative_rankings': [1, 9, 10, 11, 13]}, {'original_hand': 'A8AJA', 'mapped_rankings': [1, 7, 1, 4, 1], 'cumulative_rankings': [1, 8, 9, 13, 14]}, {'original_hand': 'AT2TT', 'mapped_rankings': [1, 5, 13, 5, 5], 'cumulative_rankings': [1, 6, 19, 24, 29]}, {'original_hand': 'AT3TT', 'mapped_rankings': [1, 5, 12, 5, 5], 'cumulative_rankings': [1, 6, 18, 23, 28]}, {'original_hand': 'AKK6K', 'mapped_rankings': [1, 2, 2, 9, 2], 'cumulative_rankings': [1, 3, 5, 14, 16]}, {'original_hand': 'AA5JA', 'mapped_rankings': [1, 1, 10, 4, 1], 'cumulative_rankings': [1, 2, 12, 16, 17]}, {'original_hand': 'AA72A', 'mapped_rankings': [1, 1, 8, 13, 1], 'cumulative_rankings': [1, 2, 10, 23, 24]}, {'original_hand': 'AAQJA', 'mapped_rankings': [1, 1, 3, 4, 1], 'cumulative_rankings': [1, 2, 5, 9, 10]}, {'original_hand': 'AAA52', 'mapped_rankings': [1, 1, 1, 10, 13], 'cumulative_rankings': [1, 2, 3, 13, 26]}, {'original_hand': '222TT', 'mapped_rankings': [13, 13, 13, 5, 5], 'cumulative_rankings': [13, 26, 39, 44, 49]}, {'original_hand': '22662', 'mapped_rankings': [13, 13, 9, 9, 13], 'cumulative_rankings': [13, 26, 35, 44, 57]}, {'original_hand': '22992', 'mapped_rankings': [13, 13, 6, 6, 13], 'cumulative_rankings': [13, 26, 32, 38, 51]}, {'original_hand': '22J2J', 'mapped_rankings': [13, 13, 4, 13, 4], 'cumulative_rankings': [13, 26, 30, 43, 47]}, {'original_hand': '25522', 'mapped_rankings': [13, 10, 10, 13, 13], 'cumulative_rankings': [13, 23, 33, 46, 59]}, {'original_hand': '27722', 'mapped_rankings': [13, 8, 8, 13, 13], 'cumulative_rankings': [13, 21, 29, 42, 55]}, {'original_hand': '2QQQ2', 'mapped_rankings': [13, 3, 3, 3, 13], 'cumulative_rankings': [13, 16, 19, 22, 35]}, {'original_hand': '2A2AA', 'mapped_rankings': [13, 1, 13, 1, 1], 'cumulative_rankings': [13, 14, 27, 28, 29]}, {'original_hand': '33399', 'mapped_rankings': [12, 12, 12, 6, 6], 'cumulative_rankings': [12, 24, 36, 42, 48]}, {'original_hand': '33535', 'mapped_rankings': [12, 12, 10, 12, 10], 'cumulative_rankings': [12, 24, 34, 46, 56]}, {'original_hand': '33999', 'mapped_rankings': [12, 12, 6, 6, 6], 'cumulative_rankings': [12, 24, 30, 36, 42]}, {'original_hand': '33JJ3', 'mapped_rankings': [12, 12, 4, 4, 12], 'cumulative_rankings': [12, 24, 28, 32, 44]}, {'original_hand': '34334', 'mapped_rankings': [12, 11, 12, 12, 11], 'cumulative_rankings': [12, 23, 35, 47, 58]}, {'original_hand': '34434', 'mapped_rankings': [12, 11, 11, 12, 11], 'cumulative_rankings': [12, 23, 34, 46, 57]}, {'original_hand': '36663', 'mapped_rankings': [12, 9, 9, 9, 12], 'cumulative_rankings': [12, 21, 30, 39, 51]}, {'original_hand': '37737', 'mapped_rankings': [12, 8, 8, 12, 8], 'cumulative_rankings': [12, 20, 28, 40, 48]}, {'original_hand': '3KK33', 'mapped_rankings': [12, 2, 2, 12, 12], 'cumulative_rankings': [12, 14, 16, 28, 40]}, {'original_hand': '42442', 'mapped_rankings': [11, 13, 11, 11, 13], 'cumulative_rankings': [11, 24, 35, 46, 59]}, {'original_hand': '444QQ', 'mapped_rankings': [11, 11, 11, 3, 3], 'cumulative_rankings': [11, 22, 33, 36, 39]}, {'original_hand': '444AA', 'mapped_rankings': [11, 11, 11, 1, 1], 'cumulative_rankings': [11, 22, 33, 34, 35]}, {'original_hand': '44884', 'mapped_rankings': [11, 11, 7, 7, 11], 'cumulative_rankings': [11, 22, 29, 36, 47]}, {'original_hand': '45554', 'mapped_rankings': [11, 10, 10, 10, 11], 'cumulative_rankings': [11, 21, 31, 41, 52]}, {'original_hand': '46664', 'mapped_rankings': [11, 9, 9, 9, 11], 'cumulative_rankings': [11, 20, 29, 38, 49]}, {'original_hand': '47474', 'mapped_rankings': [11, 8, 11, 8, 11], 'cumulative_rankings': [11, 19, 30, 38, 49]}, {'original_hand': '4KKK4', 'mapped_rankings': [11, 2, 2, 2, 11], 'cumulative_rankings': [11, 13, 15, 17, 28]}, {'original_hand': '55252', 'mapped_rankings': [10, 10, 13, 10, 13], 'cumulative_rankings': [10, 20, 33, 43, 56]}, {'original_hand': '55444', 'mapped_rankings': [10, 10, 11, 11, 11], 'cumulative_rankings': [10, 20, 31, 42, 53]}, {'original_hand': '55666', 'mapped_rankings': [10, 10, 9, 9, 9], 'cumulative_rankings': [10, 20, 29, 38, 47]}, {'original_hand': '55858', 'mapped_rankings': [10, 10, 7, 10, 7], 'cumulative_rankings': [10, 20, 27, 37, 44]}, {'original_hand': '55888', 'mapped_rankings': [10, 10, 7, 7, 7], 'cumulative_rankings': [10, 20, 27, 34, 41]}, {'original_hand': '55995', 'mapped_rankings': [10, 10, 6, 6, 10], 'cumulative_rankings': [10, 20, 26, 32, 42]}, {'original_hand': '55Q5Q', 'mapped_rankings': [10, 10, 3, 10, 3], 'cumulative_rankings': [10, 20, 23, 33, 36]}, {'original_hand': '55A5A', 'mapped_rankings': [10, 10, 1, 10, 1], 'cumulative_rankings': [10, 20, 21, 31, 32]}, {'original_hand': '55AAA', 'mapped_rankings': [10, 10, 1, 1, 1], 'cumulative_rankings': [10, 20, 21, 22, 23]}, {'original_hand': '57577', 'mapped_rankings': [10, 8, 10, 8, 8], 'cumulative_rankings': [10, 18, 28, 36, 44]}, {'original_hand': '5K55K', 'mapped_rankings': [10, 2, 10, 10, 2], 'cumulative_rankings': [10, 12, 22, 32, 34]}, {'original_hand': '66262', 'mapped_rankings': [9, 9, 13, 9, 13], 'cumulative_rankings': [9, 18, 31, 40, 53]}, {'original_hand': '66444', 'mapped_rankings': [9, 9, 11, 11, 11], 'cumulative_rankings': [9, 18, 29, 40, 51]}, {'original_hand': '66555', 'mapped_rankings': [9, 9, 10, 10, 10], 'cumulative_rankings': [9, 18, 28, 38, 48]}, {'original_hand': '666JJ', 'mapped_rankings': [9, 9, 9, 4, 4], 'cumulative_rankings': [9, 18, 27, 31, 35]}, {'original_hand': '66969', 'mapped_rankings': [9, 9, 6, 9, 6], 'cumulative_rankings': [9, 18, 24, 33, 39]}, {'original_hand': '66QQQ', 'mapped_rankings': [9, 9, 3, 3, 3], 'cumulative_rankings': [9, 18, 21, 24, 27]}, {'original_hand': '67667', 'mapped_rankings': [9, 8, 9, 9, 8], 'cumulative_rankings': [9, 17, 26, 35, 43]}, {'original_hand': '72277', 'mapped_rankings': [8, 13, 13, 8, 8], 'cumulative_rankings': [8, 21, 34, 42, 50]}, {'original_hand': '74747', 'mapped_rankings': [8, 11, 8, 11, 8], 'cumulative_rankings': [8, 19, 27, 38, 46]}, {'original_hand': '76776', 'mapped_rankings': [8, 9, 8, 8, 9], 'cumulative_rankings': [8, 17, 25, 33, 42]}, {'original_hand': '77333', 'mapped_rankings': [8, 8, 12, 12, 12], 'cumulative_rankings': [8, 16, 28, 40, 52]}, {'original_hand': '777QQ', 'mapped_rankings': [8, 8, 8, 3, 3], 'cumulative_rankings': [8, 16, 24, 27, 30]}, {'original_hand': '77888', 'mapped_rankings': [8, 8, 7, 7, 7], 'cumulative_rankings': [8, 16, 23, 30, 37]}, {'original_hand': '79977', 'mapped_rankings': [8, 6, 6, 8, 8], 'cumulative_rankings': [8, 14, 20, 28, 36]}, {'original_hand': '7TTT7', 'mapped_rankings': [8, 5, 5, 5, 8], 'cumulative_rankings': [8, 13, 18, 23, 31]}, {'original_hand': '7J77J', 'mapped_rankings': [8, 4, 8, 8, 4], 'cumulative_rankings': [8, 12, 20, 28, 32]}, {'original_hand': '7AA77', 'mapped_rankings': [8, 1, 1, 8, 8], 'cumulative_rankings': [8, 9, 10, 18, 26]}, {'original_hand': '82282', 'mapped_rankings': [7, 13, 13, 7, 13], 'cumulative_rankings': [7, 20, 33, 40, 53]}, {'original_hand': '82288', 'mapped_rankings': [7, 13, 13, 7, 7], 'cumulative_rankings': [7, 20, 33, 40, 47]}, {'original_hand': '83338', 'mapped_rankings': [7, 12, 12, 12, 7], 'cumulative_rankings': [7, 19, 31, 43, 50]}, {'original_hand': '83388', 'mapped_rankings': [7, 12, 12, 7, 7], 'cumulative_rankings': [7, 19, 31, 38, 45]}, {'original_hand': '88666', 'mapped_rankings': [7, 7, 9, 9, 9], 'cumulative_rankings': [7, 14, 23, 32, 41]}, {'original_hand': '89988', 'mapped_rankings': [7, 6, 6, 7, 7], 'cumulative_rankings': [7, 13, 19, 26, 33]}, {'original_hand': '8QQ88', 'mapped_rankings': [7, 3, 3, 7, 7], 'cumulative_rankings': [7, 10, 13, 20, 27]}, {'original_hand': '8A8AA', 'mapped_rankings': [7, 1, 7, 1, 1], 'cumulative_rankings': [7, 8, 15, 16, 17]}, {'original_hand': '97979', 'mapped_rankings': [6, 8, 6, 8, 6], 'cumulative_rankings': [6, 14, 20, 28, 34]}, {'original_hand': '99595', 'mapped_rankings': [6, 6, 10, 6, 10], 'cumulative_rankings': [6, 12, 22, 28, 38]}, {'original_hand': '99669', 'mapped_rankings': [6, 6, 9, 9, 6], 'cumulative_rankings': [6, 12, 21, 30, 36]}, {'original_hand': '99922', 'mapped_rankings': [6, 6, 6, 13, 13], 'cumulative_rankings': [6, 12, 18, 31, 44]}, {'original_hand': '99988', 'mapped_rankings': [6, 6, 6, 7, 7], 'cumulative_rankings': [6, 12, 18, 25, 32]}, {'original_hand': '99QQQ', 'mapped_rankings': [6, 6, 3, 3, 3], 'cumulative_rankings': [6, 12, 15, 18, 21]}, {'original_hand': '99A9A', 'mapped_rankings': [6, 6, 1, 6, 1], 'cumulative_rankings': [6, 12, 13, 19, 20]}, {'original_hand': '9T9T9', 'mapped_rankings': [6, 5, 6, 5, 6], 'cumulative_rankings': [6, 11, 17, 22, 28]}, {'original_hand': '9JJ99', 'mapped_rankings': [6, 4, 4, 6, 6], 'cumulative_rankings': [6, 10, 14, 20, 26]}, {'original_hand': 'T44TT', 'mapped_rankings': [5, 11, 11, 5, 5], 'cumulative_rankings': [5, 16, 27, 32, 37]}, {'original_hand': 'T55TT', 'mapped_rankings': [5, 10, 10, 5, 5], 'cumulative_rankings': [5, 15, 25, 30, 35]}, {'original_hand': 'T5T55', 'mapped_rankings': [5, 10, 5, 10, 10], 'cumulative_rankings': [5, 15, 20, 30, 40]}, {'original_hand': 'T9TT9', 'mapped_rankings': [5, 6, 5, 5, 6], 'cumulative_rankings': [5, 11, 16, 21, 27]}, {'original_hand': 'TT444', 'mapped_rankings': [5, 5, 11, 11, 11], 'cumulative_rankings': [5, 10, 21, 32, 43]}, {'original_hand': 'TT777', 'mapped_rankings': [5, 5, 8, 8, 8], 'cumulative_rankings': [5, 10, 18, 26, 34]}, {'original_hand': 'J3JJ3', 'mapped_rankings': [4, 12, 4, 4, 12], 'cumulative_rankings': [4, 16, 20, 24, 36]}, {'original_hand': 'J44J4', 'mapped_rankings': [4, 11, 11, 4, 11], 'cumulative_rankings': [4, 15, 26, 30, 41]}, {'original_hand': 'J5JJ5', 'mapped_rankings': [4, 10, 4, 4, 10], 'cumulative_rankings': [4, 14, 18, 22, 32]}, {'original_hand': 'J8J88', 'mapped_rankings': [4, 7, 4, 7, 7], 'cumulative_rankings': [4, 11, 15, 22, 29]}, {'original_hand': 'JQJQQ', 'mapped_rankings': [4, 3, 4, 3, 3], 'cumulative_rankings': [4, 7, 11, 14, 17]}, {'original_hand': 'Q2Q22', 'mapped_rankings': [3, 13, 3, 13, 13], 'cumulative_rankings': [3, 16, 19, 32, 45]}, {'original_hand': 'Q3Q33', 'mapped_rankings': [3, 12, 3, 12, 12], 'cumulative_rankings': [3, 15, 18, 30, 42]}, {'original_hand': 'Q4Q4Q', 'mapped_rankings': [3, 11, 3, 11, 3], 'cumulative_rankings': [3, 14, 17, 28, 31]}, {'original_hand': 'QTQQT', 'mapped_rankings': [3, 5, 3, 3, 5], 'cumulative_rankings': [3, 8, 11, 14, 19]}, {'original_hand': 'QQAQA', 'mapped_rankings': [3, 3, 1, 3, 1], 'cumulative_rankings': [3, 6, 7, 10, 11]}, {'original_hand': 'QQAAA', 'mapped_rankings': [3, 3, 1, 1, 1], 'cumulative_rankings': [3, 6, 7, 8, 9]}, {'original_hand': 'QKKKQ', 'mapped_rankings': [3, 2, 2, 2, 3], 'cumulative_rankings': [3, 5, 7, 9, 12]}, {'original_hand': 'K4K44', 'mapped_rankings': [2, 11, 2, 11, 11], 'cumulative_rankings': [2, 13, 15, 26, 37]}, {'original_hand': 'K77K7', 'mapped_rankings': [2, 8, 8, 2, 8], 'cumulative_rankings': [2, 10, 18, 20, 28]}, {'original_hand': 'K7KK7', 'mapped_rankings': [2, 8, 2, 2, 8], 'cumulative_rankings': [2, 10, 12, 14, 22]}, {'original_hand': 'K99K9', 'mapped_rankings': [2, 6, 6, 2, 6], 'cumulative_rankings': [2, 8, 14, 16, 22]}, {'original_hand': 'K99KK', 'mapped_rankings': [2, 6, 6, 2, 2], 'cumulative_rankings': [2, 8, 14, 16, 18]}, {'original_hand': 'KK666', 'mapped_rankings': [2, 2, 9, 9, 9], 'cumulative_rankings': [2, 4, 13, 22, 31]}, {'original_hand': 'KK6K6', 'mapped_rankings': [2, 2, 9, 2, 9], 'cumulative_rankings': [2, 4, 13, 15, 24]}, {'original_hand': 'KKTKT', 'mapped_rankings': [2, 2, 5, 2, 5], 'cumulative_rankings': [2, 4, 9, 11, 16]}, {'original_hand': 'KKJKJ', 'mapped_rankings': [2, 2, 4, 2, 4], 'cumulative_rankings': [2, 4, 8, 10, 14]}, {'original_hand': 'KKK88', 'mapped_rankings': [2, 2, 2, 7, 7], 'cumulative_rankings': [2, 4, 6, 13, 20]}, {'original_hand': 'A22A2', 'mapped_rankings': [1, 13, 13, 1, 13], 'cumulative_rankings': [1, 14, 27, 28, 41]}, {'original_hand': 'A6A6A', 'mapped_rankings': [1, 9, 1, 9, 1], 'cumulative_rankings': [1, 10, 11, 20, 21]}, {'original_hand': 'AAJAJ', 'mapped_rankings': [1, 1, 4, 1, 4], 'cumulative_rankings': [1, 2, 6, 7, 11]}, {'original_hand': 'AAKAK', 'mapped_rankings': [1, 1, 2, 1, 2], 'cumulative_rankings': [1, 2, 4, 5, 7]}, {'original_hand': '22228', 'mapped_rankings': [13, 13, 13, 13, 7], 'cumulative_rankings': [13, 26, 39, 52, 59]}, {'original_hand': '2222A', 'mapped_rankings': [13, 13, 13, 13, 1], 'cumulative_rankings': [13, 26, 39, 52, 53]}, {'original_hand': '22262', 'mapped_rankings': [13, 13, 13, 9, 13], 'cumulative_rankings': [13, 26, 39, 48, 61]}, {'original_hand': '22272', 'mapped_rankings': [13, 13, 13, 8, 13], 'cumulative_rankings': [13, 26, 39, 47, 60]}, {'original_hand': '222J2', 'mapped_rankings': [13, 13, 13, 4, 13], 'cumulative_rankings': [13, 26, 39, 43, 56]}, {'original_hand': '222K2', 'mapped_rankings': [13, 13, 13, 2, 13], 'cumulative_rankings': [13, 26, 39, 41, 54]}, {'original_hand': '22322', 'mapped_rankings': [13, 13, 12, 13, 13], 'cumulative_rankings': [13, 26, 38, 51, 64]}, {'original_hand': '23333', 'mapped_rankings': [13, 12, 12, 12, 12], 'cumulative_rankings': [13, 25, 37, 49, 61]}, {'original_hand': '25222', 'mapped_rankings': [13, 10, 13, 13, 13], 'cumulative_rankings': [13, 23, 36, 49, 62]}, {'original_hand': '3333K', 'mapped_rankings': [12, 12, 12, 12, 2], 'cumulative_rankings': [12, 24, 36, 48, 50]}, {'original_hand': '33363', 'mapped_rankings': [12, 12, 12, 9, 12], 'cumulative_rankings': [12, 24, 36, 45, 57]}, {'original_hand': '33T33', 'mapped_rankings': [12, 12, 5, 12, 12], 'cumulative_rankings': [12, 24, 29, 41, 53]}, {'original_hand': '33J33', 'mapped_rankings': [12, 12, 4, 12, 12], 'cumulative_rankings': [12, 24, 28, 40, 52]}, {'original_hand': '36666', 'mapped_rankings': [12, 9, 9, 9, 9], 'cumulative_rankings': [12, 21, 30, 39, 48]}, {'original_hand': '37777', 'mapped_rankings': [12, 8, 8, 8, 8], 'cumulative_rankings': [12, 20, 28, 36, 44]}, {'original_hand': '44442', 'mapped_rankings': [11, 11, 11, 11, 13], 'cumulative_rankings': [11, 22, 33, 44, 57]}, {'original_hand': '4444Q', 'mapped_rankings': [11, 11, 11, 11, 3], 'cumulative_rankings': [11, 22, 33, 44, 47]}, {'original_hand': '44544', 'mapped_rankings': [11, 11, 10, 11, 11], 'cumulative_rankings': [11, 22, 32, 43, 54]}, {'original_hand': '44644', 'mapped_rankings': [11, 11, 9, 11, 11], 'cumulative_rankings': [11, 22, 31, 42, 53]}, {'original_hand': '44744', 'mapped_rankings': [11, 11, 8, 11, 11], 'cumulative_rankings': [11, 22, 30, 41, 52]}, {'original_hand': '44J44', 'mapped_rankings': [11, 11, 4, 11, 11], 'cumulative_rankings': [11, 22, 26, 37, 48]}, {'original_hand': '46666', 'mapped_rankings': [11, 9, 9, 9, 9], 'cumulative_rankings': [11, 20, 29, 38, 47]}, {'original_hand': '55554', 'mapped_rankings': [10, 10, 10, 10, 11], 'cumulative_rankings': [10, 20, 30, 40, 51]}, {'original_hand': '5555T', 'mapped_rankings': [10, 10, 10, 10, 5], 'cumulative_rankings': [10, 20, 30, 40, 45]}, {'original_hand': '55855', 'mapped_rankings': [10, 10, 7, 10, 10], 'cumulative_rankings': [10, 20, 27, 37, 47]}, {'original_hand': '55955', 'mapped_rankings': [10, 10, 6, 10, 10], 'cumulative_rankings': [10, 20, 26, 36, 46]}, {'original_hand': '55J55', 'mapped_rankings': [10, 10, 4, 10, 10], 'cumulative_rankings': [10, 20, 24, 34, 44]}, {'original_hand': '55Q55', 'mapped_rankings': [10, 10, 3, 10, 10], 'cumulative_rankings': [10, 20, 23, 33, 43]}, {'original_hand': '57555', 'mapped_rankings': [10, 8, 10, 10, 10], 'cumulative_rankings': [10, 18, 28, 38, 48]}, {'original_hand': '57777', 'mapped_rankings': [10, 8, 8, 8, 8], 'cumulative_rankings': [10, 18, 26, 34, 42]}, {'original_hand': '5QQQQ', 'mapped_rankings': [10, 3, 3, 3, 3], 'cumulative_rankings': [10, 13, 16, 19, 22]}, {'original_hand': '5K555', 'mapped_rankings': [10, 2, 10, 10, 10], 'cumulative_rankings': [10, 12, 22, 32, 42]}, {'original_hand': '5A555', 'mapped_rankings': [10, 1, 10, 10, 10], 'cumulative_rankings': [10, 11, 21, 31, 41]}, {'original_hand': '65555', 'mapped_rankings': [9, 10, 10, 10, 10], 'cumulative_rankings': [9, 19, 29, 39, 49]}, {'original_hand': '66665', 'mapped_rankings': [9, 9, 9, 9, 10], 'cumulative_rankings': [9, 18, 27, 36, 46]}, {'original_hand': '666T6', 'mapped_rankings': [9, 9, 9, 5, 9], 'cumulative_rankings': [9, 18, 27, 32, 41]}, {'original_hand': '66766', 'mapped_rankings': [9, 9, 8, 9, 9], 'cumulative_rankings': [9, 18, 26, 35, 44]}, {'original_hand': '66J66', 'mapped_rankings': [9, 9, 4, 9, 9], 'cumulative_rankings': [9, 18, 22, 31, 40]}, {'original_hand': '66A66', 'mapped_rankings': [9, 9, 1, 9, 9], 'cumulative_rankings': [9, 18, 19, 28, 37]}, {'original_hand': '77477', 'mapped_rankings': [8, 8, 11, 8, 8], 'cumulative_rankings': [8, 16, 27, 35, 43]}, {'original_hand': '77767', 'mapped_rankings': [8, 8, 8, 9, 8], 'cumulative_rankings': [8, 16, 24, 33, 41]}, {'original_hand': '7777J', 'mapped_rankings': [8, 8, 8, 8, 4], 'cumulative_rankings': [8, 16, 24, 32, 36]}, {'original_hand': '77A77', 'mapped_rankings': [8, 8, 1, 8, 8], 'cumulative_rankings': [8, 16, 17, 25, 33]}, {'original_hand': '78777', 'mapped_rankings': [8, 7, 8, 8, 8], 'cumulative_rankings': [8, 15, 23, 31, 39]}, {'original_hand': '79777', 'mapped_rankings': [8, 6, 8, 8, 8], 'cumulative_rankings': [8, 14, 22, 30, 38]}, {'original_hand': '7KKKK', 'mapped_rankings': [8, 2, 2, 2, 2], 'cumulative_rankings': [8, 10, 12, 14, 16]}, {'original_hand': '82888', 'mapped_rankings': [7, 13, 7, 7, 7], 'cumulative_rankings': [7, 20, 27, 34, 41]}, {'original_hand': '83333', 'mapped_rankings': [7, 12, 12, 12, 12], 'cumulative_rankings': [7, 19, 31, 43, 55]}, {'original_hand': '87888', 'mapped_rankings': [7, 8, 7, 7, 7], 'cumulative_rankings': [7, 15, 22, 29, 36]}, {'original_hand': '88488', 'mapped_rankings': [7, 7, 11, 7, 7], 'cumulative_rankings': [7, 14, 25, 32, 39]}, {'original_hand': '88858', 'mapped_rankings': [7, 7, 7, 10, 7], 'cumulative_rankings': [7, 14, 21, 31, 38]}, {'original_hand': '8888A', 'mapped_rankings': [7, 7, 7, 7, 1], 'cumulative_rankings': [7, 14, 21, 28, 29]}, {'original_hand': '88K88', 'mapped_rankings': [7, 7, 2, 7, 7], 'cumulative_rankings': [7, 14, 16, 23, 30]}, {'original_hand': '89888', 'mapped_rankings': [7, 6, 7, 7, 7], 'cumulative_rankings': [7, 13, 20, 27, 34]}, {'original_hand': '8KKKK', 'mapped_rankings': [7, 2, 2, 2, 2], 'cumulative_rankings': [7, 9, 11, 13, 15]}, {'original_hand': '98999', 'mapped_rankings': [6, 7, 6, 6, 6], 'cumulative_rankings': [6, 13, 19, 25, 31]}, {'original_hand': '99499', 'mapped_rankings': [6, 6, 11, 6, 6], 'cumulative_rankings': [6, 12, 23, 29, 35]}, {'original_hand': '99939', 'mapped_rankings': [6, 6, 6, 12, 6], 'cumulative_rankings': [6, 12, 18, 30, 36]}, {'original_hand': '99995', 'mapped_rankings': [6, 6, 6, 6, 10], 'cumulative_rankings': [6, 12, 18, 24, 34]}, {'original_hand': '999Q9', 'mapped_rankings': [6, 6, 6, 3, 6], 'cumulative_rankings': [6, 12, 18, 21, 27]}, {'original_hand': '999K9', 'mapped_rankings': [6, 6, 6, 2, 6], 'cumulative_rankings': [6, 12, 18, 20, 26]}, {'original_hand': '99J99', 'mapped_rankings': [6, 6, 4, 6, 6], 'cumulative_rankings': [6, 12, 16, 22, 28]}, {'original_hand': '9T999', 'mapped_rankings': [6, 5, 6, 6, 6], 'cumulative_rankings': [6, 11, 17, 23, 29]}, {'original_hand': 'T7777', 'mapped_rankings': [5, 8, 8, 8, 8], 'cumulative_rankings': [5, 13, 21, 29, 37]}, {'original_hand': 'TT3TT', 'mapped_rankings': [5, 5, 12, 5, 5], 'cumulative_rankings': [5, 10, 22, 27, 32]}, {'original_hand': 'TT8TT', 'mapped_rankings': [5, 5, 7, 5, 5], 'cumulative_rankings': [5, 10, 17, 22, 27]}, {'original_hand': 'TTT5T', 'mapped_rankings': [5, 5, 5, 10, 5], 'cumulative_rankings': [5, 10, 15, 25, 30]}, {'original_hand': 'TTT6T', 'mapped_rankings': [5, 5, 5, 9, 5], 'cumulative_rankings': [5, 10, 15, 24, 29]}, {'original_hand': 'TTTT7', 'mapped_rankings': [5, 5, 5, 5, 8], 'cumulative_rankings': [5, 10, 15, 20, 28]}, {'original_hand': 'TTTTK', 'mapped_rankings': [5, 5, 5, 5, 2], 'cumulative_rankings': [5, 10, 15, 20, 22]}, {'original_hand': 'J8888', 'mapped_rankings': [4, 7, 7, 7, 7], 'cumulative_rankings': [4, 11, 18, 25, 32]}, {'original_hand': 'J8JJJ', 'mapped_rankings': [4, 7, 4, 4, 4], 'cumulative_rankings': [4, 11, 15, 19, 23]}, {'original_hand': 'JTTTT', 'mapped_rankings': [4, 5, 5, 5, 5], 'cumulative_rankings': [4, 9, 14, 19, 24]}, {'original_hand': 'Q3333', 'mapped_rankings': [3, 12, 12, 12, 12], 'cumulative_rankings': [3, 15, 27, 39, 51]}, {'original_hand': 'QTTTT', 'mapped_rankings': [3, 5, 5, 5, 5], 'cumulative_rankings': [3, 8, 13, 18, 23]}, {'original_hand': 'QTQQQ', 'mapped_rankings': [3, 5, 3, 3, 3], 'cumulative_rankings': [3, 8, 11, 14, 17]}, {'original_hand': 'QJQQQ', 'mapped_rankings': [3, 4, 3, 3, 3], 'cumulative_rankings': [3, 7, 10, 13, 16]}, {'original_hand': 'QQ3QQ', 'mapped_rankings': [3, 3, 12, 3, 3], 'cumulative_rankings': [3, 6, 18, 21, 24]}, {'original_hand': 'QQ8QQ', 'mapped_rankings': [3, 3, 7, 3, 3], 'cumulative_rankings': [3, 6, 13, 16, 19]}, {'original_hand': 'QQQ7Q', 'mapped_rankings': [3, 3, 3, 8, 3], 'cumulative_rankings': [3, 6, 9, 17, 20]}, {'original_hand': 'QQQQ2', 'mapped_rankings': [3, 3, 3, 3, 13], 'cumulative_rankings': [3, 6, 9, 12, 25]}, {'original_hand': 'QQQQ9', 'mapped_rankings': [3, 3, 3, 3, 6], 'cumulative_rankings': [3, 6, 9, 12, 18]}, {'original_hand': 'QQQAQ', 'mapped_rankings': [3, 3, 3, 1, 3], 'cumulative_rankings': [3, 6, 9, 10, 13]}, {'original_hand': 'QQKQQ', 'mapped_rankings': [3, 3, 2, 3, 3], 'cumulative_rankings': [3, 6, 8, 11, 14]}, {'original_hand': 'K4KKK', 'mapped_rankings': [2, 11, 2, 2, 2], 'cumulative_rankings': [2, 13, 15, 17, 19]}, {'original_hand': 'K5KKK', 'mapped_rankings': [2, 10, 2, 2, 2], 'cumulative_rankings': [2, 12, 14, 16, 18]}, {'original_hand': 'K9KKK', 'mapped_rankings': [2, 6, 2, 2, 2], 'cumulative_rankings': [2, 8, 10, 12, 14]}, {'original_hand': 'KJKKK', 'mapped_rankings': [2, 4, 2, 2, 2], 'cumulative_rankings': [2, 6, 8, 10, 12]}, {'original_hand': 'KKK6K', 'mapped_rankings': [2, 2, 2, 9, 2], 'cumulative_rankings': [2, 4, 6, 15, 17]}, {'original_hand': 'KKKTK', 'mapped_rankings': [2, 2, 2, 5, 2], 'cumulative_rankings': [2, 4, 6, 11, 13]}, {'original_hand': 'KAKKK', 'mapped_rankings': [2, 1, 2, 2, 2], 'cumulative_rankings': [2, 3, 5, 7, 9]}, {'original_hand': 'A4444', 'mapped_rankings': [1, 11, 11, 11, 11], 'cumulative_rankings': [1, 12, 23, 34, 45]}, {'original_hand': 'AJAAA', 'mapped_rankings': [1, 4, 1, 1, 1], 'cumulative_rankings': [1, 5, 6, 7, 8]}, {'original_hand': 'AA9AA', 'mapped_rankings': [1, 1, 6, 1, 1], 'cumulative_rankings': [1, 2, 8, 9, 10]}, {'original_hand': 'AAAQA', 'mapped_rankings': [1, 1, 1, 3, 1], 'cumulative_rankings': [1, 2, 3, 6, 7]}, {'original_hand': 'AAAA3', 'mapped_rankings': [1, 1, 1, 1, 12], 'cumulative_rankings': [1, 2, 3, 4, 16]}, {'original_hand': 'AAAA5', 'mapped_rankings': [1, 1, 1, 1, 10], 'cumulative_rankings': [1, 2, 3, 4, 14]}, {'original_hand': 'AAAAT', 'mapped_rankings': [1, 1, 1, 1, 5], 'cumulative_rankings': [1, 2, 3, 4, 9]}, {'original_hand': 'AAAAK', 'mapped_rankings': [1, 1, 1, 1, 2], 'cumulative_rankings': [1, 2, 3, 4, 6]}, {'original_hand': 'JJJJJ', 'mapped_rankings': [4, 4, 4, 4, 4], 'cumulative_rankings': [4, 8, 12, 16, 20]}]\n"
     ]
    }
   ],
   "source": [
    "final_results = result_high_card + result_one_pair + result_two_pairs + result_three_kind + result_full_house + result_four_kind + result_five_kind\n",
    "print(final_results)"
   ]
  },
  {
   "cell_type": "markdown",
   "id": "e22f5610-dcfb-49c8-bf91-db0a21333a71",
   "metadata": {},
   "source": [
    "### Add the final rankings to each hand"
   ]
  },
  {
   "cell_type": "code",
   "execution_count": 11,
   "id": "18f4c1ee-6513-4dc8-ae7e-81a6b167cbf1",
   "metadata": {},
   "outputs": [],
   "source": [
    "final_rankings = list(enumerate(final_results, start=1))"
   ]
  },
  {
   "cell_type": "markdown",
   "id": "631f9548-0e4e-478c-8f3b-76ebc0cccb2e",
   "metadata": {},
   "source": [
    "### Multiply the hand rankings by their corresponding bid values"
   ]
  },
  {
   "cell_type": "code",
   "execution_count": 12,
   "id": "535cc5de-2eec-497c-a1da-8d7c109c5b31",
   "metadata": {},
   "outputs": [
    {
     "name": "stdout",
     "output_type": "stream",
     "text": [
      "247823654\n"
     ]
    }
   ],
   "source": [
    "result = 0\n",
    "\n",
    "for index, data in final_rankings:\n",
    "    original_hand = data['original_hand']\n",
    "    matching_bid = next(bid for bid in bids if bid[0] == original_hand)\n",
    "    bid_value = int(matching_bid[1])\n",
    "    result += index * bid_value\n",
    "\n",
    "print(result)          "
   ]
  },
  {
   "cell_type": "markdown",
   "id": "c842b188-a19f-41b2-89ab-8c0f21959acc",
   "metadata": {},
   "source": [
    "### Part 2"
   ]
  },
  {
   "cell_type": "markdown",
   "id": "4dd2e577-2ba5-4633-934a-095186fffc1b",
   "metadata": {},
   "source": [
    "To make things a little more interesting, the Elf introduces one additional rule. Now, J cards are jokers - wildcards that can act like whatever card would make the hand the strongest type possible.\n",
    "\n",
    "To balance this, J cards are now the weakest individual cards, weaker even than 2. The other cards stay in the same order: A, K, Q, T, 9, 8, 7, 6, 5, 4, 3, 2, J.\n",
    "\n",
    "J cards can pretend to be whatever card is best for the purpose of determining hand type; for example, QJJQ2 is now considered four of a kind. However, for the purpose of breaking ties between two hands of the same type, J is always treated as J, not the card it's pretending to be: JKKK2 is weaker than QQQQ2 because J is weaker than Q.\n",
    "\n",
    "Now, the above example goes very differently:\n",
    "\n",
    "    32T3K 765\n",
    "    T55J5 684\n",
    "    KK677 28\n",
    "    KTJJT 220\n",
    "    QQQJA 483\n",
    "\n",
    "- 32T3K is still the only one pair; it doesn't contain any jokers, so its strength doesn't increase.\n",
    "- KK677 is now the only two pair, making it the second-weakest hand.\n",
    "- T55J5, KTJJT, and QQQJA are now all four of a kind! T55J5 gets rank 3, QQQJA gets rank 4, and KTJJT gets rank 5.\n",
    "\n",
    "With the new joker rule, the total winnings in this example are 5905.\n",
    "\n",
    "Using the new joker rule, find the rank of every hand in your set. What are the new total winnings? "
   ]
  },
  {
   "cell_type": "code",
   "execution_count": 1,
   "id": "6525bc7f-0b7c-4fa1-9d94-b2bb294e554b",
   "metadata": {},
   "outputs": [],
   "source": [
    "# load in sample puzzle input\n",
    "file_path = 'data/day7test.txt' \n",
    "\n",
    "try:\n",
    "    with open(file_path, 'r') as file:\n",
    "        camel_cards = file.read()\n",
    "except FileNotFoundError:\n",
    "    print(f\"File not found: {file_path}\")\n",
    "    camel_cards = None"
   ]
  },
  {
   "cell_type": "code",
   "execution_count": 2,
   "id": "3df86623-ff2d-4f19-be4f-969b2c241fe2",
   "metadata": {},
   "outputs": [],
   "source": [
    "lines = camel_cards.split('\\n')\n",
    "\n",
    "dealt = []\n",
    "bids = []\n",
    "\n",
    "for line in lines:\n",
    "    parts = line.split()\n",
    "    if len(parts) == 2:\n",
    "        deal = parts[0][:5]\n",
    "        dealt.append(deal)\n",
    "        bid = parts[1]\n",
    "        bids.append(bid)\n",
    "        #print(f\"Hand: {hands} Bid: {bid}\")\n",
    "    else:\n",
    "        print(f\"Invalid line: {line}\")"
   ]
  },
  {
   "cell_type": "code",
   "execution_count": 3,
   "id": "af9ba909-cd13-47a6-a424-e1b62f3df00d",
   "metadata": {},
   "outputs": [
    {
     "name": "stdout",
     "output_type": "stream",
     "text": [
      "['32T3K', 'T55J5', 'KK677', 'KTJJT', 'QQQJA']\n"
     ]
    }
   ],
   "source": [
    "print(dealt)"
   ]
  },
  {
   "cell_type": "code",
   "execution_count": 4,
   "id": "580c07d0-9063-4c12-9c3d-9eacfa4bfc78",
   "metadata": {},
   "outputs": [],
   "source": [
    "zipped = zip(dealt, bids)\n",
    "bids = list(zipped)"
   ]
  },
  {
   "cell_type": "code",
   "execution_count": 5,
   "id": "f02de815-221e-4cda-98b2-adc1b3265988",
   "metadata": {},
   "outputs": [],
   "source": [
    "hand_type_rank = {\n",
    "    'Five of a Kind': 1,\n",
    "    'Four of a Kind': 2,\n",
    "    'Full House': 3,\n",
    "    'Three of a Kind': 4,\n",
    "    'Two Pairs': 5,\n",
    "    'One Pair': 6,\n",
    "    'High Card': 7\n",
    "    }"
   ]
  },
  {
   "cell_type": "code",
   "execution_count": 6,
   "id": "13249977-2f70-45c0-aff4-22791aeec8f9",
   "metadata": {},
   "outputs": [
    {
     "name": "stdout",
     "output_type": "stream",
     "text": [
      "[('Five of a Kind', 1), ('Four of a Kind', 2), ('Full House', 3), ('Three of a Kind', 4), ('Two Pairs', 5), ('One Pair', 6), ('High Card', 7)]\n"
     ]
    }
   ],
   "source": [
    "hand_type_rank_list = list(hand_type_rank.items())\n",
    "print(hand_type_rank_list)"
   ]
  },
  {
   "cell_type": "code",
   "execution_count": 7,
   "id": "fdd16af7-3189-4140-b376-3c755c8f81bf",
   "metadata": {},
   "outputs": [],
   "source": [
    "from collections import defaultdict \n",
    "      \n",
    "def check_five_of_a_kind(hand):\n",
    "    values = [i[0] for i in hand]\n",
    "    value_counts = defaultdict(lambda: 0)\n",
    "    \n",
    "    for v in values:\n",
    "        value_counts[v] += 1\n",
    "\n",
    "    if any(count == 5 for count in value_counts.values()):\n",
    "        return True\n",
    "    return False\n",
    "\n",
    "def check_four_of_a_kind(hand):\n",
    "    values = [i[0] for i in hand]\n",
    "    value_counts = defaultdict(lambda:0)\n",
    "    for v in values:\n",
    "        value_counts[v]+=1\n",
    "    if sorted(value_counts.values()) == [1,4]:\n",
    "        return True\n",
    "    return False\n",
    "\n",
    "def check_full_house(hand):\n",
    "    values = [i[0] for i in hand]\n",
    "    value_counts = defaultdict(lambda:0)\n",
    "    for v in values:\n",
    "        value_counts[v]+=1\n",
    "    if sorted(value_counts.values()) == [2,3]:\n",
    "        return True\n",
    "    return False\n",
    "\n",
    "def check_three_of_a_kind(hand):\n",
    "    values = [i[0] for i in hand]\n",
    "    value_counts = defaultdict(lambda:0)\n",
    "    for v in values:\n",
    "        value_counts[v]+=1\n",
    "    if set(value_counts.values()) == set([3,1]):\n",
    "        return True\n",
    "    else:\n",
    "        return False\n",
    "\n",
    "def check_two_pairs(hand):\n",
    "    values = [i[0] for i in hand]\n",
    "    value_counts = defaultdict(lambda:0)\n",
    "    for v in values:\n",
    "        value_counts[v]+=1\n",
    "    if sorted(value_counts.values())==[1,2,2]:\n",
    "        return True\n",
    "    else:\n",
    "        return False\n",
    "\n",
    "def check_one_pair(hand):\n",
    "    values = [i[0] for i in hand]\n",
    "    value_counts = defaultdict(lambda:0)\n",
    "    for v in values:\n",
    "        value_counts[v]+=1\n",
    "    if 2 in value_counts.values():\n",
    "        return True\n",
    "    else:\n",
    "        return False  \n",
    "     \n",
    "    \n",
    "def check_hand(dealt):\n",
    "    \n",
    "    if check_five_of_a_kind(hand):\n",
    "        return hand_type_rank_list[0]\n",
    "           \n",
    "    if check_four_of_a_kind(hand):\n",
    "        return hand_type_rank_list[1]\n",
    "    \n",
    "    if check_full_house(hand):\n",
    "        return hand_type_rank_list[2]\n",
    "    \n",
    "    if check_three_of_a_kind(hand):\n",
    "        return hand_type_rank_list[3]\n",
    "    \n",
    "    if check_two_pairs(hand):\n",
    "        return hand_type_rank_list[4]\n",
    "    \n",
    "    if check_one_pair(hand):\n",
    "        return hand_type_rank_list[5]\n",
    "           \n",
    "    else:\n",
    "        return hand_type_rank_list[6]   \n",
    "    \n",
    "# Lists to store the results of each iteration\n",
    "final_results = []\n",
    "\n",
    "jacks = []\n",
    "five_kind = []\n",
    "four_kind = []\n",
    "full_house = []\n",
    "three_kind = []\n",
    "two_pairs = []\n",
    "one_pair = []\n",
    "high_card = []\n",
    "\n",
    "# Loop through each hand in the list\n",
    "for hand in dealt:\n",
    "    hand_type = check_hand(hand)\n",
    "    \n",
    "    # Check for 'J' in the hand and save it to the 'jacks' list\n",
    "    if 'J' in hand:\n",
    "        jacks.append(hand)\n",
    "    \n",
    "    elif hand_type == hand_type_rank_list[0]:\n",
    "        five_kind.append(hand)\n",
    "    elif hand_type == hand_type_rank_list[1]:\n",
    "        four_kind.append(hand)\n",
    "    elif hand_type == hand_type_rank_list[2]:\n",
    "        full_house.append(hand)\n",
    "    elif hand_type == hand_type_rank_list[3]:\n",
    "        three_kind.append(hand)\n",
    "    elif hand_type == hand_type_rank_list[4]:\n",
    "        two_pairs.append(hand)\n",
    "    elif hand_type == hand_type_rank_list[5]:\n",
    "        one_pair.append(hand)\n",
    "    else:\n",
    "        high_card.append(hand)          \n"
   ]
  },
  {
   "cell_type": "code",
   "execution_count": 8,
   "id": "2ca44426-80dd-4e9e-a33b-fa65f2ffdc1a",
   "metadata": {},
   "outputs": [
    {
     "name": "stdout",
     "output_type": "stream",
     "text": [
      "Five kind: []\n",
      "Four kind: []\n",
      "Full House: []\n",
      "Three kind: []\n",
      "Two pairs: ['KK677']\n",
      "One pair: ['32T3K']\n",
      "High card: []\n",
      "Jacks: ['T55J5', 'KTJJT', 'QQQJA']\n"
     ]
    }
   ],
   "source": [
    "print(\"Five kind:\", five_kind)\n",
    "print(\"Four kind:\", four_kind)\n",
    "print(\"Full House:\", full_house)\n",
    "print(\"Three kind:\", three_kind)\n",
    "print(\"Two pairs:\", two_pairs)\n",
    "print(\"One pair:\",one_pair)\n",
    "print(\"High card:\", high_card)\n",
    "print(\"Jacks:\",jacks)"
   ]
  },
  {
   "cell_type": "code",
   "execution_count": null,
   "id": "b461474f-dd6f-4acc-8ae5-a8dd492e9b36",
   "metadata": {},
   "outputs": [],
   "source": [
    "from collections import defaultdict\n",
    "\n",
    "def count_values(hand):\n",
    "    values = [i[0] for i in hand]\n",
    "    value_counts = defaultdict(lambda: 0)\n",
    "\n",
    "    for v in values:\n",
    "        value_counts[v] += 1\n",
    "\n",
    "    return value_counts\n",
    "\n",
    "def use_wildcard(hand, wildcard='J'):\n",
    "    values = [i[0] for i in hand]\n",
    "    value_counts = count_values(hand)\n",
    "\n",
    "    if wildcard in values:\n",
    "        return value_counts[wildcard] + 1\n",
    "\n",
    "    return 0\n",
    "\n",
    "def check_hand(dealt, wildcard='J'):\n",
    "    hand_type_rank_list = [('Five of a Kind', 1), ('Four of a Kind', 2), ('Full House', 3), ('Three of a Kind', 4),\n",
    "                           ('Two Pairs', 5), ('One Pair', 6), ('High Card', 7)]\n",
    "\n",
    "    # ... (unchanged code)\n",
    "\n",
    "    # Loop through each hand in the list\n",
    "    for hand in dealt:\n",
    "        # Check for 'J' and use it as a wildcard to strengthen the hand\n",
    "        j_count = use_wildcard(hand, wildcard)\n",
    "\n",
    "        # Continue with the existing logic for categorizing hands\n",
    "        if check_five_of_a_kind(hand):\n",
    "            return hand_type_rank_list[0]\n",
    "        elif check_four_of_a_kind(hand):\n",
    "            return hand_type_rank_list[1]\n",
    "        elif check_full_house(hand):\n",
    "            return hand_type_rank_list[2]\n",
    "        elif check_three_of_a_kind(hand):\n",
    "            return hand_type_rank_list[3]\n",
    "        elif check_two_pairs(hand):\n",
    "            return hand_type_rank_list[4]\n",
    "        elif check_one_pair(hand):\n",
    "            return hand_type_rank_list[5]\n",
    "        else:\n",
    "            # High card logic with consideration for the wildcard\n",
    "            return hand_type_rank_list[6] - j_count\n",
    "\n",
    "# Lists to store the results of each iteration\n",
    "final_results = []\n",
    "jacks = []\n",
    "five_kind = []\n",
    "four_kind = []\n",
    "full_house = []\n",
    "three_kind = []\n",
    "two_pairs = []\n",
    "one_pair = []\n",
    "high_card = []\n",
    "\n",
    "# Loop through each hand in the list\n",
    "for hand in dealt:\n",
    "    hand_type = check_hand(hand)\n",
    "\n",
    "    # Check for 'J' and use it as a wildcard to strengthen the hand\n",
    "    if 'J' in hand:\n",
    "        jacks.append(hand)\n",
    "    else:\n",
    "        # Continue with the existing logic for categorizing hands\n",
    "        if hand_type == hand_type_rank_list[0]:\n",
    "            five_kind.append(hand)\n",
    "        elif hand_type == hand_type_rank_list[1]:\n",
    "            four_kind.append(hand)\n",
    "        elif hand_type == hand_type_rank_list[2]:\n",
    "            full_house.append(hand)\n",
    "        elif hand_type == hand_type_rank_list[3]:\n",
    "            three_kind.append(hand)\n",
    "        elif hand_type == hand_type_rank_list[4]:\n",
    "            two_pairs.append(hand)\n",
    "        elif hand_type == hand_type_rank_list[5]:\n",
    "            one_pair.append(hand)\n",
    "        else:\n",
    "            high_card.append(hand)\n"
   ]
  }
 ],
 "metadata": {
  "kernelspec": {
   "display_name": "Python 3 (ipykernel)",
   "language": "python",
   "name": "python3"
  },
  "language_info": {
   "codemirror_mode": {
    "name": "ipython",
    "version": 3
   },
   "file_extension": ".py",
   "mimetype": "text/x-python",
   "name": "python",
   "nbconvert_exporter": "python",
   "pygments_lexer": "ipython3",
   "version": "3.10.12"
  },
  "widgets": {
   "application/vnd.jupyter.widget-state+json": {
    "state": {},
    "version_major": 2,
    "version_minor": 0
   }
  }
 },
 "nbformat": 4,
 "nbformat_minor": 5
}
