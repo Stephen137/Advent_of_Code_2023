{
 "cells": [
  {
   "cell_type": "markdown",
   "id": "ef54a90a-5682-40fe-b53a-fad7bbf65bf8",
   "metadata": {},
   "source": [
    "## Day 6: Wait For It "
   ]
  },
  {
   "cell_type": "markdown",
   "id": "e95133fc-3339-4449-83b5-7901a9b34c04",
   "metadata": {},
   "source": [
    "The ferry quickly brings you across Island Island. After asking around, you discover that there is indeed normally a large pile of sand somewhere near here, but you don't see anything besides lots of water and the small island where the ferry has docked.\n",
    "\n",
    "As you try to figure out what to do next, you notice a poster on a wall near the ferry dock. \"Boat races! Open to the public! Grand prize is an all-expenses-paid trip to Desert Island!\" That must be where the sand comes from! Best of all, the boat races are starting in just a few minutes.\n",
    "\n",
    "You manage to sign up as a competitor in the boat races just in time. The organizer explains that it's not really a traditional race - instead, you will get a fixed amount of time during which your boat has to travel as far as it can, and you win if your boat goes the farthest.\n",
    "\n",
    "As part of signing up, you get a sheet of paper (your puzzle input) that lists the time allowed for each race and also the best distance ever recorded in that race. To guarantee you win the grand prize, you need to make sure you go farther in each race than the current record holder.\n",
    "\n",
    "The organizer brings you over to the area where the boat races are held. The boats are much smaller than you expected - they're actually toy boats, each with a big button on top. Holding down the button charges the boat, and releasing the button allows the boat to move. Boats move faster if their button was held longer, but time spent holding the button counts against the total race time. You can only hold the button at the start of the race, and boats don't move until the button is released.\n",
    "\n",
    "For example:\n",
    "    \n",
    "    Time:      7  15   30\n",
    "    Distance:  9  40  200\n",
    "    \n",
    "This document describes three races:\n",
    "\n",
    "- The first race lasts 7 milliseconds. The record distance in this race is 9 millimeters.\n",
    "- The second race lasts 15 milliseconds. The record distance in this race is 40 millimeters.\n",
    "- The third race lasts 30 milliseconds. The record distance in this race is 200 millimeters.\n",
    "Y\n",
    "our toy boat has a starting speed of zero millimeters per millisecond. For each whole millisecond you spend at the beginning of the race holding down the button, the boat's speed increases by one millimeter per millisecond.\n",
    "\n",
    "So, because the first race lasts 7 milliseconds, you only have a few options:\n",
    "\n",
    "- Don't hold the button at all (that is, hold it for 0 milliseconds) at the start of the race. The boat won't move; it will have traveled 0 millimeters by the end of the race.\n",
    "- Hold the button for 1 millisecond at the start of the race. Then, the boat will travel at a speed of 1 millimeter per millisecond for 6 milliseconds, reaching a total distance traveled of 6 millimeters.\n",
    "- Hold the button for 2 milliseconds, giving the boat a speed of 2 millimeters per millisecond. It will then get 5 milliseconds to move, reaching a total distance of 10 millimeters.\n",
    "- Hold the button for 3 milliseconds. After its remaining 4 milliseconds of travel time, the boat will have gone 12 millimeters.\n",
    "- Hold the button for 4 milliseconds. After its remaining 3 milliseconds of travel time, the boat will have gone 12 millimeters.\n",
    "- Hold the button for 5 milliseconds, causing the boat to travel a total of 10 millimeters.\n",
    "- Hold the button for 6 milliseconds, causing the boat to travel a total of 6 millimeters.\n",
    "- Hold the button for 7 milliseconds. That's the entire duration of the race. You never let go of the button. The boat can't move until you let go of the button. Please make sure you let go of the button so the boat gets to move. 0 millimeters.\n",
    "\n",
    "Since the current record for this race is 9 millimeters, there are actually 4 different ways you could win: you could hold the button for 2, 3, 4, or 5 milliseconds at the start of the race.\n",
    "\n",
    "In the second race, you could hold the button for at least 4 milliseconds and at most 11 milliseconds and beat the record, a total of 8 different ways to win.\n",
    "\n",
    "In the third race, you could hold the button for at least 11 milliseconds and no more than 19 milliseconds and still beat the record, a total of 9 ways you could win.\n",
    "\n",
    "To see how much margin of error you have, determine the number of ways you can beat the record in each race; in this example, if you multiply these values together, you get 288 (4 * 8 * 9).\n",
    "\n",
    "Determine the number of ways you could beat the record in each race. What do you get if you multiply these numbers together?"
   ]
  },
  {
   "cell_type": "markdown",
   "id": "61240c75-ce71-4268-906d-04c579944035",
   "metadata": {},
   "source": [
    "### Part 1 - Test"
   ]
  },
  {
   "cell_type": "code",
   "execution_count": 60,
   "id": "f67dc35d-0138-48b8-8bc6-75d1a65349fd",
   "metadata": {},
   "outputs": [],
   "source": [
    "# load in sample puzzle input\n",
    "file_path = 'data/day6test.txt' \n",
    "\n",
    "try:\n",
    "    with open(file_path, 'r') as file:\n",
    "        time_distance_test = file.read()\n",
    "except FileNotFoundError:\n",
    "    print(f\"File not found: {file_path}\")\n",
    "    time_distance_test = None"
   ]
  },
  {
   "cell_type": "code",
   "execution_count": 61,
   "id": "1b684730-94e3-4e47-992f-40aa095828ae",
   "metadata": {},
   "outputs": [
    {
     "name": "stdout",
     "output_type": "stream",
     "text": [
      "Time:      7  15   30\n",
      "Distance:  9  40  200\n"
     ]
    }
   ],
   "source": [
    "print(time_distance_test)"
   ]
  },
  {
   "cell_type": "code",
   "execution_count": 62,
   "id": "1419bab4-3ed0-475f-9f78-790d76f8b3a5",
   "metadata": {},
   "outputs": [
    {
     "name": "stdout",
     "output_type": "stream",
     "text": [
      "Race Times: [7, 15, 30]\n",
      "Race Records: [9, 40, 200]\n"
     ]
    }
   ],
   "source": [
    "# Split the string into lines\n",
    "lines = time_distance_test.strip().split('\\n')\n",
    "\n",
    "# Extract race times and race records\n",
    "race_times_line = lines[0].split()[1:]\n",
    "race_record_line = lines[1].split()[1:]\n",
    "\n",
    "# Convert the extracted strings to integers\n",
    "race_times_test = list(map(int, race_times_line))\n",
    "race_records_test = list(map(int, race_record_line))\n",
    "\n",
    "print(\"Race Times:\", race_times_test)\n",
    "print(\"Race Records:\", race_records_test)\n"
   ]
  },
  {
   "cell_type": "markdown",
   "id": "d6caee90-8518-4c53-b187-a03326e686e1",
   "metadata": {},
   "source": [
    "### Model the boat race"
   ]
  },
  {
   "cell_type": "code",
   "execution_count": 63,
   "id": "63fc7fc8-12f7-4ef9-9245-59513fd9295f",
   "metadata": {},
   "outputs": [
    {
     "name": "stdout",
     "output_type": "stream",
     "text": [
      "Record broken! Button held for 2 milliseconds. Distance travelled: 10 mm.\n",
      "Record broken! Button held for 3 milliseconds. Distance travelled: 12 mm.\n",
      "Record broken! Button held for 4 milliseconds. Distance travelled: 12 mm.\n",
      "Record broken! Button held for 5 milliseconds. Distance travelled: 10 mm.\n",
      "For race time 7 and record 9, the number of ways you could beat the record is 4.\n",
      "Record broken! Button held for 4 milliseconds. Distance travelled: 44 mm.\n",
      "Record broken! Button held for 5 milliseconds. Distance travelled: 50 mm.\n",
      "Record broken! Button held for 6 milliseconds. Distance travelled: 54 mm.\n",
      "Record broken! Button held for 7 milliseconds. Distance travelled: 56 mm.\n",
      "Record broken! Button held for 8 milliseconds. Distance travelled: 56 mm.\n",
      "Record broken! Button held for 9 milliseconds. Distance travelled: 54 mm.\n",
      "Record broken! Button held for 10 milliseconds. Distance travelled: 50 mm.\n",
      "Record broken! Button held for 11 milliseconds. Distance travelled: 44 mm.\n",
      "For race time 15 and record 40, the number of ways you could beat the record is 8.\n",
      "Record broken! Button held for 11 milliseconds. Distance travelled: 209 mm.\n",
      "Record broken! Button held for 12 milliseconds. Distance travelled: 216 mm.\n",
      "Record broken! Button held for 13 milliseconds. Distance travelled: 221 mm.\n",
      "Record broken! Button held for 14 milliseconds. Distance travelled: 224 mm.\n",
      "Record broken! Button held for 15 milliseconds. Distance travelled: 225 mm.\n",
      "Record broken! Button held for 16 milliseconds. Distance travelled: 224 mm.\n",
      "Record broken! Button held for 17 milliseconds. Distance travelled: 221 mm.\n",
      "Record broken! Button held for 18 milliseconds. Distance travelled: 216 mm.\n",
      "Record broken! Button held for 19 milliseconds. Distance travelled: 209 mm.\n",
      "For race time 30 and record 200, the number of ways you could beat the record is 9.\n",
      "The total number of ways across all races is 288.\n"
     ]
    }
   ],
   "source": [
    "def calculate_ways(race_times, race_records):\n",
    "    total_ways = 1  # Initialize total_ways to 1\n",
    "\n",
    "    for race_time, race_record in zip(race_times_test, race_records_test):\n",
    "        charge_times = list(range(race_time))\n",
    "        ways = 0\n",
    "\n",
    "        for charge in charge_times:\n",
    "            if charge * race_time - (charge ** 2) > race_record:\n",
    "                ways += 1\n",
    "                print(f'Record broken! Button held for {charge} milliseconds. Distance travelled: {charge * race_time - (charge ** 2)} mm.')\n",
    "            else:\n",
    "                continue\n",
    "\n",
    "        total_ways *= ways  # Multiply ways for the current race to the total_ways\n",
    "\n",
    "        print(f'For race time {race_time} and record {race_record}, the number of ways you could beat the record is {ways}.')\n",
    "    print(f'The total number of ways across all races is {total_ways}.')\n",
    "    \n",
    "    #return total_ways  # Return the total_ways value\n",
    "\n",
    "# Example usage\n",
    "calculate_ways(race_times, race_records)  "
   ]
  },
  {
   "cell_type": "markdown",
   "id": "3f6cb24b-b390-43b6-b03f-f0aa2c6b6e1f",
   "metadata": {},
   "source": [
    "### Part 1 - Attempted Solution"
   ]
  },
  {
   "cell_type": "code",
   "execution_count": 64,
   "id": "74c31ca3-f77c-4b20-9a40-f074e7e55586",
   "metadata": {},
   "outputs": [],
   "source": [
    "# load in sample puzzle input\n",
    "file_path = 'data/race_times.txt' \n",
    "\n",
    "try:\n",
    "    with open(file_path, 'r') as file:\n",
    "        time_distance = file.read()\n",
    "except FileNotFoundError:\n",
    "    print(f\"File not found: {file_path}\")\n",
    "    time_distance = None"
   ]
  },
  {
   "cell_type": "code",
   "execution_count": 65,
   "id": "812eadaa-4128-4dda-9575-9babc16e4a35",
   "metadata": {},
   "outputs": [
    {
     "name": "stdout",
     "output_type": "stream",
     "text": [
      "Time:        45     98     83     73\n",
      "Distance:   295   1734   1278   1210\n"
     ]
    }
   ],
   "source": [
    "print(time_distance)"
   ]
  },
  {
   "cell_type": "code",
   "execution_count": 66,
   "id": "723f292f-0675-4107-8ee5-50b3511a6ea8",
   "metadata": {},
   "outputs": [
    {
     "name": "stdout",
     "output_type": "stream",
     "text": [
      "Race Times: [45, 98, 83, 73]\n",
      "Race Records: [295, 1734, 1278, 1210]\n"
     ]
    }
   ],
   "source": [
    "# Split the string into lines\n",
    "lines = time_distance.strip().split('\\n')\n",
    "\n",
    "# Extract race times and race records\n",
    "race_times_line = lines[0].split()[1:]\n",
    "race_record_line = lines[1].split()[1:]\n",
    "\n",
    "# Convert the extracted strings to integers\n",
    "race_times = list(map(int, race_times_line))\n",
    "race_records = list(map(int, race_record_line))\n",
    "\n",
    "print(\"Race Times:\", race_times)\n",
    "print(\"Race Records:\", race_records)"
   ]
  },
  {
   "cell_type": "code",
   "execution_count": 67,
   "id": "10f78218-ddf7-4930-b3bd-21a0effbdc7a",
   "metadata": {},
   "outputs": [
    {
     "name": "stdout",
     "output_type": "stream",
     "text": [
      "Record broken! Button held for 8 milliseconds. Distance travelled: 296 mm.\n",
      "Record broken! Button held for 9 milliseconds. Distance travelled: 324 mm.\n",
      "Record broken! Button held for 10 milliseconds. Distance travelled: 350 mm.\n",
      "Record broken! Button held for 11 milliseconds. Distance travelled: 374 mm.\n",
      "Record broken! Button held for 12 milliseconds. Distance travelled: 396 mm.\n",
      "Record broken! Button held for 13 milliseconds. Distance travelled: 416 mm.\n",
      "Record broken! Button held for 14 milliseconds. Distance travelled: 434 mm.\n",
      "Record broken! Button held for 15 milliseconds. Distance travelled: 450 mm.\n",
      "Record broken! Button held for 16 milliseconds. Distance travelled: 464 mm.\n",
      "Record broken! Button held for 17 milliseconds. Distance travelled: 476 mm.\n",
      "Record broken! Button held for 18 milliseconds. Distance travelled: 486 mm.\n",
      "Record broken! Button held for 19 milliseconds. Distance travelled: 494 mm.\n",
      "Record broken! Button held for 20 milliseconds. Distance travelled: 500 mm.\n",
      "Record broken! Button held for 21 milliseconds. Distance travelled: 504 mm.\n",
      "Record broken! Button held for 22 milliseconds. Distance travelled: 506 mm.\n",
      "Record broken! Button held for 23 milliseconds. Distance travelled: 506 mm.\n",
      "Record broken! Button held for 24 milliseconds. Distance travelled: 504 mm.\n",
      "Record broken! Button held for 25 milliseconds. Distance travelled: 500 mm.\n",
      "Record broken! Button held for 26 milliseconds. Distance travelled: 494 mm.\n",
      "Record broken! Button held for 27 milliseconds. Distance travelled: 486 mm.\n",
      "Record broken! Button held for 28 milliseconds. Distance travelled: 476 mm.\n",
      "Record broken! Button held for 29 milliseconds. Distance travelled: 464 mm.\n",
      "Record broken! Button held for 30 milliseconds. Distance travelled: 450 mm.\n",
      "Record broken! Button held for 31 milliseconds. Distance travelled: 434 mm.\n",
      "Record broken! Button held for 32 milliseconds. Distance travelled: 416 mm.\n",
      "Record broken! Button held for 33 milliseconds. Distance travelled: 396 mm.\n",
      "Record broken! Button held for 34 milliseconds. Distance travelled: 374 mm.\n",
      "Record broken! Button held for 35 milliseconds. Distance travelled: 350 mm.\n",
      "Record broken! Button held for 36 milliseconds. Distance travelled: 324 mm.\n",
      "Record broken! Button held for 37 milliseconds. Distance travelled: 296 mm.\n",
      "For race time 45 and record 295, the number of ways you could beat the record is 30.\n",
      "Record broken! Button held for 24 milliseconds. Distance travelled: 1776 mm.\n",
      "Record broken! Button held for 25 milliseconds. Distance travelled: 1825 mm.\n",
      "Record broken! Button held for 26 milliseconds. Distance travelled: 1872 mm.\n",
      "Record broken! Button held for 27 milliseconds. Distance travelled: 1917 mm.\n",
      "Record broken! Button held for 28 milliseconds. Distance travelled: 1960 mm.\n",
      "Record broken! Button held for 29 milliseconds. Distance travelled: 2001 mm.\n",
      "Record broken! Button held for 30 milliseconds. Distance travelled: 2040 mm.\n",
      "Record broken! Button held for 31 milliseconds. Distance travelled: 2077 mm.\n",
      "Record broken! Button held for 32 milliseconds. Distance travelled: 2112 mm.\n",
      "Record broken! Button held for 33 milliseconds. Distance travelled: 2145 mm.\n",
      "Record broken! Button held for 34 milliseconds. Distance travelled: 2176 mm.\n",
      "Record broken! Button held for 35 milliseconds. Distance travelled: 2205 mm.\n",
      "Record broken! Button held for 36 milliseconds. Distance travelled: 2232 mm.\n",
      "Record broken! Button held for 37 milliseconds. Distance travelled: 2257 mm.\n",
      "Record broken! Button held for 38 milliseconds. Distance travelled: 2280 mm.\n",
      "Record broken! Button held for 39 milliseconds. Distance travelled: 2301 mm.\n",
      "Record broken! Button held for 40 milliseconds. Distance travelled: 2320 mm.\n",
      "Record broken! Button held for 41 milliseconds. Distance travelled: 2337 mm.\n",
      "Record broken! Button held for 42 milliseconds. Distance travelled: 2352 mm.\n",
      "Record broken! Button held for 43 milliseconds. Distance travelled: 2365 mm.\n",
      "Record broken! Button held for 44 milliseconds. Distance travelled: 2376 mm.\n",
      "Record broken! Button held for 45 milliseconds. Distance travelled: 2385 mm.\n",
      "Record broken! Button held for 46 milliseconds. Distance travelled: 2392 mm.\n",
      "Record broken! Button held for 47 milliseconds. Distance travelled: 2397 mm.\n",
      "Record broken! Button held for 48 milliseconds. Distance travelled: 2400 mm.\n",
      "Record broken! Button held for 49 milliseconds. Distance travelled: 2401 mm.\n",
      "Record broken! Button held for 50 milliseconds. Distance travelled: 2400 mm.\n",
      "Record broken! Button held for 51 milliseconds. Distance travelled: 2397 mm.\n",
      "Record broken! Button held for 52 milliseconds. Distance travelled: 2392 mm.\n",
      "Record broken! Button held for 53 milliseconds. Distance travelled: 2385 mm.\n",
      "Record broken! Button held for 54 milliseconds. Distance travelled: 2376 mm.\n",
      "Record broken! Button held for 55 milliseconds. Distance travelled: 2365 mm.\n",
      "Record broken! Button held for 56 milliseconds. Distance travelled: 2352 mm.\n",
      "Record broken! Button held for 57 milliseconds. Distance travelled: 2337 mm.\n",
      "Record broken! Button held for 58 milliseconds. Distance travelled: 2320 mm.\n",
      "Record broken! Button held for 59 milliseconds. Distance travelled: 2301 mm.\n",
      "Record broken! Button held for 60 milliseconds. Distance travelled: 2280 mm.\n",
      "Record broken! Button held for 61 milliseconds. Distance travelled: 2257 mm.\n",
      "Record broken! Button held for 62 milliseconds. Distance travelled: 2232 mm.\n",
      "Record broken! Button held for 63 milliseconds. Distance travelled: 2205 mm.\n",
      "Record broken! Button held for 64 milliseconds. Distance travelled: 2176 mm.\n",
      "Record broken! Button held for 65 milliseconds. Distance travelled: 2145 mm.\n",
      "Record broken! Button held for 66 milliseconds. Distance travelled: 2112 mm.\n",
      "Record broken! Button held for 67 milliseconds. Distance travelled: 2077 mm.\n",
      "Record broken! Button held for 68 milliseconds. Distance travelled: 2040 mm.\n",
      "Record broken! Button held for 69 milliseconds. Distance travelled: 2001 mm.\n",
      "Record broken! Button held for 70 milliseconds. Distance travelled: 1960 mm.\n",
      "Record broken! Button held for 71 milliseconds. Distance travelled: 1917 mm.\n",
      "Record broken! Button held for 72 milliseconds. Distance travelled: 1872 mm.\n",
      "Record broken! Button held for 73 milliseconds. Distance travelled: 1825 mm.\n",
      "Record broken! Button held for 74 milliseconds. Distance travelled: 1776 mm.\n",
      "For race time 98 and record 1734, the number of ways you could beat the record is 51.\n",
      "Record broken! Button held for 21 milliseconds. Distance travelled: 1302 mm.\n",
      "Record broken! Button held for 22 milliseconds. Distance travelled: 1342 mm.\n",
      "Record broken! Button held for 23 milliseconds. Distance travelled: 1380 mm.\n",
      "Record broken! Button held for 24 milliseconds. Distance travelled: 1416 mm.\n",
      "Record broken! Button held for 25 milliseconds. Distance travelled: 1450 mm.\n",
      "Record broken! Button held for 26 milliseconds. Distance travelled: 1482 mm.\n",
      "Record broken! Button held for 27 milliseconds. Distance travelled: 1512 mm.\n",
      "Record broken! Button held for 28 milliseconds. Distance travelled: 1540 mm.\n",
      "Record broken! Button held for 29 milliseconds. Distance travelled: 1566 mm.\n",
      "Record broken! Button held for 30 milliseconds. Distance travelled: 1590 mm.\n",
      "Record broken! Button held for 31 milliseconds. Distance travelled: 1612 mm.\n",
      "Record broken! Button held for 32 milliseconds. Distance travelled: 1632 mm.\n",
      "Record broken! Button held for 33 milliseconds. Distance travelled: 1650 mm.\n",
      "Record broken! Button held for 34 milliseconds. Distance travelled: 1666 mm.\n",
      "Record broken! Button held for 35 milliseconds. Distance travelled: 1680 mm.\n",
      "Record broken! Button held for 36 milliseconds. Distance travelled: 1692 mm.\n",
      "Record broken! Button held for 37 milliseconds. Distance travelled: 1702 mm.\n",
      "Record broken! Button held for 38 milliseconds. Distance travelled: 1710 mm.\n",
      "Record broken! Button held for 39 milliseconds. Distance travelled: 1716 mm.\n",
      "Record broken! Button held for 40 milliseconds. Distance travelled: 1720 mm.\n",
      "Record broken! Button held for 41 milliseconds. Distance travelled: 1722 mm.\n",
      "Record broken! Button held for 42 milliseconds. Distance travelled: 1722 mm.\n",
      "Record broken! Button held for 43 milliseconds. Distance travelled: 1720 mm.\n",
      "Record broken! Button held for 44 milliseconds. Distance travelled: 1716 mm.\n",
      "Record broken! Button held for 45 milliseconds. Distance travelled: 1710 mm.\n",
      "Record broken! Button held for 46 milliseconds. Distance travelled: 1702 mm.\n",
      "Record broken! Button held for 47 milliseconds. Distance travelled: 1692 mm.\n",
      "Record broken! Button held for 48 milliseconds. Distance travelled: 1680 mm.\n",
      "Record broken! Button held for 49 milliseconds. Distance travelled: 1666 mm.\n",
      "Record broken! Button held for 50 milliseconds. Distance travelled: 1650 mm.\n",
      "Record broken! Button held for 51 milliseconds. Distance travelled: 1632 mm.\n",
      "Record broken! Button held for 52 milliseconds. Distance travelled: 1612 mm.\n",
      "Record broken! Button held for 53 milliseconds. Distance travelled: 1590 mm.\n",
      "Record broken! Button held for 54 milliseconds. Distance travelled: 1566 mm.\n",
      "Record broken! Button held for 55 milliseconds. Distance travelled: 1540 mm.\n",
      "Record broken! Button held for 56 milliseconds. Distance travelled: 1512 mm.\n",
      "Record broken! Button held for 57 milliseconds. Distance travelled: 1482 mm.\n",
      "Record broken! Button held for 58 milliseconds. Distance travelled: 1450 mm.\n",
      "Record broken! Button held for 59 milliseconds. Distance travelled: 1416 mm.\n",
      "Record broken! Button held for 60 milliseconds. Distance travelled: 1380 mm.\n",
      "Record broken! Button held for 61 milliseconds. Distance travelled: 1342 mm.\n",
      "Record broken! Button held for 62 milliseconds. Distance travelled: 1302 mm.\n",
      "For race time 83 and record 1278, the number of ways you could beat the record is 42.\n",
      "Record broken! Button held for 26 milliseconds. Distance travelled: 1222 mm.\n",
      "Record broken! Button held for 27 milliseconds. Distance travelled: 1242 mm.\n",
      "Record broken! Button held for 28 milliseconds. Distance travelled: 1260 mm.\n",
      "Record broken! Button held for 29 milliseconds. Distance travelled: 1276 mm.\n",
      "Record broken! Button held for 30 milliseconds. Distance travelled: 1290 mm.\n",
      "Record broken! Button held for 31 milliseconds. Distance travelled: 1302 mm.\n",
      "Record broken! Button held for 32 milliseconds. Distance travelled: 1312 mm.\n",
      "Record broken! Button held for 33 milliseconds. Distance travelled: 1320 mm.\n",
      "Record broken! Button held for 34 milliseconds. Distance travelled: 1326 mm.\n",
      "Record broken! Button held for 35 milliseconds. Distance travelled: 1330 mm.\n",
      "Record broken! Button held for 36 milliseconds. Distance travelled: 1332 mm.\n",
      "Record broken! Button held for 37 milliseconds. Distance travelled: 1332 mm.\n",
      "Record broken! Button held for 38 milliseconds. Distance travelled: 1330 mm.\n",
      "Record broken! Button held for 39 milliseconds. Distance travelled: 1326 mm.\n",
      "Record broken! Button held for 40 milliseconds. Distance travelled: 1320 mm.\n",
      "Record broken! Button held for 41 milliseconds. Distance travelled: 1312 mm.\n",
      "Record broken! Button held for 42 milliseconds. Distance travelled: 1302 mm.\n",
      "Record broken! Button held for 43 milliseconds. Distance travelled: 1290 mm.\n",
      "Record broken! Button held for 44 milliseconds. Distance travelled: 1276 mm.\n",
      "Record broken! Button held for 45 milliseconds. Distance travelled: 1260 mm.\n",
      "Record broken! Button held for 46 milliseconds. Distance travelled: 1242 mm.\n",
      "Record broken! Button held for 47 milliseconds. Distance travelled: 1222 mm.\n",
      "For race time 73 and record 1210, the number of ways you could beat the record is 22.\n",
      "The total number of ways across all races is 1413720.\n"
     ]
    }
   ],
   "source": [
    "def calculate_ways(race_times, race_records):\n",
    "    total_ways = 1  # Initialize total_ways to 1\n",
    "\n",
    "    for race_time, race_record in zip(race_times, race_records):\n",
    "        charge_times = list(range(race_time))\n",
    "        ways = 0\n",
    "\n",
    "        for charge in charge_times:\n",
    "            if charge * race_time - (charge ** 2) > race_record:\n",
    "                ways += 1\n",
    "                print(f'Record broken! Button held for {charge} milliseconds. Distance travelled: {charge * race_time - (charge ** 2)} mm.')\n",
    "            else:\n",
    "                continue\n",
    "\n",
    "        total_ways *= ways  # Multiply ways for the current race to the total_ways\n",
    "\n",
    "        print(f'For race time {race_time} and record {race_record}, the number of ways you could beat the record is {ways}.')\n",
    "    print(f'The total number of ways across all races is {total_ways}.')\n",
    "    \n",
    "    #return total_ways  # Return the total_ways value\n",
    "\n",
    "# Example usage\n",
    "calculate_ways(race_times, race_records)  "
   ]
  },
  {
   "cell_type": "markdown",
   "id": "8c87644e-9249-47ef-bbf8-df496261d7e2",
   "metadata": {},
   "source": [
    "### Part Two"
   ]
  },
  {
   "cell_type": "markdown",
   "id": "05ef2402-985f-4201-b4c7-899585283fc4",
   "metadata": {},
   "source": [
    "As the race is about to start, you realize the piece of paper with race times and record distances you got earlier actually just has very bad kerning. There's really only one race - ignore the spaces between the numbers on each line.\n",
    "\n",
    "So, the example from before:\n",
    "\n",
    "    Time:      7  15   30\n",
    "    Distance:  9  40  200\n",
    "\n",
    "...now instead means this:\n",
    "\n",
    "    Time:      71530\n",
    "    Distance:  940200\n",
    "    \n",
    "Now, you have to figure out how many ways there are to win this single race. In this example, the race lasts for 71530 milliseconds and the record distance you need to beat is 940200 millimeters. You could hold the button anywhere from 14 to 71516 milliseconds and beat the record, a total of 71503 ways!\n",
    "\n",
    "How many ways can you beat the record in this one much longer race?"
   ]
  },
  {
   "cell_type": "markdown",
   "id": "9f5ad5bb-7371-45ae-85c3-9bf635bca527",
   "metadata": {},
   "source": [
    "### Part Two - Test"
   ]
  },
  {
   "cell_type": "code",
   "execution_count": 86,
   "id": "5a36369b-da26-47f1-96c7-0c451261e5e1",
   "metadata": {},
   "outputs": [
    {
     "name": "stdout",
     "output_type": "stream",
     "text": [
      "Race Time: 45988373\n",
      "Race Record: 295173412781210\n"
     ]
    }
   ],
   "source": [
    "import re\n",
    "\n",
    "# Extract numerical values using regular expressions\n",
    "time_values = re.findall(r'\\b\\d+\\b', re.search(r'Time:(.*?)Distance:', time_distance, re.DOTALL).group(1))\n",
    "distance_values = re.findall(r'\\b\\d+\\b', re.search(r'Distance:(.*?)$', time_distance, re.DOTALL).group(1))\n",
    "\n",
    "# Concatenate the integer values into a single integer\n",
    "race_time = int(''.join(time_values))\n",
    "race_record = int(''.join(distance_values))\n",
    "\n",
    "print(\"Race Time:\", race_time)\n",
    "print(\"Race Record:\", race_record)"
   ]
  },
  {
   "cell_type": "code",
   "execution_count": 87,
   "id": "c6e01277-0899-4bbe-b8ef-c8dada585b61",
   "metadata": {},
   "outputs": [
    {
     "name": "stdout",
     "output_type": "stream",
     "text": [
      "The total number of ways across all races is 30565288.\n"
     ]
    }
   ],
   "source": [
    "charge_times = range(race_time)\n",
    "ways_list = [charge for charge in charge_times if charge * race_time - (charge ** 2) > race_record]\n",
    "\n",
    "total_ways = len(ways_list)\n",
    "\n",
    "# print(f'For race time {race_time} and record {race_record}, the number of ways you could beat the record is {total_ways}.')\n",
    "print(f'The total number of ways across all races is {total_ways}.')\n"
   ]
  }
 ],
 "metadata": {
  "kernelspec": {
   "display_name": "Python 3 (ipykernel)",
   "language": "python",
   "name": "python3"
  },
  "language_info": {
   "codemirror_mode": {
    "name": "ipython",
    "version": 3
   },
   "file_extension": ".py",
   "mimetype": "text/x-python",
   "name": "python",
   "nbconvert_exporter": "python",
   "pygments_lexer": "ipython3",
   "version": "3.10.12"
  },
  "widgets": {
   "application/vnd.jupyter.widget-state+json": {
    "state": {},
    "version_major": 2,
    "version_minor": 0
   }
  }
 },
 "nbformat": 4,
 "nbformat_minor": 5
}
