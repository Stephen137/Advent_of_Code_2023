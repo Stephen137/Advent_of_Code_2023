{
 "cells": [
  {
   "cell_type": "markdown",
   "id": "72477760-b81a-4bb1-83b9-9241398bcde0",
   "metadata": {},
   "source": [
    "## If You Give A Seed A Fertilizer"
   ]
  },
  {
   "cell_type": "markdown",
   "id": "02bbcc0c-fd43-42df-a868-ff9d04a4e7d3",
   "metadata": {},
   "source": [
    "You take the boat and find the gardener right where you were told he would be: managing a giant \"garden\" that looks more to you like a farm.\n",
    "\n",
    "\"A water source? Island Island is the water source!\" You point out that Snow Island isn't receiving any water.\n",
    "\n",
    "\"Oh, we had to stop the water because we ran out of sand to filter it with! Can't make snow with dirty water. Don't worry, I'm sure we'll get more sand soon; we only turned off the water a few days... weeks... oh no.\" His face sinks into a look of horrified realization.\n",
    "\n",
    "\"I've been so busy making sure everyone here has food that I completely forgot to check why we stopped getting more sand! There's a ferry leaving soon that is headed over in that direction - it's much faster than your boat. Could you please go check it out?\"\n",
    "\n",
    "You barely have time to agree to this request when he brings up another. \"While you wait for the ferry, maybe you can help us with our food production problem. The latest Island Island Almanac just arrived and we're having trouble making sense of it.\"\n",
    "\n",
    "The almanac (your puzzle input) lists all of the seeds that need to be planted. It also lists what type of soil to use with each kind of seed, what type of fertilizer to use with each kind of soil, what type of water to use with each kind of fertilizer, and so on. Every type of seed, soil, fertilizer and so on is identified with a number, but numbers are reused by each category - that is, soil 123 and fertilizer 123 aren't necessarily related to each other.\n",
    "\n",
    "For example:\n",
    "\n",
    "    seeds: 79 14 55 13\n",
    "\n",
    "    seed-to-soil map:\n",
    "    50 98 2\n",
    "    52 50 48\n",
    "\n",
    "    soil-to-fertilizer map:\n",
    "    0 15 37\n",
    "    37 52 2\n",
    "    39 0 15\n",
    "\n",
    "    fertilizer-to-water map:\n",
    "    49 53 8\n",
    "    0 11 42\n",
    "    42 0 7\n",
    "    57 7 4\n",
    "\n",
    "    water-to-light map:\n",
    "    88 18 7\n",
    "    18 25 70\n",
    "\n",
    "    light-to-temperature map:\n",
    "    45 77 23\n",
    "    81 45 19\n",
    "    68 64 13\n",
    "\n",
    "    temperature-to-humidity map:\n",
    "    0 69 1\n",
    "    1 0 69\n",
    "\n",
    "    humidity-to-location map:\n",
    "    60 56 37\n",
    "    56 93 4\n",
    "    \n",
    "The almanac starts by listing which seeds need to be planted: seeds 79, 14, 55, and 13.\n",
    "\n",
    "The rest of the almanac contains a list of maps which describe how to convert numbers from a source category into numbers in a destination category. That is, the section that starts with seed-to-soil map: describes how to convert a seed number (the source) to a soil number (the destination). This lets the gardener and his team know which soil to use with which seeds, which water to use with which fertilizer, and so on.\n",
    "\n",
    "Rather than list every source number and its corresponding destination number one by one, the maps describe entire ranges of numbers that can be converted. Each line within a map contains three numbers: the destination range start, the source range start, and the range length.\n",
    "\n",
    "Consider again the example seed-to-soil map:\n",
    "\n",
    "    50 98 2\n",
    "    52 50 48\n",
    "    \n",
    "The first line has a destination range start of 50, a source range start of 98, and a range length of 2. This line means that the source range starts at 98 and contains two values: 98 and 99. The destination range is the same length, but it starts at 50, so its two values are 50 and 51. With this information, you know that seed number 98 corresponds to soil number 50 and that seed number 99 corresponds to soil number 51.\n",
    "\n",
    "The second line means that the source range starts at 50 and contains 48 values: 50, 51, ..., 96, 97. This corresponds to a destination range starting at 52 and also containing 48 values: 52, 53, ..., 98, 99. So, seed number 53 corresponds to soil number 55.\n",
    "\n",
    "Any source numbers that aren't mapped correspond to the same destination number. So, seed number 10 corresponds to soil number 10.\n",
    "\n",
    "So, the entire list of seed numbers and their corresponding soil numbers looks like this:\n",
    "\n",
    "    seed  soil\n",
    "    0     0\n",
    "    1     1\n",
    "    ...   ...\n",
    "    48    48\n",
    "    49    49\n",
    "    50    52\n",
    "    51    53\n",
    "    ...   ...\n",
    "    96    98\n",
    "    97    99\n",
    "    98    50\n",
    "    99    51\n",
    "\n",
    "With this map, you can look up the soil number required for each initial seed number:\n",
    "\n",
    "- Seed number 79 corresponds to soil number 81.\n",
    "- Seed number 14 corresponds to soil number 14.\n",
    "- Seed number 55 corresponds to soil number 57.\n",
    "- Seed number 13 corresponds to soil number 13.\n",
    "\n",
    "The gardener and his team want to get started as soon as possible, so they'd like to know the closest location that needs a seed. Using these maps, find the lowest location number that corresponds to any of the initial seeds. To do this, you'll need to convert each seed number through other categories until you can find its corresponding location number. In this example, the corresponding types are:\n",
    "\n",
    "- Seed 79, soil 81, fertilizer 81, water 81, light 74, temperature 78, humidity 78, location 82.\n",
    "- Seed 14, soil 14, fertilizer 53, water 49, light 42, temperature 42, humidity 43, location 43.\n",
    "- Seed 55, soil 57, fertilizer 57, water 53, light 46, temperature 82, humidity 82, location 86.\n",
    "- Seed 13, soil 13, fertilizer 52, water 41, light 34, temperature 34, humidity 35, location 35.\n",
    "\n",
    "So, the lowest location number in this example is 35.\n",
    "\n",
    "What is the lowest location number that corresponds to any of the initial seed numbers?"
   ]
  },
  {
   "cell_type": "code",
   "execution_count": 1,
   "id": "9978d05f-149d-409e-837f-c9e4a6c81253",
   "metadata": {},
   "outputs": [],
   "source": [
    "# load in sample puzzle input\n",
    "file_path = 'data/day5test.txt' \n",
    "\n",
    "try:\n",
    "    with open(file_path, 'r') as file:\n",
    "        seeds_test = file.read()\n",
    "except FileNotFoundError:\n",
    "    print(f\"File not found: {file_path}\")\n",
    "    seeds_test = None"
   ]
  },
  {
   "cell_type": "code",
   "execution_count": 2,
   "id": "1725847b-48c4-4a2f-868b-d4eade6b0194",
   "metadata": {},
   "outputs": [
    {
     "name": "stdout",
     "output_type": "stream",
     "text": [
      "seeds: 79 14 55 13\n",
      "\n",
      "seed-to-soil map:\n",
      "50 98 2\n",
      "52 50 48\n",
      "\n",
      "soil-to-fertilizer map:\n",
      "0 15 37\n",
      "37 52 2\n",
      "39 0 15\n",
      "\n",
      "fertilizer-to-water map:\n",
      "49 53 8\n",
      "0 11 42\n",
      "42 0 7\n",
      "57 7 4\n",
      "\n",
      "water-to-light map:\n",
      "88 18 7\n",
      "18 25 70\n",
      "\n",
      "light-to-temperature map:\n",
      "45 77 23\n",
      "81 45 19\n",
      "68 64 13\n",
      "\n",
      "temperature-to-humidity map:\n",
      "0 69 1\n",
      "1 0 69\n",
      "\n",
      "humidity-to-location map:\n",
      "60 56 37\n",
      "56 93 4\n"
     ]
    }
   ],
   "source": [
    "print(seeds_test)"
   ]
  },
  {
   "cell_type": "markdown",
   "id": "4b3c55b4-e429-4052-ad66-d0e5e483ff6b",
   "metadata": {},
   "source": [
    "### Test"
   ]
  },
  {
   "cell_type": "code",
   "execution_count": 3,
   "id": "594489cb-b376-427c-b3a4-0b0085483fcb",
   "metadata": {},
   "outputs": [
    {
     "name": "stdout",
     "output_type": "stream",
     "text": [
      "seed-to-soil map: [[50, 98, 2], [52, 50, 48]]\n",
      "soil-to-fertilizer map: [[0, 15, 37], [37, 52, 2], [39, 0, 15]]\n",
      "fertilizer-to-water map: [[49, 53, 8], [0, 11, 42], [42, 0, 7], [57, 7, 4]]\n",
      "water-to-light map: [[88, 18, 7], [18, 25, 70]]\n",
      "light-to-temperature map: [[45, 77, 23], [81, 45, 19], [68, 64, 13]]\n",
      "temperature-to-humidity map: [[0, 69, 1], [1, 0, 69]]\n",
      "humidity-to-location map: [[60, 56, 37], [56, 93, 4]]\n"
     ]
    }
   ],
   "source": [
    "import re\n",
    "\n",
    "data_maps = {}\n",
    "current_key = \"\"\n",
    "\n",
    "lines = seeds_test.split('\\n')\n",
    "\n",
    "for line in lines:\n",
    "    if 'seeds' in line:\n",
    "        seeds_start = seeds_test.find(\"seeds:\")\n",
    "        seeds_end = seeds_test.find(\"seed-to-soil map:\")\n",
    "        seeds_part = seeds_test[seeds_start + 7:seeds_end].strip()\n",
    "        seeds = list(map(int, seeds_part.split()))\n",
    "    elif ':' in line:\n",
    "        current_key = re.search(r'([^:\\n]+)', line).group(1).strip()\n",
    "        data_maps[current_key] = []\n",
    "    elif current_key and line.strip():\n",
    "        data_maps[current_key].append(list(map(int, line.split())))\n",
    "\n",
    "# Print the result\n",
    "for key, value in data_maps.items():\n",
    "    print(f\"{key}: {value}\")"
   ]
  },
  {
   "cell_type": "code",
   "execution_count": 4,
   "id": "a0fbf862-6a3c-447e-9472-9516ed305cae",
   "metadata": {},
   "outputs": [],
   "source": [
    "# Store maps\n",
    "#seed_soil = data_maps['seed-to-soil map']\n",
    "#soil_ferts = data_maps['soil-to-fertilizer map']\n",
    "#ferts_water = data_maps['fertilizer-to-water map']\n",
    "#water_light = data_maps['water-to-light map']\n",
    "#light_temp = data_maps['light-to-temperature map']\n",
    "#temp_humid = data_maps['temperature-to-humidity map']\n",
    "#humid_loc = data_maps['humidity-to-location map']"
   ]
  },
  {
   "cell_type": "code",
   "execution_count": 5,
   "id": "9b795e47-c195-46f8-8586-d2061e1fe40d",
   "metadata": {},
   "outputs": [
    {
     "name": "stdout",
     "output_type": "stream",
     "text": [
      "{'seed-to-soil map': {'dest': [50, 52], 'source': [98, 50], 'range': [2, 48], 'increment': [-48, 2]}, 'soil-to-fertilizer map': {'dest': [0, 37, 39], 'source': [15, 52, 0], 'range': [37, 2, 15], 'increment': [-15, -15, 39]}, 'fertilizer-to-water map': {'dest': [49, 0, 42, 57], 'source': [53, 11, 0, 7], 'range': [8, 42, 7, 4], 'increment': [-4, -11, 42, 50]}, 'water-to-light map': {'dest': [88, 18], 'source': [18, 25], 'range': [7, 70], 'increment': [70, -7]}, 'light-to-temperature map': {'dest': [45, 81, 68], 'source': [77, 45, 64], 'range': [23, 19, 13], 'increment': [-32, 36, 4]}, 'temperature-to-humidity map': {'dest': [0, 1], 'source': [69, 0], 'range': [1, 69], 'increment': [-69, 1]}, 'humidity-to-location map': {'dest': [60, 56], 'source': [56, 93], 'range': [37, 4], 'increment': [4, -37]}}\n"
     ]
    }
   ],
   "source": [
    "result_dict_test = {}\n",
    "\n",
    "for key, value in data_maps.items():\n",
    "    dest = [item[0] for item in value]\n",
    "    source = [item[1] for item in value]\n",
    "    range_val = [item[2] for item in value]\n",
    "    increment = [d - s for d, s in zip(dest, source)]\n",
    "\n",
    "    result_dict_test[key] = {\n",
    "        'dest': dest,\n",
    "        'source': source,\n",
    "        'range': range_val,\n",
    "        'increment': increment\n",
    "    }\n",
    "\n",
    "# Print the result\n",
    "print(result_dict_test)"
   ]
  },
  {
   "cell_type": "code",
   "execution_count": 6,
   "id": "98a70435-a836-4ca8-8231-50f0cb47a6d3",
   "metadata": {},
   "outputs": [
    {
     "name": "stdout",
     "output_type": "stream",
     "text": [
      "[82, 43, 86, 35]\n",
      "The lowest location number that corresponds to any of the initial seed numbers is 35.\n",
      "Test passed!\n"
     ]
    }
   ],
   "source": [
    "def seed_journey(seed_value, mappings):\n",
    "    updated_value = seed_value\n",
    "    for key in mappings:\n",
    "        mapping = result_dict_test[key]\n",
    "        for src, rng, inc in zip(mapping['source'], mapping['range'], mapping['increment']):\n",
    "            if src <= updated_value < src + rng:\n",
    "                updated_value = updated_value + inc\n",
    "                break  # Break out of the inner loop once a condition is met\n",
    "    return updated_value\n",
    "\n",
    "# Iterate through each seed and update its value across all dictionaries\n",
    "locations_test = [seed_journey(seed, result_dict_test) for seed in seeds]\n",
    "\n",
    "print(locations_test)\n",
    "\n",
    "print(f'The lowest location number that corresponds to any of the initial seed numbers is {min(locations_test)}.')\n",
    "if min(locations_test) == 35:\n",
    "    print(\"Test passed!\")\n",
    "else:\n",
    "    print(\"Sorry. Wrong answer. Keep trying!\")"
   ]
  },
  {
   "cell_type": "code",
   "execution_count": 7,
   "id": "bd87afef-1642-4ba2-b5b8-43da080d3847",
   "metadata": {},
   "outputs": [
    {
     "name": "stdout",
     "output_type": "stream",
     "text": [
      "[79, 14, 55, 13]\n"
     ]
    }
   ],
   "source": [
    "print(seeds)"
   ]
  },
  {
   "cell_type": "markdown",
   "id": "d9280fe8-e903-4c5f-a7c7-843ea6902488",
   "metadata": {},
   "source": [
    "### Part 1 - Attempted Solution"
   ]
  },
  {
   "cell_type": "code",
   "execution_count": 9,
   "id": "36514bc7-a8c3-40fb-bbb6-186456bc2e8b",
   "metadata": {},
   "outputs": [],
   "source": [
    "# load in sample puzzle input\n",
    "file_path = 'data/seeds.txt' \n",
    "\n",
    "try:\n",
    "    with open(file_path, 'r') as file:\n",
    "        seeds = file.read()\n",
    "except FileNotFoundError:\n",
    "    print(f\"File not found: {file_path}\")\n",
    "    seeds = None"
   ]
  },
  {
   "cell_type": "code",
   "execution_count": 10,
   "id": "1645c91e-fb45-4983-819c-873f8ee43e01",
   "metadata": {},
   "outputs": [
    {
     "name": "stdout",
     "output_type": "stream",
     "text": [
      "seed-to-soil map: [[803774611, 641364296, 1132421037], [248421506, 1797371961, 494535345], [1936195648, 2752993203, 133687519], [2069883167, 2294485405, 458507798], [2804145277, 283074539, 358289757], [3162435034, 2886680722, 1132532262], [2528390965, 4019212984, 275754312], [766543479, 248421506, 34653033], [742956851, 1773785333, 23586628], [801196512, 2291907306, 2578099]]\n",
      "soil-to-fertilizer map: [[2497067833, 718912393, 1047592994], [3544660827, 4222700866, 72266430], [770426288, 3365742958, 209338740], [3698421476, 2775964622, 508284117], [1441878450, 1818019282, 725791090], [417593992, 265113557, 15217985], [979765028, 3760587444, 462113422], [2167669540, 2543810372, 143892547], [3616927257, 3284248739, 81494219], [4206705593, 2687702919, 88261703], [2380194851, 3575081698, 116872982], [0, 280331542, 15942291], [718912393, 1766505387, 51513895], [152480435, 0, 265113557], [2311562087, 3691954680, 68632764], [15942291, 296273833, 136538144]]\n",
      "fertilizer-to-water map: [[0, 402310798, 253353164], [778924681, 2773042028, 194127973], [2853824225, 2967170001, 585461563], [3827117536, 3909653920, 385313376], [4259877071, 3552631564, 35090225], [973052654, 3635167948, 222704323], [253353164, 0, 389964349], [2230088185, 778924681, 571954391], [1195756977, 1490392659, 342200935], [2802042576, 3857872271, 51781649], [643317513, 389964349, 12346449], [4212430912, 3587721789, 47446159], [3439285788, 2385210280, 387831748], [1677471499, 1832593594, 552616686], [1537957912, 1350879072, 139513587]]\n",
      "water-to-light map: [[1548505089, 767179152, 4433418], [3833169479, 2956286720, 133538400], [2966709060, 3309731935, 102304094], [1552938507, 844050660, 203612289], [4257043426, 3089825120, 37923870], [2862957901, 3567999512, 28008008], [127112704, 319767838, 4466599], [840317941, 174506417, 34039792], [2890965909, 3596007520, 40520529], [15787022, 2007458428, 111325682], [2398090681, 21771313, 152735104], [1094590916, 1294380254, 4387553], [517844904, 840169267, 3881393], [2556445662, 1535118242, 8735340], [1266005567, 2376897884, 172496096], [874357733, 1314885059, 220233183], [3696946976, 2820064217, 136222503], [2271345339, 208546209, 111221629], [703336145, 477538609, 136981796], [389299157, 1710880680, 59057725], [4183266377, 2766992510, 22982117], [521726297, 324234437, 53105792], [1438501663, 1881931289, 110003426], [131579303, 1298767807, 16117252], [2102535156, 614520405, 152658747], [0, 2549393980, 15787022], [1098978469, 1543853582, 167027098], [3966707879, 2789974627, 30089590], [2255193903, 0, 16151436], [1756550796, 377340229, 100198380], [574832089, 2360386712, 16511172], [2382566968, 1991934715, 15523713], [3069013154, 3636528049, 627933822], [2766992510, 3178543922, 79332992], [2931486438, 3274509313, 35222622], [3996797469, 4264461871, 30505425], [2846325502, 3257876914, 16632399], [2033978459, 771612570, 68556697], [4206248494, 3127748990, 50794932], [2550825785, 16151436, 5619877], [591343261, 1769938405, 111992884], [448356882, 1047662949, 69488022], [4027302894, 3412036029, 155963483], [147696555, 2118784110, 241602602], [1856749176, 1117150971, 177229283]]\n",
      "light-to-temperature map: [[2549521624, 1806050718, 400234502], [1279003707, 1469066403, 336984315], [2063720323, 2518736018, 367281175], [4240496851, 236622733, 54470445], [3737038415, 1201359870, 20798035], [1170741345, 1222157905, 108262362], [1925074187, 1330420267, 138646136], [3757836450, 291093178, 323945285], [3424587617, 2206285220, 312450798], [236622733, 2886017193, 934118612], [4138496410, 1042644754, 102000441], [4081781735, 1144645195, 56714675], [2431001498, 615038463, 118520126], [1615988022, 733558589, 309086165], [2949756126, 3820135805, 474831491]]\n",
      "temperature-to-humidity map: [[725888341, 86282489, 843183510], [3782717746, 1630698708, 99613080], [2529768467, 2786969418, 347392693], [2195908552, 2059541517, 89214959], [3062107482, 2168182310, 90554707], [1730470902, 3134362111, 465437650], [2964061476, 2688923412, 98046006], [2285123511, 2358509211, 13167510], [2877161160, 3875960109, 61807956], [0, 929465999, 639605852], [3484769060, 2148756476, 19425834], [2298291021, 1730311788, 170053852], [639605852, 0, 86282489], [3504194894, 2371676721, 119346975], [4275382932, 3599799761, 19584364], [2468344873, 2491023696, 61423594], [3623541869, 1900365640, 159175877], [4138906810, 2552447290, 136476122], [3918976473, 3656029772, 219930337], [2938969116, 4269874936, 25092360], [3882330826, 3619384125, 36645647], [3152662189, 3937768065, 332106871], [1630698708, 2258737017, 99772194]]\n",
      "humidity-to-location map: [[1426868383, 2786540732, 64165562], [1639911414, 2027746720, 730664673], [857589555, 0, 114197007], [2370576087, 1887556908, 140189812], [3396523523, 1265337150, 488817864], [1491033945, 2850706294, 148877469], [3885341387, 2999583763, 409625909], [0, 114197007, 857589555], [1293466489, 1754155014, 133401894], [2510765899, 3409209672, 885757624], [1265337150, 2758411393, 28129339]]\n"
     ]
    }
   ],
   "source": [
    "import re\n",
    "\n",
    "data_maps = {}\n",
    "current_key = \"\"\n",
    "\n",
    "lines = seeds.split('\\n')\n",
    "\n",
    "for line in lines:\n",
    "    if 'seeds' in line:\n",
    "        seeds_start = seeds.find(\"seeds:\")\n",
    "        seeds_end = seeds.find(\"seed-to-soil map:\")\n",
    "        seeds_part = seeds[seeds_start + 7:seeds_end].strip()\n",
    "        seeds = list(map(int, seeds_part.split()))\n",
    "    elif ':' in line:\n",
    "        current_key = re.search(r'([^:\\n]+)', line).group(1).strip()\n",
    "        data_maps[current_key] = []\n",
    "    elif current_key and line.strip():\n",
    "        data_maps[current_key].append(list(map(int, line.split())))\n",
    "\n",
    "# Print the result\n",
    "for key, value in data_maps.items():\n",
    "    print(f\"{key}: {value}\")"
   ]
  },
  {
   "cell_type": "code",
   "execution_count": 10,
   "id": "448a0cb8-546e-4e18-b279-f5f310c32a92",
   "metadata": {},
   "outputs": [],
   "source": [
    "# Store maps\n",
    "#seed_soil = data_maps['seed-to-soil map']\n",
    "#soil_ferts = data_maps['soil-to-fertilizer map']\n",
    "#ferts_water = data_maps['fertilizer-to-water map']\n",
    "#water_light = data_maps['water-to-light map']\n",
    "#light_temp = data_maps['light-to-temperature map']\n",
    "#temp_humid = data_maps['temperature-to-humidity map']\n",
    "#humid_loc = data_maps['humidity-to-location map']"
   ]
  },
  {
   "cell_type": "code",
   "execution_count": 11,
   "id": "30cd9472-ef71-4443-a947-1912d56ef6f5",
   "metadata": {},
   "outputs": [
    {
     "name": "stdout",
     "output_type": "stream",
     "text": [
      "{'seed-to-soil map': {'dest': [803774611, 248421506, 1936195648, 2069883167, 2804145277, 3162435034, 2528390965, 766543479, 742956851, 801196512], 'source': [641364296, 1797371961, 2752993203, 2294485405, 283074539, 2886680722, 4019212984, 248421506, 1773785333, 2291907306], 'range': [1132421037, 494535345, 133687519, 458507798, 358289757, 1132532262, 275754312, 34653033, 23586628, 2578099], 'increment': [162410315, -1548950455, -816797555, -224602238, 2521070738, 275754312, -1490822019, 518121973, -1030828482, -1490710794]}, 'soil-to-fertilizer map': {'dest': [2497067833, 3544660827, 770426288, 3698421476, 1441878450, 417593992, 979765028, 2167669540, 3616927257, 4206705593, 2380194851, 0, 718912393, 152480435, 2311562087, 15942291], 'source': [718912393, 4222700866, 3365742958, 2775964622, 1818019282, 265113557, 3760587444, 2543810372, 3284248739, 2687702919, 3575081698, 280331542, 1766505387, 0, 3691954680, 296273833], 'range': [1047592994, 72266430, 209338740, 508284117, 725791090, 15217985, 462113422, 143892547, 81494219, 88261703, 116872982, 15942291, 51513895, 265113557, 68632764, 136538144], 'increment': [1778155440, -678040039, -2595316670, 922456854, -376140832, 152480435, -2780822416, -376140832, 332678518, 1519002674, -1194886847, -280331542, -1047592994, 152480435, -1380392593, -280331542]}, 'fertilizer-to-water map': {'dest': [0, 778924681, 2853824225, 3827117536, 4259877071, 973052654, 253353164, 2230088185, 1195756977, 2802042576, 643317513, 4212430912, 3439285788, 1677471499, 1537957912], 'source': [402310798, 2773042028, 2967170001, 3909653920, 3552631564, 3635167948, 0, 778924681, 1490392659, 3857872271, 389964349, 3587721789, 2385210280, 1832593594, 1350879072], 'range': [253353164, 194127973, 585461563, 385313376, 35090225, 222704323, 389964349, 571954391, 342200935, 51781649, 12346449, 47446159, 387831748, 552616686, 139513587], 'increment': [-402310798, -1994117347, -113345776, -82536384, 707245507, -2662115294, 253353164, 1451163504, -294635682, -1055829695, 253353164, 624709123, 1054075508, -155122095, 187078840]}, 'water-to-light map': {'dest': [1548505089, 3833169479, 2966709060, 1552938507, 4257043426, 2862957901, 127112704, 840317941, 2890965909, 15787022, 2398090681, 1094590916, 517844904, 2556445662, 1266005567, 874357733, 3696946976, 2271345339, 703336145, 389299157, 4183266377, 521726297, 1438501663, 131579303, 2102535156, 0, 1098978469, 3966707879, 2255193903, 1756550796, 574832089, 2382566968, 3069013154, 2766992510, 2931486438, 3996797469, 2846325502, 2033978459, 4206248494, 2550825785, 591343261, 448356882, 4027302894, 147696555, 1856749176], 'source': [767179152, 2956286720, 3309731935, 844050660, 3089825120, 3567999512, 319767838, 174506417, 3596007520, 2007458428, 21771313, 1294380254, 840169267, 1535118242, 2376897884, 1314885059, 2820064217, 208546209, 477538609, 1710880680, 2766992510, 324234437, 1881931289, 1298767807, 614520405, 2549393980, 1543853582, 2789974627, 0, 377340229, 2360386712, 1991934715, 3636528049, 3178543922, 3274509313, 4264461871, 3257876914, 771612570, 3127748990, 16151436, 1769938405, 1047662949, 3412036029, 2118784110, 1117150971], 'range': [4433418, 133538400, 102304094, 203612289, 37923870, 28008008, 4466599, 34039792, 40520529, 111325682, 152735104, 4387553, 3881393, 8735340, 172496096, 220233183, 136222503, 111221629, 136981796, 59057725, 22982117, 53105792, 110003426, 16117252, 152658747, 15787022, 167027098, 30089590, 16151436, 100198380, 16511172, 15523713, 627933822, 79332992, 35222622, 30505425, 16632399, 68556697, 50794932, 5619877, 111992884, 69488022, 155963483, 241602602, 177229283], 'increment': [781325937, 876882759, -343022875, 708887847, 1167218306, -705041611, -192655134, 665811524, -705041611, -1991671406, 2376319368, -199789338, -322324363, 1021327420, -1110892317, -440527326, 876882759, 2062799130, 225797536, -1321581523, 1416273867, 197491860, -443429626, -1167188504, 1488014751, -2549393980, -444875113, 1176733252, 2255193903, 1379210567, -1785554623, 390632253, -567514895, -411551412, -343022875, -267664402, -411551412, 1262365889, 1078499504, 2534674349, -1178595144, -599306067, 615266865, -1971087555, 739598205]}, 'light-to-temperature map': {'dest': [2549521624, 1279003707, 2063720323, 4240496851, 3737038415, 1170741345, 1925074187, 3757836450, 3424587617, 236622733, 4138496410, 4081781735, 2431001498, 1615988022, 2949756126], 'source': [1806050718, 1469066403, 2518736018, 236622733, 1201359870, 1222157905, 1330420267, 291093178, 2206285220, 2886017193, 1042644754, 1144645195, 615038463, 733558589, 3820135805], 'range': [400234502, 336984315, 367281175, 54470445, 20798035, 108262362, 138646136, 323945285, 312450798, 934118612, 102000441, 56714675, 118520126, 309086165, 474831491], 'increment': [743470906, -190062696, -455015695, 4003874118, 2535678545, -51416560, 594653920, 3466743272, 1218302397, -2649394460, 3095851656, 2937136540, 1815963035, 882429433, -870379679]}, 'temperature-to-humidity map': {'dest': [725888341, 3782717746, 2529768467, 2195908552, 3062107482, 1730470902, 2964061476, 2285123511, 2877161160, 0, 3484769060, 2298291021, 639605852, 3504194894, 4275382932, 2468344873, 3623541869, 4138906810, 3918976473, 2938969116, 3882330826, 3152662189, 1630698708], 'source': [86282489, 1630698708, 2786969418, 2059541517, 2168182310, 3134362111, 2688923412, 2358509211, 3875960109, 929465999, 2148756476, 1730311788, 0, 2371676721, 3599799761, 2491023696, 1900365640, 2552447290, 3656029772, 4269874936, 3619384125, 3937768065, 2258737017], 'range': [843183510, 99613080, 347392693, 89214959, 90554707, 465437650, 98046006, 13167510, 61807956, 639605852, 19425834, 170053852, 86282489, 119346975, 19584364, 61423594, 159175877, 136476122, 219930337, 25092360, 36645647, 332106871, 99772194], 'increment': [639605852, 2152019038, -257200951, 136367035, 893925172, -1403891209, 275138064, -73385700, -998798949, -929465999, 1336012584, 567979233, 639605852, 1132518173, 675583171, -22678823, 1723176229, 1586459520, 262946701, -1330905820, 262946701, -785105876, -628038309]}, 'humidity-to-location map': {'dest': [1426868383, 1639911414, 857589555, 2370576087, 3396523523, 1491033945, 3885341387, 0, 1293466489, 2510765899, 1265337150], 'source': [2786540732, 2027746720, 0, 1887556908, 1265337150, 2850706294, 2999583763, 114197007, 1754155014, 3409209672, 2758411393], 'range': [64165562, 730664673, 114197007, 140189812, 488817864, 148877469, 409625909, 857589555, 133401894, 885757624, 28129339], 'increment': [-1359672349, -387835306, 857589555, 483019179, 2131186373, -1359672349, 885757624, -114197007, -460688525, -898443773, -1493074243]}}\n"
     ]
    }
   ],
   "source": [
    "# Calculate values needed to check if seed value is in the map ranges\n",
    "\n",
    "result_dict = {}\n",
    "\n",
    "for key, value in data_maps.items():\n",
    "    dest = [item[0] for item in value]\n",
    "    source = [item[1] for item in value]\n",
    "    range_val = [item[2] for item in value]\n",
    "    increment = [d - s for d, s in zip(dest, source)]\n",
    "\n",
    "    result_dict[key] = {\n",
    "        'dest': dest,\n",
    "        'source': source,\n",
    "        'range': range_val,\n",
    "        'increment': increment\n",
    "    }\n",
    "\n",
    "# Print the result\n",
    "print(result_dict)"
   ]
  },
  {
   "cell_type": "code",
   "execution_count": 12,
   "id": "c7859437-00b0-42a3-93ca-f4e82216cf79",
   "metadata": {},
   "outputs": [
    {
     "name": "stdout",
     "output_type": "stream",
     "text": [
      "[896125601, 3746629648, 3932126948, 3268921349, 1583034692, 1158663132, 1662910605, 3263437457, 389056265, 3263623288, 2726147260, 2229435884, 1707372247, 3756431744, 2085736450, 2891374635, 3534972574, 4040615407, 3080116511, 3244642021]\n",
      "The lowest location number that corresponds to any of the initial seed numbers is 389056265.\n"
     ]
    }
   ],
   "source": [
    "# calculate the updated seed values at each stage of journey using above sub-calcs\n",
    "\n",
    "def seed_journey(seed_value, mappings):\n",
    "    updated_value = seed_value\n",
    "    for key in mappings:\n",
    "        mapping = result_dict[key]\n",
    "        for src, rng, inc in zip(mapping['source'], mapping['range'], mapping['increment']):\n",
    "            if src <= updated_value < src + rng:\n",
    "                updated_value = updated_value + inc\n",
    "                break  # Break out of the inner loop once a condition is met\n",
    "    return updated_value\n",
    "\n",
    "# Iterate through each seed and update its value across all dictionaries\n",
    "locations = [seed_journey(seed, result_dict) for seed in seeds]\n",
    "\n",
    "print(locations)\n",
    "print(f'The lowest location number that corresponds to any of the initial seed numbers is {min(locations)}.')"
   ]
  },
  {
   "cell_type": "markdown",
   "id": "31141a31-b98e-4200-895e-d8852464c3ca",
   "metadata": {},
   "source": [
    "### Part Two"
   ]
  },
  {
   "cell_type": "markdown",
   "id": "53fb351b-6131-4f20-aac6-96a233dcc082",
   "metadata": {},
   "source": [
    "Everyone will starve if you only plant such a small number of seeds. Re-reading the almanac, it looks like the seeds: line actually describes ranges of seed numbers.\n",
    "\n",
    "The values on the initial seeds: line come in pairs. Within each pair, the first value is the start of the range and the second value is the length of the range. So, in the first line of the example above:\n",
    "\n",
    "    seeds: 79 14 55 13\n",
    "    \n",
    "This line describes two ranges of seed numbers to be planted in the garden. The first range starts with seed number 79 and contains 14 values: 79, 80, ..., 91, 92. The second range starts with seed number 55 and contains 13 values: 55, 56, ..., 66, 67.\n",
    "\n",
    "Now, rather than considering four seed numbers, you need to consider a total of 27 seed numbers.\n",
    "\n",
    "In the above example, the lowest location number can be obtained from seed number 82, which corresponds to soil 84, fertilizer 84, water 84, light 77, temperature 45, humidity 46, and location 46. So, the lowest location number is 46.\n",
    "\n",
    "Consider all of the initial seed numbers listed in the ranges on the first line of the almanac. What is the lowest location number that corresponds to any of the initial seed numbers?"
   ]
  },
  {
   "cell_type": "markdown",
   "id": "8e94644f-6281-420a-92e4-7b7e25c1433c",
   "metadata": {},
   "source": [
    "### Part Two - Test"
   ]
  },
  {
   "cell_type": "code",
   "execution_count": 56,
   "id": "d9bd67b1-b95e-4a93-b153-6b8874f6d822",
   "metadata": {},
   "outputs": [],
   "source": [
    "seed_list_test = [79,80,81,82,83,84,85,86,87,88,89,90,91,92,55,56,57,58,59,60,61,62,63,64,65,66,67]"
   ]
  },
  {
   "cell_type": "code",
   "execution_count": 57,
   "id": "71a3488e-afba-470b-bb36-c30006e3a9bd",
   "metadata": {},
   "outputs": [
    {
     "name": "stdout",
     "output_type": "stream",
     "text": [
      "[79, 80, 81, 82, 83, 84, 85, 86, 87, 88, 89, 90, 91, 92, 55, 56, 57, 58, 59, 60, 61, 62, 63, 64, 65, 66, 67]\n"
     ]
    }
   ],
   "source": [
    "print(seed_list_test)"
   ]
  },
  {
   "cell_type": "code",
   "execution_count": 59,
   "id": "62372c52-18e2-4e2c-9a95-d9fe60b59454",
   "metadata": {},
   "outputs": [
    {
     "name": "stdout",
     "output_type": "stream",
     "text": [
      "[82, 83, 84, 46, 47, 48, 49, 50, 51, 52, 53, 54, 55, 60, 86, 87, 88, 89, 94, 95, 96, 56, 57, 58, 59, 97, 98]\n",
      "The lowest location number that corresponds to any of the initial seed numbers is 46.\n",
      "Test passed!\n"
     ]
    }
   ],
   "source": [
    "def seed_journey(seed_value, mappings):\n",
    "    updated_value = seed_value\n",
    "    for key in mappings:\n",
    "        mapping = result_dict_test[key]\n",
    "        for src, rng, inc in zip(mapping['source'], mapping['range'], mapping['increment']):\n",
    "            if src <= updated_value < src + rng:\n",
    "                updated_value = updated_value + inc\n",
    "                break  # Break out of the inner loop once a condition is met\n",
    "    return updated_value\n",
    "\n",
    "# Iterate through each seed and update its value across all dictionaries\n",
    "locations_test = [seed_journey(seed, result_dict) for seed in seed_list_test]\n",
    "\n",
    "print(locations_test)\n",
    "\n",
    "print(f'The lowest location number that corresponds to any of the initial seed numbers is {min(locations_test)}.')\n",
    "\n",
    "if min(locations_test) == 46:\n",
    "    print(\"Test passed!\")\n",
    "else:\n",
    "    print(\"Sorry. Wrong answer. Keep trying!\")\n"
   ]
  },
  {
   "cell_type": "code",
   "execution_count": 60,
   "id": "85d7ba16-1ca2-4371-b919-a29a10406e76",
   "metadata": {},
   "outputs": [
    {
     "name": "stdout",
     "output_type": "stream",
     "text": [
      "[79, 55]\n"
     ]
    }
   ],
   "source": [
    "seeds_part2 = \n",
    "seeds_20_start_range = seeds[::2]\n",
    "print(seeds_20_start_range)"
   ]
  },
  {
   "cell_type": "code",
   "execution_count": 51,
   "id": "307e8879-7b85-4180-8979-b68863050127",
   "metadata": {},
   "outputs": [
    {
     "name": "stdout",
     "output_type": "stream",
     "text": [
      "84\n",
      "77\n",
      "45\n",
      "46\n",
      "[46]\n",
      "The lowest location number that corresponds to any of the initial seed numbers is 46.\n",
      "Test passed!\n"
     ]
    }
   ],
   "source": [
    "def seed_journey(seed_value, mappings):\n",
    "    updated_value = seed_value\n",
    "    for key in mappings:\n",
    "        mapping = result_dict_test[key]\n",
    "        for src, rng, inc in zip(mapping['source'], mapping['range'], mapping['increment']):\n",
    "            if src <= updated_value < src + rng:\n",
    "                updated_value = updated_value + inc\n",
    "                print(updated_value)\n",
    "                break  # Break out of the inner loop once a condition is met\n",
    "    return updated_value\n",
    "\n",
    "# Iterate through each seed and update its value across all dictionaries\n",
    "locations_test = [seed_journey(seed, result_dict_test) for seed in output_list]\n",
    "\n",
    "print(locations_test)\n",
    "\n",
    "print(f'The lowest location number that corresponds to any of the initial seed numbers is {min(locations_test)}.')\n",
    "if min(locations_test) == 46:\n",
    "    print(\"Test passed!\")\n",
    "else:\n",
    "    print(\"Sorry. Wrong answer. Keep trying!\")"
   ]
  },
  {
   "cell_type": "markdown",
   "id": "56439f9c-9de5-48fe-ac16-402fcab3c411",
   "metadata": {},
   "source": [
    "### Part 2 - Attempted Solution"
   ]
  },
  {
   "cell_type": "markdown",
   "id": "a4ed3371-34ea-4cdc-8d62-bb949d739836",
   "metadata": {},
   "source": [
    "Major compute issues!!!! I am sure there must be a more simplified logic - but in any case by splitting the list up and using a custom function to create the list but not store in memory I was able to obtain the correct answer. Each chunk took around 20 mins or so to execute on Google Colab using a TPU."
   ]
  },
  {
   "cell_type": "code",
   "execution_count": 12,
   "id": "0ddac653-ec38-4e81-8b40-7401a0fe6cbf",
   "metadata": {},
   "outputs": [],
   "source": [
    "seeds_part_2_1 = [4239267129, 20461805] # 20m\n",
    "seeds_part_2_2 = [2775736218, 52390530] # 52m\n",
    "seeds_part_2_3 = [3109225152, 741325372] # 741m The results from 6a produced the correct answer\n",
    "seeds_part_2_4 = [1633502651, 46906638] # 46m\n",
    "seeds_part_2_5 = [967445712, 47092469] # 47m\n",
    "seeds_part_2_6a = [2354891449, 118576443] # 237m - split further\n",
    "seeds_part_2_6b = [2473467891, 118576442] # 237m - split further\n",
    "seeds_part_2_7 = [2169258488, 111184803] # 111m\n",
    "seeds_part_2_8 = [2614747853, 123738802] # 123m \n",
    "seeds_part_2_9a = [620098496, 145557078] # 291m - split further\n",
    "seeds_part_2_9b = [765655573, 145557078] # 291m - split further\n",
    "seeds_part_2_10 = [2072253071, 28111202] # 28m"
   ]
  },
  {
   "cell_type": "code",
   "execution_count": 15,
   "id": "e662669c-f7dc-4e4e-8406-cf9e015e6eb4",
   "metadata": {},
   "outputs": [],
   "source": [
    "sequential_values_6a = [val for seed, count in zip(seeds_part_2_6a[::2], seeds_part_2_6a[1::2]) for val in range(seed, seed + count)]"
   ]
  },
  {
   "cell_type": "markdown",
   "id": "8edd8e79-a7e6-4bc3-b736-c579688c48e0",
   "metadata": {},
   "source": [
    "I also changed the seed journey mapping function to operate as a list comprehension, again with compute in mind :"
   ]
  },
  {
   "cell_type": "code",
   "execution_count": null,
   "id": "bc43f9fa-1bf1-40d1-b5d7-3b669d3b7649",
   "metadata": {},
   "outputs": [],
   "source": [
    "# load in sample puzzle input\n",
    "file_path = '/content/drive/MyDrive/seeds.txt'\n",
    "\n",
    "\n",
    "try:\n",
    "    with open(file_path, 'r') as file:\n",
    "        seeds = file.read()\n",
    "except FileNotFoundError:\n",
    "    print(f\"File not found: {file_path}\")\n",
    "    seeds = None"
   ]
  },
  {
   "cell_type": "code",
   "execution_count": null,
   "id": "851f2397-60f7-4014-a655-04af05cd83eb",
   "metadata": {},
   "outputs": [],
   "source": [
    "import re\n",
    "\n",
    "data_maps = {}\n",
    "current_key = \"\"\n",
    "\n",
    "lines = seeds.split('\\n')\n",
    "\n",
    "for line in lines:\n",
    "    if 'seeds' in line:\n",
    "        seeds_start = seeds.find(\"seeds:\")\n",
    "        seeds_end = seeds.find(\"seed-to-soil map:\")\n",
    "        seeds_part = seeds[seeds_start + 7:seeds_end].strip()\n",
    "        seeds = list(map(int, seeds_part.split()))\n",
    "    elif ':' in line:\n",
    "        current_key = re.search(r'([^:\\n]+)', line).group(1).strip()\n",
    "        data_maps[current_key] = []\n",
    "    elif current_key and line.strip():\n",
    "        data_maps[current_key].append(list(map(int, line.split())))\n",
    "\n",
    "# Print the result\n",
    "for key, value in data_maps.items():\n",
    "    print(f\"{key}: {value}\")"
   ]
  },
  {
   "cell_type": "code",
   "execution_count": null,
   "id": "9ded1a6a-265f-4f40-b477-ac218301e26e",
   "metadata": {},
   "outputs": [],
   "source": [
    "# Calculate values needed to check if seed value is in the map ranges\n",
    "\n",
    "result_dict = {}\n",
    "\n",
    "for key, value in data_maps.items():\n",
    "    dest = [item[0] for item in value]\n",
    "    source = [item[1] for item in value]\n",
    "    range_val = [item[2] for item in value]\n",
    "    increment = [d - s for d, s in zip(dest, source)]\n",
    "\n",
    "    result_dict[key] = {\n",
    "        'dest': dest,\n",
    "        'source': source,\n",
    "        'range': range_val,\n",
    "        'increment': increment\n",
    "    }\n",
    "\n",
    "# Print the result\n",
    "print(result_dict)"
   ]
  },
  {
   "cell_type": "code",
   "execution_count": null,
   "id": "76c99903-191c-40f4-860c-200cf4353c61",
   "metadata": {},
   "outputs": [],
   "source": [
    "def seed_journey(seed_value, mappings):\n",
    "    updated_value = seed_value\n",
    "    for key in mappings:\n",
    "        mapping = result_dict[key]\n",
    "        updated_value = next((updated_value + inc for src, rng, inc in zip(mapping['source'], mapping['range'], mapping['increment']) if src <= updated_value < src + rng), updated_value)\n",
    "    return updated_value\n",
    "\n",
    "# Use list comprehension to iterate through each seed and update its value across all dictionaries\n",
    "locations = [seed_journey(seed, result_dict) for seed in sequential_values_6a] # 20m values\n",
    "\n",
    "# Print the result\n",
    "print(f'The lowest location number that corresponds to any of the initial seed numbers is {min(locations)}.')\n"
   ]
  },
  {
   "cell_type": "raw",
   "id": "bdfe6d0b-57c5-4607-a842-b1140405f7ae",
   "metadata": {},
   "source": [
    "The lowest location number that corresponds to any of the initial seed numbers is 137516820."
   ]
  }
 ],
 "metadata": {
  "kernelspec": {
   "display_name": "Python 3 (ipykernel)",
   "language": "python",
   "name": "python3"
  },
  "language_info": {
   "codemirror_mode": {
    "name": "ipython",
    "version": 3
   },
   "file_extension": ".py",
   "mimetype": "text/x-python",
   "name": "python",
   "nbconvert_exporter": "python",
   "pygments_lexer": "ipython3",
   "version": "3.10.12"
  },
  "widgets": {
   "application/vnd.jupyter.widget-state+json": {
    "state": {},
    "version_major": 2,
    "version_minor": 0
   }
  }
 },
 "nbformat": 4,
 "nbformat_minor": 5
}
