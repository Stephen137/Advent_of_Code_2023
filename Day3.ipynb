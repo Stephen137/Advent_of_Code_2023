{
 "cells": [
  {
   "cell_type": "markdown",
   "id": "3815c97a-69fc-431b-8b79-58908e36232a",
   "metadata": {},
   "source": [
    "### Day 3: Gear Ratios\n",
    "You and the Elf eventually reach a gondola lift station; he says the gondola lift will take you up to the water source, but this is as far as he can bring you. You go inside.\n",
    "\n",
    "It doesn't take long to find the gondolas, but there seems to be a problem: they're not moving.\n",
    "\n",
    "\"Aaah!\"\n",
    "\n",
    "You turn around to see a slightly-greasy Elf with a wrench and a look of surprise. \"Sorry, I wasn't expecting anyone! The gondola lift isn't working right now; it'll still be a while before I can fix it.\" You offer to help.\n",
    "\n",
    "The engineer explains that an engine part seems to be missing from the engine, but nobody can figure out which one. If you can add up all the part numbers in the engine schematic, it should be easy to work out which part is missing.\n",
    "\n",
    "The engine schematic (your puzzle input) consists of a visual representation of the engine. There are lots of numbers and symbols you don't really understand, but apparently any number adjacent to a symbol, even diagonally, is a \"part number\" and should be included in your sum. (Periods (.) do not count as a symbol.)\n",
    "\n",
    "Here is an example engine schematic:"
   ]
  },
  {
   "cell_type": "markdown",
   "id": "f0fc6f90-ef3f-4710-8876-fd5f936c6749",
   "metadata": {},
   "source": [
    "    467..114..\n",
    "    ...*......\n",
    "    ..35..633.\n",
    "    ......#...\n",
    "    617*......\n",
    "    .....+.58.\n",
    "    ..592.....\n",
    "    ......755.\n",
    "    ...$.*....\n",
    "    .664.598..\n",
    "    \n",
    "    \n",
    "In this schematic, two numbers are not part numbers because they are not adjacent to a symbol: 114 (top right) and 58 (middle right). Every other number is adjacent to a symbol and so is a part number; their sum is 4361.\n",
    "\n",
    "Of course, the actual engine schematic is much larger. What is the sum of all of the part numbers in the engine schematic?"
   ]
  },
  {
   "cell_type": "markdown",
   "id": "f6bac41b-9769-4809-9896-c53c3bd9c42c",
   "metadata": {},
   "source": [
    "### Test"
   ]
  },
  {
   "cell_type": "code",
   "execution_count": 1,
   "id": "845cd584-5c20-4699-a766-e86820b809e7",
   "metadata": {},
   "outputs": [],
   "source": [
    "# load in sample puzzle input\n",
    "file_path = 'data/day3test.txt' \n",
    "\n",
    "try:\n",
    "    with open(file_path, 'r') as file:\n",
    "        gear_ratios_test = file.read()\n",
    "except FileNotFoundError:\n",
    "    print(f\"File not found: {file_path}\")\n",
    "    gear_ratios_test = None"
   ]
  },
  {
   "cell_type": "code",
   "execution_count": 2,
   "id": "97fbef4a-bbeb-49a5-9680-a88a36d523d1",
   "metadata": {},
   "outputs": [
    {
     "name": "stdout",
     "output_type": "stream",
     "text": [
      "467..114..\n",
      "...*......\n",
      "..35..633.\n",
      "......#...\n",
      "617*......\n",
      ".....+.58.\n",
      "..592.....\n",
      "......755.\n",
      "...$.*....\n",
      ".664.598..\n"
     ]
    }
   ],
   "source": [
    "print(gear_ratios_test)"
   ]
  },
  {
   "cell_type": "code",
   "execution_count": 6,
   "id": "a5a49a8c-d415-4efb-9ed4-b31e5ec486f3",
   "metadata": {},
   "outputs": [
    {
     "name": "stdout",
     "output_type": "stream",
     "text": [
      "The sum of all of the part numbers in the engine schematic is 4361.\n",
      "Test passed!\n"
     ]
    }
   ],
   "source": [
    "lines = gear_ratios_test.strip().split('\\n')\n",
    "\n",
    "# rows\n",
    "n = len(lines)\n",
    "\n",
    "# columns\n",
    "m = len(lines[0])\n",
    "\n",
    "# define what is considered a symbol\n",
    "def is_symbol(i,j):\n",
    "    if not(0 <= i < n and 0 <=j < m):\n",
    "        return False\n",
    "    \n",
    "    return lines[i][j] != \".\" and not lines[i][j].isdigit()\n",
    "\n",
    "sum_of_parts_test = 0 \n",
    "\n",
    "for i, line in enumerate(lines):\n",
    "    start = 0 \n",
    "    \n",
    "    # initiate column count\n",
    "    j = 0\n",
    "    \n",
    "    \n",
    "    while j < m:\n",
    "        start = j\n",
    "        num = \"\"\n",
    "        while j < m and line[j].isdigit():\n",
    "            num += line[j]\n",
    "            j += 1\n",
    "            \n",
    "        if num == \"\":\n",
    "            j += 1\n",
    "            continue\n",
    "            \n",
    "        num = int(num)\n",
    "        \n",
    "        # Look around the number (incl diagonals)\n",
    "        if is_symbol(i, start-1) or is_symbol(i,j):\n",
    "            sum_of_parts_test += num\n",
    "            j += 1\n",
    "            continue\n",
    "            \n",
    "        for k in range(start-1, j+1):\n",
    "            if is_symbol(i-1, k) or is_symbol(i+1, k):\n",
    "                sum_of_parts_test += num\n",
    "                break                         \n",
    "\n",
    "# validation\n",
    "print(f'The sum of all of the part numbers in the engine schematic is {sum_of_parts}.')\n",
    "\n",
    "if sum_of_parts_test == 4361:\n",
    "    print(\"Test passed!\")\n",
    "else:\n",
    "    print(\"Sorry. Wrong answer. Keep trying!\")"
   ]
  },
  {
   "cell_type": "markdown",
   "id": "d23bd207-e74b-411c-88e5-642b51056690",
   "metadata": {},
   "source": [
    "### Attempted Solution"
   ]
  },
  {
   "cell_type": "code",
   "execution_count": 5,
   "id": "22a76fff-2ff8-49f3-b463-991a0946a7da",
   "metadata": {},
   "outputs": [],
   "source": [
    "# load in sample puzzle input\n",
    "file_path = 'data/gear_ratios.txt' \n",
    "\n",
    "try:\n",
    "    with open(file_path, 'r') as file:\n",
    "        gear_ratios = file.read()\n",
    "except FileNotFoundError:\n",
    "    print(f\"File not found: {file_path}\")\n",
    "    gear_ratios = None"
   ]
  },
  {
   "cell_type": "code",
   "execution_count": 7,
   "id": "65ae8920-b9b3-4f5d-a782-7fc3c4e53fe2",
   "metadata": {},
   "outputs": [
    {
     "name": "stdout",
     "output_type": "stream",
     "text": [
      "The sum of all of the part numbers in the engine schematic is 540025.\n"
     ]
    }
   ],
   "source": [
    "lines = gear_ratios.strip().split('\\n')\n",
    "\n",
    "# rows\n",
    "n = len(lines)\n",
    "\n",
    "# columns\n",
    "m = len(lines[0])\n",
    "\n",
    "# define what is considered a symbol\n",
    "def is_symbol(i,j):\n",
    "    if not(0 <= i < n and 0 <=j < m):\n",
    "        return False\n",
    "    \n",
    "    return lines[i][j] != \".\" and not lines[i][j].isdigit()\n",
    "\n",
    "# initiate count \n",
    "sum_of_parts = 0 \n",
    "\n",
    "for i, line in enumerate(lines):\n",
    "    start = 0 \n",
    "    \n",
    "    # initiate column count\n",
    "    j = 0\n",
    "    \n",
    "    \n",
    "    while j < m:\n",
    "        start = j\n",
    "        num = \"\"\n",
    "        while j < m and line[j].isdigit():\n",
    "            num += line[j]\n",
    "            j += 1\n",
    "            \n",
    "        if num == \"\":\n",
    "            j += 1\n",
    "            continue\n",
    "            \n",
    "        num = int(num)\n",
    "        \n",
    "        # Look around the number (incl diagonals)\n",
    "        if is_symbol(i, start-1) or is_symbol(i,j):\n",
    "            sum_of_parts += num\n",
    "            j += 1\n",
    "            continue\n",
    "            \n",
    "        for k in range(start-1, j+1):\n",
    "            if is_symbol(i-1, k) or is_symbol(i+1, k):\n",
    "                sum_of_parts += num\n",
    "                break                         \n",
    "\n",
    "# validation\n",
    "print(f'The sum of all of the part numbers in the engine schematic is {sum_of_parts}.')\n"
   ]
  },
  {
   "cell_type": "markdown",
   "id": "a9c35fd0-8fd7-4bbf-956d-619d2deb3239",
   "metadata": {},
   "source": [
    "### Part 2"
   ]
  },
  {
   "cell_type": "markdown",
   "id": "ccee84dc-d4c1-4568-ac48-8b07f66de19b",
   "metadata": {},
   "source": [
    "The engineer finds the missing part and installs it in the engine! As the engine springs to life, you jump in the closest gondola, finally ready to ascend to the water source.\n",
    "\n",
    "You don't seem to be going very fast, though. Maybe something is still wrong? Fortunately, the gondola has a phone labeled \"help\", so you pick it up and the engineer answers.\n",
    "\n",
    "Before you can explain the situation, she suggests that you look out the window. There stands the engineer, holding a phone in one hand and waving with the other. You're going so slowly that you haven't even left the station. You exit the gondola.\n",
    "\n",
    "The missing part wasn't the only issue - one of the gears in the engine is wrong. `A gear is any * symbol that is adjacent to exactly two part numbers`. Its gear ratio is the result of multiplying those two numbers together.\n",
    "\n",
    "This time, you need to find the gear ratio of every gear and add them all up so that the engineer can figure out which gear needs to be replaced.\n",
    "\n",
    "Consider the same engine schematic again:\n",
    "\n",
    "    467..114..\n",
    "    ...*......\n",
    "    ..35..633.\n",
    "    ......#...\n",
    "    617*......\n",
    "    .....+.58.\n",
    "    ..592.....\n",
    "    ......755.\n",
    "    ...$.*....\n",
    "    .664.598..\n",
    "    \n",
    "\n",
    "In this schematic, there are two gears. The first is in the top left; it has part numbers 467 and 35, so its gear ratio is 16345. The second gear is in the lower right; its gear ratio is 451490. (The * adjacent to 617 is not a gear because it is only adjacent to one part number.) Adding up all of the gear ratios produces 467835."
   ]
  },
  {
   "cell_type": "markdown",
   "id": "74fa983f-8474-4cff-ad1f-658ba3558aad",
   "metadata": {},
   "source": [
    "### Test"
   ]
  },
  {
   "cell_type": "code",
   "execution_count": 10,
   "id": "6ea1ba1e-6130-4d12-927d-c029ffde7395",
   "metadata": {},
   "outputs": [
    {
     "name": "stdout",
     "output_type": "stream",
     "text": [
      "The sum of all of the gear ratios in our engine schematics is 467835.\n",
      "Test passed!\n"
     ]
    }
   ],
   "source": [
    "lines = gear_ratios_test.strip().split('\\n')\n",
    "\n",
    "n = len(lines)\n",
    "m = len(lines[0])\n",
    "\n",
    "valid_numbers = [[[] for _ in range(m)] for _ in range(n)]\n",
    "\n",
    "def is_symbol(i, j, num):\n",
    "    if not (0 <= i < n and 0 <= j < m):\n",
    "        return False\n",
    "\n",
    "    if lines[i][j] == \"*\":\n",
    "        valid_numbers[i][j].append(num)\n",
    "    return lines[i][j] != \".\" and not lines[i][j].isdigit()\n",
    "\n",
    "\n",
    "sum_gear_ratios_test = 0\n",
    "\n",
    "for i, line in enumerate(lines):\n",
    "    start = 0\n",
    "\n",
    "    j = 0\n",
    "\n",
    "    while j < m:\n",
    "        start = j\n",
    "        num = \"\"\n",
    "        while j < m and line[j].isdigit():\n",
    "            num += line[j]\n",
    "            j += 1\n",
    "\n",
    "        if num == \"\":\n",
    "            j += 1\n",
    "            continue\n",
    "\n",
    "        num = int(num)\n",
    "\n",
    "        # Number ended, look around\n",
    "        is_symbol(i, start-1, num) or is_symbol(i, j, num)\n",
    "\n",
    "        for k in range(start-1, j+1):\n",
    "            is_symbol(i-1, k, num) or is_symbol(i+1, k, num)\n",
    "\n",
    "for i in range(n):\n",
    "    for j in range(m):\n",
    "        nums = valid_numbers[i][j]\n",
    "        if lines[i][j] == \"*\" and len(nums) == 2:\n",
    "            sum_gear_ratios_test += nums[0] * nums[1]\n",
    "            \n",
    "# validation\n",
    "print(f'The sum of all of the gear ratios in our engine schematics is {sum_gear_ratios_test}.')\n",
    "if sum_gear_ratios_test == 467835:\n",
    "    print(\"Test passed!\")\n",
    "else:\n",
    "    print(\"Sorry. Wrong answer. Keep trying!\")            "
   ]
  },
  {
   "cell_type": "markdown",
   "id": "3a97656f-4266-4635-98eb-66767c845ec7",
   "metadata": {},
   "source": [
    "### Attempted Solution"
   ]
  },
  {
   "cell_type": "code",
   "execution_count": 11,
   "id": "64876245-2296-48f7-bbcf-69e491c80438",
   "metadata": {},
   "outputs": [
    {
     "name": "stdout",
     "output_type": "stream",
     "text": [
      "The sum of all of the gear ratios in our engine schematics is 84584891.\n"
     ]
    }
   ],
   "source": [
    "lines = gear_ratios.strip().split('\\n')\n",
    "\n",
    "# rows\n",
    "n = len(lines)\n",
    "# columns\n",
    "m = len(lines[0])\n",
    "\n",
    "valid_numbers = [[[] for _ in range(m)] for _ in range(n)]\n",
    "\n",
    "# define what is considered a symbol\n",
    "def is_symbol(i, j, num):\n",
    "    if not (0 <= i < n and 0 <= j < m):\n",
    "        return False\n",
    "\n",
    "    if lines[i][j] == \"*\":\n",
    "        valid_numbers[i][j].append(num)\n",
    "    return lines[i][j] != \".\" and not lines[i][j].isdigit()\n",
    "\n",
    "\n",
    "# initiate count\n",
    "sum_gear_ratios = 0\n",
    "\n",
    "# iterate through the lines\n",
    "for i, line in enumerate(lines):\n",
    "    start = 0\n",
    "\n",
    "    j = 0\n",
    "\n",
    "    while j < m:\n",
    "        start = j\n",
    "        num = \"\"\n",
    "        while j < m and line[j].isdigit():\n",
    "            num += line[j]\n",
    "            j += 1\n",
    "\n",
    "        if num == \"\":\n",
    "            j += 1\n",
    "            continue\n",
    "\n",
    "        num = int(num)\n",
    "\n",
    "        # Number ended, look around\n",
    "        is_symbol(i, start-1, num) or is_symbol(i, j, num)\n",
    "\n",
    "        for k in range(start-1, j+1):\n",
    "            is_symbol(i-1, k, num) or is_symbol(i+1, k, num)\n",
    "\n",
    "for i in range(n):\n",
    "    for j in range(m):\n",
    "        nums = valid_numbers[i][j]\n",
    "        if lines[i][j] == \"*\" and len(nums) == 2:\n",
    "            sum_gear_ratios += nums[0] * nums[1]\n",
    "\n",
    "# validation\n",
    "print(f'The sum of all of the gear ratios in our engine schematics is {sum_gear_ratios}.')"
   ]
  },
  {
   "cell_type": "code",
   "execution_count": null,
   "id": "ab3e2e08-f6ad-473d-8afc-a1f86990da4b",
   "metadata": {},
   "outputs": [],
   "source": []
  }
 ],
 "metadata": {
  "kernelspec": {
   "display_name": "Python 3 (ipykernel)",
   "language": "python",
   "name": "python3"
  },
  "language_info": {
   "codemirror_mode": {
    "name": "ipython",
    "version": 3
   },
   "file_extension": ".py",
   "mimetype": "text/x-python",
   "name": "python",
   "nbconvert_exporter": "python",
   "pygments_lexer": "ipython3",
   "version": "3.10.12"
  },
  "widgets": {
   "application/vnd.jupyter.widget-state+json": {
    "state": {},
    "version_major": 2,
    "version_minor": 0
   }
  }
 },
 "nbformat": 4,
 "nbformat_minor": 5
}
